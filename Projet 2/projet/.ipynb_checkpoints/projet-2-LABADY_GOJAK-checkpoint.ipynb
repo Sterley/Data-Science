{
 "cells": [
  {
   "cell_type": "markdown",
   "metadata": {},
   "source": [
    "IA & Data science (LU3IN0226) -- 2021-2022\n",
    "--------\n",
    "*&copy; Equipe pédagogique: Vincent Guigue, Christophe Marsala, Olivier Schwander.*"
   ]
  },
  {
   "cell_type": "markdown",
   "metadata": {},
   "source": [
    "<font size=\"+1\" color=\"RED\"><b>[Q]</b></font> <font size=\"+1\"><b>Indiquer dans la boîte ci-dessous vos noms et prénoms :</b></font>"
   ]
  },
  {
   "cell_type": "markdown",
   "metadata": {},
   "source": [
    "*LABADY Sterley Gilbert - GOJAK Zlatan*"
   ]
  },
  {
   "cell_type": "markdown",
   "metadata": {},
   "source": [
    "<b>Ce projet peut être fait en binôme (et c'est fortement conseillé) ou tout seul.</b>\n",
    "Le nom de chaque membre du binôme doit être indiqué, et un seul rendu sur un des deux comptes Moodle doit être fait.\n",
    "\n",
    "<b>Les groupes de plus de 2 personnes ne sont pas autorisés.</b>"
   ]
  },
  {
   "cell_type": "markdown",
   "metadata": {},
   "source": [
    "<font color=\"RED\" size=\"+1\"><b>[Q]</b></font> **Renommer ce fichier ipython**\n",
    "\n",
    "Tout en haut de cette page, cliquer sur <tt>projet-2</tt> et rajouter à la suite de <tt>projet-2</tt> les noms des membres du binômes séparés par un tiret.\n",
    "\n",
    "<font color=\"RED\" size=\"+1\">IMPORTANT: soumission de votre fichier final</font>\n",
    "\n",
    "**Nom à donner au notebook** : *projet-2-Nom1_Nom2.ipynb* \n",
    "- *Nom1* et *Nom2* : noms des membres du binôme\n",
    "\n",
    "**Le compte-rendu doit être rendu sur la page Moodle.**"
   ]
  },
  {
   "cell_type": "markdown",
   "metadata": {},
   "source": [
    "# Projet 2 - avril-mai 2022\n",
    "\n",
    "\n",
    "<font size=\"+1\" color=\"RED\"><b>Date de rendu : lundi 9 mai, 19h au plus tard</b></font>\n",
    "    \n",
    "(<b>attention! le site Moodle ferme à 19h pile !</b> prévoyez de vous y connecter au moins 15mn avant la fermeture...)\n",
    "\n",
    "\n",
    "Vous devez compléter ce notebook en rajoutant vos expérimentations avec vos algorithmes d'apprentissage sur les données Agribalise qui sont des données ouvertes dont la documentation peut être consultée ici : https://doc.agribalyse.fr/documentation/acces-donnees\n",
    "\n",
    "Très important : les fichiers de données doivent être placés de façon à respecter la structure de fichiers suivante :\n",
    "\n",
    "          --iads/\n",
    "              -- Classifiers.py\n",
    "              -- etc.\n",
    "          -- projet/\n",
    "              -- ce_notebook.ipynb\n",
    "              -- Donnees_Agribalyse/\n",
    "                  -- detail_ingredient.csv\n",
    "                  -- detail_etape.csv\n",
    "                  -- synthese.csv\n",
    "\n",
    "Dans le notebook, le chargement des fichiers de données considèrera donc cette arborescence.\n",
    "\n",
    "## Travail à faire\n",
    "\n",
    "Appliquer les algorithmes d'apprentissage vus tout au long du semestre sur les données afin de mettre en évidence des résultats intéressants.\n",
    "Deux problèmes, au moins, doivent être traités:\n",
    "- un problème d'apprentissage supervisé\n",
    "- un problème d'apprentissage non supervisé\n",
    "\n",
    "\n",
    "## Travail à rendre\n",
    "Ce qui doit être remis avant la date limite : un fichier archive (`.tar`, `.tgz`, ou `.zip` uniquement) contenant:\n",
    "- ce notebook complété. Il doit pouvoir être exécuté sans autre apport (pensez à vous en assurer avant de le rendre). \n",
    "- votre librairie iads sous la forme d'une archive du répertoire iads/\n",
    "- un fichier PDF dont le nom est de la forme: *projet-1-Nom1_Nom2.pdf* qui correspond à un poster décrivant l'ensemble des expérimentations menées et les résultats obtenus.\n",
    "\n",
    "\n",
    "<b>IMPORTANT</b>: Les fichiers de données ne doivent pas être inclus dans votre archive !\n",
    "\n",
    "## Soutenance des projets\n",
    "La soutenance sera organisée après la semaine d'examens de mai entre le 17 et le 25 mai (la date sera précisé sur le forum du Moodle).\n",
    "\n",
    "La <b>soutenance est obligatoire</b> : tout projet pour lequel une soutenance n'a pas eu lieu sera noté $0$.\n",
    "\n",
    "Modalités de la soutenance:\n",
    "- durée de la soutenance : 10 mn pour un binôme, 7 mn pour un monôme ;\n",
    "- elle a lieu devant un ordinateur avec le notebook et le poster comme support ;\n",
    "    - elle commence par une rapide présentation des expérimentations réalisées et résultats obtenus (max. 4 à 5mns)\n",
    "    - puis elle se poursuit par des questions posées individuellement aux membres du binômes sur les expériences ou le code python réalisé.\n",
    "- la note de soutenance est individuelle pour chaque membre d'un binôme.\n",
    "\n",
    "\n"
   ]
  },
  {
   "cell_type": "markdown",
   "metadata": {},
   "source": [
    "## Exemples"
   ]
  },
  {
   "cell_type": "code",
   "execution_count": 203,
   "metadata": {},
   "outputs": [
    {
     "name": "stdout",
     "output_type": "stream",
     "text": [
      "The autoreload extension is already loaded. To reload it, use:\n",
      "  %reload_ext autoreload\n"
     ]
    }
   ],
   "source": [
    "# Importation des librairies standards:\n",
    "import numpy as np\n",
    "import pandas as pd\n",
    "import matplotlib.pyplot as plt\n",
    "import copy\n",
    "from sklearn.preprocessing import LabelEncoder\n",
    "import random\n",
    "%matplotlib inline  \n",
    "\n",
    "# Importation de votre librairie iads:\n",
    "# La ligne suivante permet de préciser le chemin d'accès à la librairie iads\n",
    "#import sys\n",
    "#sys.path.append('../')   # iads doit être dans le répertoire frère du répertoire courant !\n",
    "\n",
    "# Importation de la librairie iads\n",
    "#import iads as iads\n",
    "\n",
    "# importation de Classifiers\n",
    "#from iads import Classifiers as cl\n",
    "\n",
    "# importation de utils\n",
    "#from iads import utils as ut\n",
    "\n",
    "# importation de Clustering\n",
    "#from iads import Clustering as clust\n",
    "\n",
    "# commande TRES utile pour recharger automatiquement le code que vous modifiez dans les modules\n",
    "%load_ext autoreload\n",
    "%autoreload 2"
   ]
  },
  {
   "cell_type": "markdown",
   "metadata": {},
   "source": [
    "## Un problème d'apprentissage supervisé"
   ]
  },
  {
   "cell_type": "code",
   "execution_count": 204,
   "metadata": {},
   "outputs": [
    {
     "name": "stdout",
     "output_type": "stream",
     "text": [
      "[['Ambiant (moyenne)', 2], ['Glacé', 4], ['Ambiant (long)', 1], ['Congelé', 3], ['Ambiant (court)', 0]]\n"
     ]
    },
    {
     "data": {
      "text/plain": [
       "'Glacé'"
      ]
     },
     "execution_count": 204,
     "metadata": {},
     "output_type": "execute_result"
    }
   ],
   "source": [
    "# Traitement des données\n",
    "data = pd.read_csv(\"Donnees_Agribalyse/synthese.csv\")\n",
    "\n",
    "data_noms = []\n",
    "data_noms.append(\"Sous-groupe d'aliment\")\n",
    "data_noms.append(\"Matériau d'emballage\")\n",
    "data_noms.append('Préparation')\n",
    "\n",
    "label_enc = LabelEncoder() \n",
    "label_unique = data['Livraison'].unique()\n",
    "label_set_i = label_enc.fit_transform(data['Livraison'])\n",
    "label_set = np.array(data['Livraison'])\n",
    "label_i_unique = []\n",
    "for l in label_unique:\n",
    "    ind = (np.where(label_set==l))[0][0]\n",
    "    label_i_unique.append(label_set_i[ind])\n",
    "\n",
    "data = data[data_noms]\n",
    "demons = copy.deepcopy(np.array(data))\n",
    "data = pd.get_dummies(data, columns = data_noms) \n",
    "data_desc = np.array(data)\n",
    "\n",
    "demonstration = {}\n",
    "for i in range(5):\n",
    "    ind = random.randint(0, 2478)\n",
    "    while ind in demonstration.keys():\n",
    "        ind = random.randint(0, 2478)\n",
    "    demonstration[ind] = [demons[ind], data_desc[ind]]\n",
    "    \n",
    "data_desc = data_desc.tolist()\n",
    "label_set_i = label_set_i.tolist()\n",
    "test_desc = []\n",
    "test_label_set_i = []\n",
    "indc = []\n",
    "for i in range(479):\n",
    "    ind = random.randint(0, 2478)\n",
    "    while ind in indc or ind >= len(label_set_i):\n",
    "        ind = random.randint(0, 2478)\n",
    "    indc.append(ind)\n",
    "    test_desc.append(data_desc[ind])\n",
    "    test_label_set_i.append(label_set_i[ind])\n",
    "    del data_desc[ind]\n",
    "    del label_set_i[ind]\n",
    "test_desc = np.array(test_desc)\n",
    "test_label_set_i =  np.array(test_label_set_i)\n",
    "data_desc = np.array(data_desc)\n",
    "label_set_i =  np.array(label_set_i)\n",
    "\n",
    "# Class correspondant à chaque y de Livraison\n",
    "label_and_class = []\n",
    "for i in range(len(label_unique)):\n",
    "    tmp = []\n",
    "    tmp.append(label_unique[i])\n",
    "    tmp.append(label_i_unique[i])\n",
    "    label_and_class.append(tmp)\n",
    "print(label_and_class)\n",
    "\n",
    "def get_livraison(class_):\n",
    "    for l in label_and_class:\n",
    "        if class_ == l[1]:\n",
    "            return l[0]\n",
    "get_livraison(4)"
   ]
  },
  {
   "cell_type": "code",
   "execution_count": 205,
   "metadata": {},
   "outputs": [],
   "source": [
    "class Classifier:\n",
    "    def __init__(self, input_dimension):\n",
    "        raise NotImplementedError(\"Please Implement this method\")\n",
    "    def train(self, desc_set, label_set):\n",
    "        raise NotImplementedError(\"Please Implement this method\")\n",
    "    def score(self,x):\n",
    "        raise NotImplementedError(\"Please Implement this method\")\n",
    "    def predict(self, x):\n",
    "        raise NotImplementedError(\"Please Implement this method\")\n",
    "    def accuracy(self, desc_set, label_set):\n",
    "        count=0\n",
    "        for i in range(len(label_set)):\n",
    "              if self.predict(desc_set[i]) == label_set[i]:\n",
    "                    count+=1\n",
    "        return count/len(label_set)"
   ]
  },
  {
   "cell_type": "code",
   "execution_count": 206,
   "metadata": {},
   "outputs": [],
   "source": [
    "class ClassifierKNN_Multi(Classifier):\n",
    "    def __init__(self, input_dimension, k):\n",
    "        self.input_dimension = input_dimension\n",
    "        self.k=k\n",
    "    def score(self,x):\n",
    "        size = np.linalg.norm(self.desc_set-x, axis=1)\n",
    "        argsort = np.argsort(size)\n",
    "        dict_score = {}\n",
    "        lab = []\n",
    "        for i in argsort[:self.k]:\n",
    "            the_lab = self.label_set[i]\n",
    "            if the_lab not in lab:\n",
    "                lab.append(the_lab)\n",
    "                dict_score[the_lab] = 1\n",
    "            else:\n",
    "                dict_score[the_lab] = dict_score[the_lab] + 1\n",
    "        return dict_score, lab\n",
    "    def predict(self, x):\n",
    "        dict_score, lab = self.score(x)\n",
    "        ret = lab[0]\n",
    "        max_score = dict_score[ret]\n",
    "        for l in lab:\n",
    "            if dict_score[l] > max_score:\n",
    "                ret = l\n",
    "        return ret\n",
    "    def train(self, desc_set, label_set):      \n",
    "        self.desc_set = desc_set\n",
    "        self.label_set = label_set"
   ]
  },
  {
   "cell_type": "code",
   "execution_count": 207,
   "metadata": {},
   "outputs": [
    {
     "name": "stdout",
     "output_type": "stream",
     "text": [
      "Loading... 10 %\n",
      "Loading... 30 %\n",
      "Loading... 50 %\n",
      "Loading... 70 %\n",
      "Loading... 90 %\n"
     ]
    },
    {
     "data": {
      "image/png": "[encoded data removed]",
      "text/plain": [
       "<Figure size 432x288 with 1 Axes>"
      ]
     },
     "metadata": {
      "needs_background": "light"
     },
     "output_type": "display_data"
    },
    {
     "name": "stdout",
     "output_type": "stream",
     "text": [
      "Meilleur K = 5 avec une accuracy de 0.9498956158663883\n"
     ]
    }
   ],
   "source": [
    "# Recherche du meilleur k\n",
    "# on stocke les accuracies dans une liste :\n",
    "accuracies = []\n",
    "# seuil max des valeurs de k à regarder:\n",
    "seuil_k = 10\n",
    "# toutes les valeurs de k à regarder:\n",
    "valeurs_k = [k for k in range(1,seuil_k,2)]\n",
    "\n",
    "k_acc = []\n",
    "\n",
    "for i in (valeurs_k):\n",
    "    print(\"Loading...\",int(i/seuil_k*100),\"%\")\n",
    "    ClassKNN = ClassifierKNN_Multi(len(data_desc[0]), i)\n",
    "    ClassKNN.train(data_desc,label_set_i)\n",
    "    acc = ClassKNN.accuracy(test_desc, test_label_set_i)\n",
    "    accuracies.append(acc)\n",
    "    tmp = []\n",
    "    tmp.append(i)\n",
    "    tmp.append(acc)\n",
    "    k_acc.append(tmp)\n",
    "# Tracé de la variation de l'accuracy en fonction de la valeur de k:\n",
    "plt.plot(valeurs_k, accuracies)  \n",
    "plt.ylabel('Accuracy')\n",
    "plt.xlabel(\"k\")\n",
    "plt.show()\n",
    "\n",
    "meilleur_k = k_acc[0][0]\n",
    "meilleur_acc = k_acc[0][1]\n",
    "for ka in k_acc:\n",
    "    if ka[1] > meilleur_acc:\n",
    "        meilleur_k = ka[0]\n",
    "        meilleur_acc = ka[1]\n",
    "        \n",
    "print(\"Meilleur K =\", meilleur_k,\"avec une accuracy de\", meilleur_acc)"
   ]
  },
  {
   "cell_type": "code",
   "execution_count": 208,
   "metadata": {},
   "outputs": [
    {
     "name": "stdout",
     "output_type": "stream",
     "text": [
      "Accuracy:  0.9498956158663883\n",
      "\n",
      "ex : 1141\n",
      "Aliments : légumes\n",
      "Emballage : Pas d'emballage\n",
      "Préparation : Réfrigéré chez le consommateur\n",
      "----> Livraison : Ambiant (moyenne)\n",
      "\n",
      "ex : 1217\n",
      "Aliments : farines et pâtes à tarte\n",
      "Emballage : LPDE\n",
      "Préparation : Four \n",
      "----> Livraison : Glacé\n",
      "\n",
      "ex : 1841\n",
      "Aliments : pommes de terre et autres tubercules\n",
      "Emballage : PP\n",
      "Préparation : Poêle\n",
      "----> Livraison : Glacé\n",
      "\n",
      "ex : 2061\n",
      "Aliments : légumes\n",
      "Emballage : Pas d'emballage\n",
      "Préparation : Pas de préparation\n",
      "----> Livraison : Ambiant (moyenne)\n",
      "\n",
      "ex : 539\n",
      "Aliments : légumes\n",
      "Emballage : LPDE\n",
      "Préparation : Pas de préparation\n",
      "----> Livraison : Congelé\n"
     ]
    }
   ],
   "source": [
    "# Création d'un classifieur KNN de dimension len(data_desc[0]):\n",
    "un_KNN = ClassifierKNN_Multi(len(data_desc[0]),meilleur_k)\n",
    "# Par définition, ce classifieur n'a pas besoin d'entraînement\n",
    "un_KNN.train(data_desc,label_set_i)\n",
    "# Affichage du taux de bonne classification   \n",
    "print(\"Accuracy: \",un_KNN.accuracy(test_desc, test_label_set_i))\n",
    "\n",
    "# Avoir la méthode de livraison pour quelques examples dans le test_desc\n",
    "for k in demonstration.keys():\n",
    "    print(\"\\nex :\", k)\n",
    "    print(\"Aliments :\", demonstration[k][0][0])\n",
    "    print(\"Emballage :\", demonstration[k][0][1])\n",
    "    print(\"Préparation :\", demonstration[k][0][2])\n",
    "    print(\"----> Livraison :\", get_livraison(un_KNN.predict(demonstration[k][1])))"
   ]
  },
  {
   "cell_type": "markdown",
   "metadata": {},
   "source": [
    "## Un problème d'apprentissage non supervisé"
   ]
  },
  {
   "cell_type": "code",
   "execution_count": 209,
   "metadata": {},
   "outputs": [],
   "source": [
    "def normalisation(DataFrame):\n",
    "    df = DataFrame.copy()\n",
    "    for column in DataFrame.columns: \n",
    "        df[column] = (df[column] - df[column].min()) /( df[column].max() - df[column].min())\n",
    "    return(df)"
   ]
  },
  {
   "cell_type": "code",
   "execution_count": 210,
   "metadata": {},
   "outputs": [
    {
     "data": {
      "image/png": "[encoded data removed]",
      "text/plain": [
       "<Figure size 432x288 with 1 Axes>"
      ]
     },
     "metadata": {
      "needs_background": "light"
     },
     "output_type": "display_data"
    }
   ],
   "source": [
    "data = pd.read_csv(\"Donnees_Agribalyse/detail_etape.csv\")\n",
    "t1 = data.columns[25]\n",
    "t2 = data.columns[19]\n",
    "data_noms = []\n",
    "data_noms.append(t1)\n",
    "data_noms.append(t2)\n",
    "data = data[data_noms]\n",
    "data_2D_norm = normalisation(data)\n",
    "data = np.array(data_2D_norm)\n",
    "data = np.array(data)\n",
    "\n",
    "plt.xlabel(t1)\n",
    "plt.ylabel(t2)\n",
    "plt.scatter(data[:,0],data[:,1], s = 10)\n",
    "plt.show()"
   ]
  },
  {
   "cell_type": "code",
   "execution_count": 211,
   "metadata": {},
   "outputs": [],
   "source": [
    "def dist_euclidienne(vec1,vec2):\n",
    "    return np.linalg.norm(vec1 - vec2)\n",
    "\n",
    "def dist_vect(v1, v2):\n",
    "    return dist_euclidienne(v1, v2)\n",
    "\n",
    "def centroide(DataFrame):\n",
    "    data1 = np.array(DataFrame)\n",
    "    res = np.mean(data1[:,-2:], axis=0)\n",
    "    return res\n",
    "\n",
    "def inertie_cluster(Ens):\n",
    "    centro = centroide(Ens)\n",
    "    s = 0\n",
    "    Ens = np.array(Ens)\n",
    "    for x in Ens:\n",
    "        s += (dist_vect(x, centro))**2\n",
    "    return s\n",
    "\n",
    "def init_kmeans(K,Ens):\n",
    "    Ens = np.array(Ens)\n",
    "    k_examples = []\n",
    "    k_ind = []\n",
    "    for i in range(K):\n",
    "        ind = random.randint(0, len(Ens)-1)\n",
    "        while ind in k_ind:\n",
    "            ind = random.randint(0, len(Ens)-1)\n",
    "        k_ind.append(ind)\n",
    "        k_examples.append(Ens[ind])\n",
    "    return np.array(k_examples)\n",
    "\n",
    "def plus_proche(Exe,Centres):\n",
    "    ret = 0\n",
    "    min_dist = dist_vect(Exe, Centres[0])\n",
    "    for i in range(len(Centres)):\n",
    "        if dist_vect(Exe, Centres[i]) < min_dist:\n",
    "            ret = i\n",
    "    return ret\n",
    "\n",
    "def affecte_cluster(Base,Centres):\n",
    "    dict = {}\n",
    "    for i in range(len(Centres)):\n",
    "        dict[i] = []\n",
    "    Base = np.array(Base)\n",
    "    for i in range(len(Base)):\n",
    "        ind_pp = plus_proche(Base[i], Centres)\n",
    "        dict[ind_pp].append(i)\n",
    "    return dict\n",
    "\n",
    "def nouveaux_centroides(Base,U):\n",
    "    Base = np.array(Base)\n",
    "    new_Centres = []\n",
    "    keys = U.keys()\n",
    "    for k in keys:\n",
    "        new_Centres.append(centroide(Base[U[k]]))\n",
    "    return np.array(new_Centres)\n",
    "\n",
    "def kmoyennes(K, Base, epsilon, iter_max):\n",
    "    centres_i = init_kmeans(K,Base)\n",
    "    pre_inertie = 0\n",
    "    for i in range(iter_max):\n",
    "        affectations = affecte_cluster(Base,centres_i)\n",
    "        centres_i = nouveaux_centroides(Base,affectations)\n",
    "        inertie_i = inertie_globale(Base, affectations)\n",
    "        if abs(pre_inertie-inertie_i) <= epsilon:\n",
    "            break\n",
    "        else:\n",
    "            pre_inertie = inertie_i\n",
    "    return centres_i, affectations"
   ]
  },
  {
   "cell_type": "code",
   "execution_count": 212,
   "metadata": {
    "scrolled": true
   },
   "outputs": [
    {
     "data": {
      "image/png": "[encoded data removed]",
      "text/plain": [
       "<Figure size 432x288 with 1 Axes>"
      ]
     },
     "metadata": {
      "needs_background": "light"
     },
     "output_type": "display_data"
    }
   ],
   "source": [
    "les_centres, l_affectation = kmoyennes(2, data, 0.001, 1000)\n",
    "\n",
    "list_clust = []\n",
    "for k in l_affectation.keys():\n",
    "    tmp = []\n",
    "    for l in l_affectation[k]:\n",
    "        tmp.append(data[l])\n",
    "    list_clust.append(tmp)\n",
    "\n",
    "colors = ['b', 'g', 'y', 'c', 'm', 'k']\n",
    "plt.xlabel(t1)\n",
    "plt.ylabel(t2)\n",
    "for cl in list_clust:\n",
    "    if len(cl) > 0:\n",
    "        plt.scatter(np.array(cl)[:,0],np.array(cl)[:,1],color=colors[0], s = 10)\n",
    "        del colors[0]\n",
    "        \n",
    "plt.scatter(les_centres[:,0],les_centres[:,1],color='r',marker='x')\n",
    "plt.show()"
   ]
  },
  {
   "cell_type": "markdown",
   "metadata": {},
   "source": [
    "On a pu obtenir 2 clusters qui se distinguent par leur indice d'Appauvrissement de la couche d'ozone.\n",
    "On peut classer ces aliments selon leur niveau d'impact sur la couche d'ozone.\n",
    "\n",
    "\n",
    "A completer...\n",
    "A completer...\n",
    "A completer...\n",
    "A completer..."
   ]
  }
 ],
 "metadata": {
  "kernelspec": {
   "display_name": "Python 3 (ipykernel)",
   "language": "python",
   "name": "python3"
  },
  "language_info": {
   "codemirror_mode": {
    "name": "ipython",
    "version": 3
   },
   "file_extension": ".py",
   "mimetype": "text/x-python",
   "name": "python",
   "nbconvert_exporter": "python",
   "pygments_lexer": "ipython3",
   "version": "3.9.7"
  }
 },
 "nbformat": 4,
 "nbformat_minor": 1
}
