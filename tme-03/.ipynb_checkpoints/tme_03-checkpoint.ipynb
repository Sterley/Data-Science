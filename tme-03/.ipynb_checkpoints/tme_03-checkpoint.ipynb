{
 "cells": [
  {
   "cell_type": "markdown",
   "metadata": {
    "id": "0n2vcSYFmwgh"
   },
   "source": [
    "IA & Data science (LU3IN0226) -- 2021-2022\n",
    "--------\n",
    "*&copy; Equipe pédagogique: Vincent Guigue, Christophe Marsala, Olivier Schwander.*\n"
   ]
  },
  {
   "cell_type": "markdown",
   "metadata": {
    "id": "aB4opGWgmwgk"
   },
   "source": [
    "(version 2 du sujet, remplace celui publié sur le Moodle le lundi 7 février)"
   ]
  },
  {
   "cell_type": "markdown",
   "metadata": {
    "id": "SKF4y7jEmwgl"
   },
   "source": [
    "#  Semaine 3 : algorithme du perceptron de Rosenblatt"
   ]
  },
  {
   "cell_type": "markdown",
   "metadata": {
    "id": "yGK0YGkImwgm"
   },
   "source": [
    "<font size=\"+1\" color=\"RED\">**[Q]**</font> **Indiquer dans la boîte ci-dessous vos noms et prénoms :**"
   ]
  },
  {
   "cell_type": "code",
   "execution_count": null,
   "metadata": {
    "id": "PDBW7x0fnFzj"
   },
   "outputs": [],
   "source": [
    "# GOJAK Zlatan, LABADY Sterley Gilbert "
   ]
  },
  {
   "cell_type": "markdown",
   "metadata": {
    "id": "KEAWWKD1mwgm"
   },
   "source": [
    "*Double-cliquer ici et insérer les noms \n",
    "\n",
    "1.   GOJAK Zlatan\n",
    "2.   LABADY Sterley Gilbert\n",
    "\n",
    "et prénoms de votre binôme*"
   ]
  },
  {
   "cell_type": "markdown",
   "metadata": {
    "id": "Zmeo_GqHmwgm"
   },
   "source": [
    "<font color=\"RED\" size=\"+1\">**[Q]**</font> **Renommer ce fichier ipython**\n",
    "\n",
    "Tout en haut de cette page, cliquer sur <tt>tme-03</tt> et rajouter à la suite de <tt>tme-03</tt> les noms des membres du binômes séparés par un tiret."
   ]
  },
  {
   "cell_type": "code",
   "execution_count": 10,
   "metadata": {
    "colab": {
     "base_uri": "https://localhost:8080/"
    },
    "id": "ITkVKJLDmwgm",
    "outputId": "055d5a3c-05dc-4516-b58c-cfa2cdfcc367"
   },
   "outputs": [
    {
     "name": "stdout",
     "output_type": "stream",
     "text": [
      "Version Python:  3.8.10 (default, Nov 26 2021, 20:14:08) \n",
      "[GCC 9.3.0]\n"
     ]
    }
   ],
   "source": [
    "# Pour connaître la version de python utilisée:\n",
    "import sys\n",
    "print(\"Version Python: \",sys.version)\n",
    "\n",
    "# une version >= 3.7 est recommandée"
   ]
  },
  {
   "cell_type": "markdown",
   "metadata": {
    "id": "YTGLwav5mwgn"
   },
   "source": [
    "<font color=\"RED\" size=\"+1\">IMPORTANT: soumission de votre fichier final</font>\n",
    "\n",
    "**Nom à donner au fichier à poster** : *tme-03-Nom1_Nom2.ipynb* \n",
    "- *Nom1* et *Nom2* : noms des membres du binôme\n",
    "- ne pas compresser ou faire une archive: il faut rendre le fichier ipython tel quel, éventuellement, si vous avez d'autres fichiers vous les rendez séparément.\n",
    "\n",
    "**Echancier pour la soumission de votre compte-rendu:**\n",
    "- le compte-rendu d'une séance doit être remis obligatoirement <font color=\"RED\">avant la séance suivante</font>.\n",
    "\n",
    "**Le compte-rendu est soumis sur la page Moodle.**"
   ]
  },
  {
   "cell_type": "markdown",
   "metadata": {
    "id": "8_C3WIxumwgo"
   },
   "source": [
    "Les imports suivants seront généralement nécessaires:"
   ]
  },
  {
   "cell_type": "code",
   "execution_count": 11,
   "metadata": {
    "colab": {
     "base_uri": "https://localhost:8080/"
    },
    "id": "FeD1OOX1mwgo",
    "outputId": "510e392b-63ea-4ba9-d52d-6da3324ee3e1"
   },
   "outputs": [
    {
     "name": "stdout",
     "output_type": "stream",
     "text": [
      "The autoreload extension is already loaded. To reload it, use:\n",
      "  %reload_ext autoreload\n"
     ]
    }
   ],
   "source": [
    "import numpy as np\n",
    "import pandas as pd\n",
    "from datetime import datetime as dt\n",
    "import matplotlib.pyplot as plt\n",
    "%matplotlib inline  \n",
    "\n",
    "# Les instructions suivantes sont TRES utile pour recharger automatiquement \n",
    "# le code modifié dans les librairies externes\n",
    "%load_ext autoreload\n",
    "%autoreload 2"
   ]
  },
  {
   "cell_type": "markdown",
   "metadata": {
    "id": "1BY6fA2fmwgp"
   },
   "source": [
    "## Retour sur le sujet du TME 2"
   ]
  },
  {
   "cell_type": "code",
   "execution_count": 12,
   "metadata": {
    "id": "ONCKzjArmwgp"
   },
   "outputs": [],
   "source": [
    "# ------------------------ REPRENDRE ICI LES FONCTIONS SUIVANTES DU TME 2:\n",
    "# genere_dataset_uniform:\n",
    "def genere_dataset_uniform(n, p, inf, sup):\n",
    "    np.random.seed(42)  \n",
    "    data_desc = np.random.uniform(inf,sup,(p,n)) \n",
    "    data_label = np.asarray([-1 for i in range(0,int(p/2))] + [+1 for i in range(0,int(p/2))])\n",
    "    return data_desc, data_label\n",
    "\n",
    "# genere_dataset_gaussian:\n",
    "def genere_dataset_gaussian(pc, ps, nc, ns, nbp):\n",
    "    pos = np.random.multivariate_normal(pc, ps, size=nbp)\n",
    "    neg = np.random.multivariate_normal(nc, ns, size=nbp)\n",
    "    tab1 = np.vstack((pos, neg))\n",
    "    tab2 = np.asarray([-1 for i in range(nbp)] + [+1 for i in range(nbp)])\n",
    "    return tab1, tab2\n",
    "# plot2DSet:\n",
    "def plot2DSet(array1, array2):\n",
    "    # Extraction des exemples de classe -1:\n",
    "    data2_negatifs2 = array1[array2 == -1]\n",
    "    # Extraction des exemples de classe +1:\n",
    "    data2_positifs2 = array1[array2 == +1]\n",
    "    plt.scatter(data2_negatifs2[:,0],data2_negatifs2[:,1],marker='o', color=\"red\") # 'o' rouge pour la classe -1\n",
    "    plt.scatter(data2_positifs2[:,0],data2_positifs2[:,1],marker='x', color=\"blue\") # 'x' bleu pour la classe +1\n",
    "\n",
    "# plot_frontiere:\n",
    "def plot_frontiere(desc_set, label_set, classifier, step=30):\n",
    "    \"\"\" desc_set * label_set * Classifier * int -> NoneType\n",
    "        Remarque: le 4e argument est optionnel et donne la \"résolution\" du tracé: plus il est important\n",
    "        et plus le tracé de la frontière sera précis.        \n",
    "        Cette fonction affiche la frontière de décision associée au classifieur\n",
    "    \"\"\"\n",
    "    mmax=desc_set.max(0)\n",
    "    mmin=desc_set.min(0)\n",
    "    x1grid,x2grid=np.meshgrid(np.linspace(mmin[0],mmax[0],step),np.linspace(mmin[1],mmax[1],step))\n",
    "    grid=np.hstack((x1grid.reshape(x1grid.size,1),x2grid.reshape(x2grid.size,1)))\n",
    "    \n",
    "    # calcul de la prediction pour chaque point de la grille\n",
    "    res=np.array([classifier.predict(grid[i,:]) for i in range(len(grid)) ])\n",
    "    res=res.reshape(x1grid.shape)\n",
    "    # tracer des frontieres\n",
    "    # colors[0] est la couleur des -1 et colors[1] est la couleur des +1\n",
    "    plt.contourf(x1grid,x2grid,res,colors=[\"darksalmon\",\"skyblue\"],levels=[-1000,0,1000])\n"
   ]
  },
  {
   "cell_type": "code",
   "execution_count": 13,
   "metadata": {
    "colab": {
     "base_uri": "https://localhost:8080/",
     "height": 407
    },
    "id": "rr5611Mumwgp",
    "outputId": "ebdab081-0713-475e-9427-c0ee25c94c9f"
   },
   "outputs": [
    {
     "name": "stdout",
     "output_type": "stream",
     "text": [
      "Taille du dataset généré : (200, 2) exemples\n",
      "Les 5 premiers exemples :\n",
      "<class 'numpy.ndarray'> \n",
      " [[1.49671415 0.8617357 ]\n",
      " [1.64768854 2.52302986]\n",
      " [0.76584663 0.76586304]\n",
      " [2.57921282 1.76743473]\n",
      " [0.53052561 1.54256004]]\n"
     ]
    },
    {
     "data": {
      "image/png": "[encoded data removed]",
      "text/plain": [
       "<Figure size 432x288 with 1 Axes>"
      ]
     },
     "metadata": {
      "needs_background": "light"
     },
     "output_type": "display_data"
    }
   ],
   "source": [
    "# Exemple d'utilisation:\n",
    "np.random.seed(42)   # on prend 42 comme graine\n",
    "\n",
    "# On génère un dataset de 200 exemples en dimension 2:\n",
    "data_gauss_desc, data_gauss_label = genere_dataset_gaussian(np.array([1,1]),np.array([[1,0],[0,1]]),np.array([-0.5,-1]),np.array([[1,0],[0,1]]),100)\n",
    "\n",
    "print(\"Taille du dataset généré :\", np.shape(data_gauss_desc), \"exemples\")\n",
    "\n",
    "print(\"Les 5 premiers exemples :\")\n",
    "print(type(data_gauss_desc), '\\n', data_gauss_desc[0:5,:])\n",
    "\n",
    "# Affichage des exemples générés:\n",
    "plot2DSet(data_gauss_desc, data_gauss_label)"
   ]
  },
  {
   "cell_type": "markdown",
   "metadata": {
    "id": "APhm_j2Lmwgq"
   },
   "source": [
    "*italicised text*## Perceptron de Rosenblatt\n",
    "\n",
    "De la même façon que nous avons défini des classes pour le classifieur par k-ppv et le classifieur linéaire aléatoire, nous allons maintenant définir une nouvelle classe de classifieurs pour implémenter l'algorithme présenté dans le cours 3 : le perceptron de Rosenblatt.\n",
    "\n",
    "*Il est fortement conseillé d'étudier les transparents du cours 3 avant de s'attaquer à l'implémentation de cet algorithme.*\n",
    "\n",
    "\n",
    "<div class=\"alert alert-block alert-info\">\n",
    "\n",
    "**Apprentissage:**<BR>\n",
    "L'apprentissage d'un perceptron consiste à partir d'une base de données étiquetées $X \\in \\mathbb R^{n\\times d},Y\\in \\{-1,1\\}^n$ de fournir un vecteur de paramètres optimisés $\\mathbf w\\in \\mathbb R^{d}$.\n",
    "\n",
    "En termes algorithmiques, l'apprentissage est itératif:\n",
    "1. Initialisation de $\\mathbf w$ soit à 0, soit aléatoirement. Attention, si l'initialisation est aléatoire, **les valeurs doivent être très petites** et également réparties entre valeurs positives et négatives pour ne pas biaiser l'algorithme. On pourra dans ce cas pour générer chaque composante de $w$: 1) générer aléatoirement une valeur $v$ dans $[0,1[$, 2) la transformer en $2v-1$ pour qu'elle soit dans $[-1,1[$, puis 3) la multiplier par un nombre réel positif petit (par exemple $0.001$) pour obtenir une valeur très petite.\n",
    "1. Optimisation stochastique grâce à $X$:\n",
    "    1. Choisir aléatoirement un exemple $\\mathbf x_i$\n",
    "    1. Evaluer l'erreur de prédiction pour $\\mathbf x_i, y_i$ avec le vecteur $\\mathbf w$ courant\n",
    "        1. Si *Pas d'erreur*, pas de correction\n",
    "        1. Si *Erreur*, corriger $\\mathbf w$ : \n",
    "        $$\\mathbf w \\leftarrow \\mathbf w + \\epsilon y_i \\mathbf x_i$$\n",
    "        Le *learning rate* $\\epsilon \\in [0,1]$ est défini à la création du classifieur.\n",
    "    1. Arrêter lorsqu'il y a convergence:\n",
    "        1. Convergence = aucun ou peu de changements sur $\\mathbf w$ pendant $n$ itérations. Pour évaluer le changement, on calcule la norme de la valeur absolue de la différence terme à terme entre $w$ (vecteur avant l'étape 2) et $w'$ (vecteur après l'étape 2). Il y a convergence quand cette valeur descend en dessous d'un seuil de convergence (qui est un réel positif non nul).\n",
    "        1. Remarque : on peut fixer un nombre d'itérations maximum au bout desquelles l'algorithme s'arrêtera pour ne pas se coincer dans une boucle infinie.\n",
    "\n",
    "**Classification / Prédiction / Inférence :**<BR>\n",
    "L'inférence est linéaire: \n",
    "    $$\\hat y_i =  \\mathbf x_i \\cdot \\mathbf w , \\qquad \\hat y_i^* =\\text{sign}(\\hat y_i) \\in \\{-1,1\\}$$\n",
    "   \n",
    "   $\\hat y_i$ correspond au score fourni par le perceptron (valeur réelle donc) et $y_i^*$ correspond à la prédiction (+1 ou -1).\n",
    "    \n",
    "Attention à ne pas confondre l'évaluation linéaire à valeur réelle et le signe qui permet de mettre notre estimation dans le même univers que les étiquettes d'origine.\n",
    "    \n",
    "    \n",
    "</div>    "
   ]
  },
  {
   "cell_type": "markdown",
   "metadata": {
    "id": "GNlrqySzmwgq"
   },
   "source": [
    "<font color=\"RED\" size=\"+1\">**[Q]**</font> En héritant de la classe `Classifier` (qu'il faut donc récupérer/ré-écrire pour la mettre dans ce notebook), écrire la classe `ClassifierPerceptron` qui implémente l'algorithme du perceptron de Rosenblatt vu en cours. \n",
    "\n",
    "Lors de l'initialisation, dans la méthode `__init__`, le learning_rate (aussi noté <i>epsilon</i>) pour le perceptron doit être fourni. On utilise aussi un argument de nom `init` qui vaut 0 (par défaut) ou 1 et qui donne le mode souhaité d'initialisation du perceptron: soit en mettant les poids $w_1, \\ldots, w_d$ à 0, soit en les initialisant aléatoirement par des valeurs très petites comme expliqué dans le descriptif ci-dessus.\n",
    "\n",
    "La fonction `train_step` d'un perceptron doit réaliser **une itération complète** du dataset d'apprentissage $X$ en prenant les exemples dans un ordre aléatoire. Cet ordre est tiré au moment de l'exécution de la fonction `train`. Pour chaque exemple d'apprentissage $x$, on détermine le score donné par le perceptron et avec ce score on corrige les valeurs des poids du perceptron. Cette correction dépend de $x$ et de l'écart entre le score et la vraie classe de $x$, elle est pondérée par le learning rate du perceptron. \n",
    "\n",
    "La fonction `train` d'un perceptron doit implémenter l'algorithme complet de l'apprentissage itératif du perceptron à partir du dataset d'apprentissage $X$. Cette fonction prend en argument, en plus du dataset, un entier `niter_max` qui donne le nombre d'itérations maximal à réaliser, et un réel `seuil` qui donne le seuil de convergence à atteindre. cette fonction rend la liste des valeurs des différences rencontrées.\n",
    "\n",
    "Remarque: quelques fonctions utiles :\n",
    "- la fonction `np.zeros` qui prend en argument un entier. Par exemple, tester `np.zeros(10)`.\n",
    "- la fonction `np.random.shuffle` qui prend une liste de valeurs en arguments et la modifie (par effet de bord) en réordonnant aléatoirement les valeurs.\n",
    "- pour copier un `np.array`, il est nécessaire d'utiliser la méthode `copy()` qui réalise une copie profonde. Par exemple, `B = A.copy()` pour copier le `np.array A` dans la variable `B`."
   ]
  },
  {
   "cell_type": "code",
   "execution_count": 15,
   "metadata": {
    "colab": {
     "base_uri": "https://localhost:8080/"
    },
    "id": "8EKYk3qqmwgr",
    "outputId": "a633db7f-f825-411a-a720-c82ce99fe079"
   },
   "outputs": [
    {
     "name": "stdout",
     "output_type": "stream",
     "text": [
      "Avant:  [0, 1, 2, 3, 4, 5, 6, 7, 8, 9]\n",
      "Après:  [8, 1, 5, 0, 7, 2, 9, 4, 3, 6]\n"
     ]
    }
   ],
   "source": [
    "# Par exemple :\n",
    "\n",
    "np.random.seed(42)   # on prend 42 comme graine\n",
    "\n",
    "l =[i for i in range(0,10)]\n",
    "print(\"Avant: \",l)\n",
    "np.random.shuffle(l)\n",
    "print(\"Après: \",l)"
   ]
  },
  {
   "cell_type": "code",
   "execution_count": 14,
   "metadata": {
    "id": "VTmZLIbjmwgr"
   },
   "outputs": [],
   "source": [
    "# ------------------------ A COMPLETER :\n",
    "\n",
    "from numpy.core.fromnumeric import size\n",
    "# ------------------------ A COMPLETER :\n",
    "class Classifier:\n",
    "    \"\"\" Classe (abstraite) pour représenter un classifieur\n",
    "        Attention: cette classe est ne doit pas être instanciée.\n",
    "    \"\"\"\n",
    "    \n",
    "    def __init__(self, input_dimension):\n",
    "        \"\"\" Constructeur de Classifier\n",
    "            Argument:\n",
    "                - intput_dimension (int) : dimension de la description des exemples\n",
    "            Hypothèse : input_dimension > 0\n",
    "        \"\"\"\n",
    "        raise NotImplementedError(\"Please Implement this method\")\n",
    "        \n",
    "    def train(self, desc_set, label_set):\n",
    "        \"\"\" Permet d'entrainer le modele sur l'ensemble donné\n",
    "            desc_set: ndarray avec des descriptions\n",
    "            label_set: ndarray avec les labels correspondants\n",
    "            Hypothèse: desc_set et label_set ont le même nombre de lignes\n",
    "        \"\"\"        \n",
    "        raise NotImplementedError(\"Please Implement this method\")\n",
    "    \n",
    "    def score(self,x):\n",
    "        \"\"\" rend le score de prédiction sur x (valeur réelle)\n",
    "            x: une description\n",
    "        \"\"\"\n",
    "        raise NotImplementedError(\"Please Implement this method\")\n",
    "    \n",
    "    def predict(self, x):\n",
    "        \"\"\" rend la prediction sur x (soit -1 ou soit +1)\n",
    "            x: une description\n",
    "        \"\"\"\n",
    "        raise NotImplementedError(\"Please Implement this method\")\n",
    "\n",
    "    def accuracy(self, desc_set, label_set):\n",
    "        \"\"\" Permet de calculer la qualité du système sur un dataset donné\n",
    "            desc_set: ndarray avec des descriptions\n",
    "            label_set: ndarray avec les labels correspondants\n",
    "            Hypothèse: desc_set et label_set ont le même nombre de lignes\n",
    "        \"\"\"\n",
    "        # ------------------------------\n",
    "        # COMPLETER CETTE FONCTION ICI : \n",
    "        \n",
    "        count=0\n",
    "        for i in range(len(label_set)):\n",
    "          if self.predict(desc_set[i]) == label_set[i]:\n",
    "            count+=1\n",
    "        return count/len(label_set)\n",
    "        \n",
    "        # ------------------------------\n",
    "\n"
   ]
  },
  {
   "cell_type": "code",
   "execution_count": null,
   "metadata": {
    "id": "W3JD4IHBmhhW"
   },
   "outputs": [],
   "source": []
  },
  {
   "cell_type": "code",
   "execution_count": 26,
   "metadata": {
    "id": "fUyyxm5hmwgr"
   },
   "outputs": [],
   "source": [
    "# ------------------------ A COMPLETER : DEFINITION DU CLASSIFIEUR PERCEPTRON\n",
    "import random\n",
    "from math import sqrt\n",
    "from random import randint\n",
    "\n",
    "class ClassifierPerceptron(Classifier):\n",
    "    \"\"\" Perceptron de Rosenblatt\n",
    "    \"\"\"\n",
    "    def __init__(self, input_dimension, learning_rate, init=0):\n",
    "        \"\"\" Constructeur de Classifier\n",
    "            Argument:\n",
    "                - input_dimension (int) : dimension de la description des exemples (>0)\n",
    "                - learning_rate : epsilon\n",
    "                - init est le mode d'initialisation de w: \n",
    "                    - si 0 (par défaut): initialisation à 0 de w,\n",
    "                    - si 1 : initialisation par tirage aléatoire de valeurs petites\n",
    "        \"\"\"\n",
    "        self.input_dimension = input_dimension\n",
    "        self.learning_rate = learning_rate\n",
    "        self.init = init\n",
    "        res = []\n",
    "        if init == 0:\n",
    "          self.w_de_base = np.asarray(np.zeros(self.input_dimension))\n",
    "        elif init == 1:\n",
    "          for i in range(self.input_dimension):\n",
    "            res.append((2*i - 1)*0.001)\n",
    "          self.w_de_base = np.asarray(res)\n",
    "        \n",
    "    def train_step(self, desc_set, label_set):\n",
    "        \"\"\" Réalise une unique itération sur tous les exemples du dataset\n",
    "            donné en prenant les exemples aléatoirement.\n",
    "            Arguments:\n",
    "                - desc_set: ndarray avec des descriptions\n",
    "                - label_set: ndarray avec les labels correspondants\n",
    "        \"\"\"    \n",
    "        \n",
    "        liste_indice = np.random.permutation(len(desc_set))\n",
    "        for i in liste_indice:\n",
    "            x=desc_set[i]\n",
    "            y=label_set[i]\n",
    "            if y != self.predict(x):\n",
    "                self.w_de_base = self.w_de_base + self.learning_rate*x*y\n",
    "        return self.w_de_base\n",
    "     \n",
    "    def train(self, desc_set, label_set, niter_max=100, seuil=0.001):\n",
    "        \"\"\" Apprentissage itératif du perceptron sur le dataset donné.\n",
    "            Arguments:\n",
    "                - desc_set: ndarray avec des descriptions\n",
    "                - label_set: ndarray avec les labels correspondants\n",
    "                - niter_max (par défaut: 100) : nombre d'itérations maximale\n",
    "                - seuil (par défaut: 0.001) : seuil de convergence\n",
    "            Retour: la fonction rend une liste\n",
    "                - liste des valeurs de norme de différences\n",
    "        \"\"\"     \n",
    "\n",
    "        ret = []  \n",
    "        i = 1\n",
    "        w_old = self.train_step(desc_set, label_set)\n",
    "        while i < niter_max:\n",
    "          w_new = self.train_step(desc_set, label_set)\n",
    "          d = np.linalg.norm(w_old - w_new)\n",
    "          ret.append(d)\n",
    "          #if i != 1:\n",
    "            #if d < seuil:\n",
    "              #break\n",
    "          w_old = w_new.copy()\n",
    "          i += 1\n",
    "        ret.pop(0)\n",
    "        return ret\n",
    "    \n",
    "    def score(self,x):\n",
    "      score = 0\n",
    "      for i in range(len(x)):\n",
    "        score += self.w_de_base[i] * x[i]\n",
    "      return score\n",
    "    \n",
    "    def predict(self, x):\n",
    "      score = self.score(x)\n",
    "      return 1 if score >= 0.0 else -1\n",
    "\n",
    "    "
   ]
  },
  {
   "cell_type": "markdown",
   "metadata": {
    "id": "olITVN4amwgs"
   },
   "source": [
    "## Validation de l'algorithme\n",
    "\n",
    "<font color=\"RED\" size=\"+1\">**[Q]**</font>  Afin de vérifier le bon fonctionnement de l'algorithme, nous allons procéder à une série de test:\n",
    "\n",
    "1. Test sur les gaussiennes jouets définies précédemment\n",
    "    1. Vérifier l'impact du réglage de l'initialisation (normalement, il n'y a pas trop d'impact sur un problème aussi simple)\n",
    "    1. Vérifier l'impact du réglage de epsilon (impact énorme: ca diverge très rapidement!!)\n",
    "    1. En jouant sur la génération des données, tester votre perceptron dans le cas facile (nuages des deux classes bien séparés) puis dans le cas plus difficile où les classes ne sont plus séparables linéairement.\n",
    "\n",
    "1. Test sur les données USPS (cf. TME 2)\n",
    "    1. Nous travaillerons uniquement dans le cas binaire. Prendre les 1 vs 2 (cas facile) puis les 3 vs 6 ou 9 (cas nettement plus dur)\n",
    "    \n",
    "1. Penser à faire le parallèle avec le temps d'inférence sur les k-ppv de la semaine précédente\n",
    "    \n",
    "**Note:** il faut évidemment multiplier les boites et ne pas tout faire au même endroit."
   ]
  },
  {
   "cell_type": "markdown",
   "metadata": {
    "id": "sXeNO_Rmmwgs"
   },
   "source": [
    "### Test sur des gaussiennes jouets"
   ]
  },
  {
   "cell_type": "markdown",
   "metadata": {
    "id": "i5-aGwGVmwgs"
   },
   "source": [
    "#### Apprentissage pas à pas et variation d'accuracy"
   ]
  },
  {
   "cell_type": "code",
   "execution_count": 27,
   "metadata": {
    "colab": {
     "base_uri": "https://localhost:8080/",
     "height": 544
    },
    "id": "DrQxdwnZmwgs",
    "outputId": "3cd425a7-6780-4fca-e044-21d5f63f59b2"
   },
   "outputs": [
    {
     "ename": "IndexError",
     "evalue": "index 2 is out of bounds for axis 0 with size 2",
     "output_type": "error",
     "traceback": [
      "\u001b[0;31m---------------------------------------------------------------------------\u001b[0m",
      "\u001b[0;31mIndexError\u001b[0m                                Traceback (most recent call last)",
      "Input \u001b[0;32mIn [27]\u001b[0m, in \u001b[0;36m<module>\u001b[0;34m\u001b[0m\n\u001b[1;32m     21\u001b[0m N \u001b[38;5;241m=\u001b[39m \u001b[38;5;241m100\u001b[39m\n\u001b[1;32m     22\u001b[0m \u001b[38;5;28;01mfor\u001b[39;00m i \u001b[38;5;129;01min\u001b[39;00m \u001b[38;5;28mrange\u001b[39m(N):\n\u001b[0;32m---> 23\u001b[0m   \u001b[43mperceptron1\u001b[49m\u001b[38;5;241;43m.\u001b[39;49m\u001b[43mtrain_step\u001b[49m\u001b[43m(\u001b[49m\u001b[43mdata_train\u001b[49m\u001b[43m,\u001b[49m\u001b[43m \u001b[49m\u001b[43mlabel_train\u001b[49m\u001b[43m)\u001b[49m\n\u001b[1;32m     24\u001b[0m   val_acc\u001b[38;5;241m.\u001b[39mappend(perceptron1\u001b[38;5;241m.\u001b[39maccuracy(data_train, label_train))\n\u001b[1;32m     26\u001b[0m \u001b[38;5;66;03m# -----\u001b[39;00m\n\u001b[1;32m     27\u001b[0m \u001b[38;5;66;03m# Traçage de la courbe des variations d'accuracy\u001b[39;00m\n",
      "Input \u001b[0;32mIn [26]\u001b[0m, in \u001b[0;36mClassifierPerceptron.train_step\u001b[0;34m(self, desc_set, label_set)\u001b[0m\n\u001b[1;32m     39\u001b[0m     x\u001b[38;5;241m=\u001b[39mdesc_set[i]\n\u001b[1;32m     40\u001b[0m     y\u001b[38;5;241m=\u001b[39mlabel_set[i]\n\u001b[0;32m---> 41\u001b[0m     \u001b[38;5;28;01mif\u001b[39;00m y \u001b[38;5;241m!=\u001b[39m \u001b[38;5;28;43mself\u001b[39;49m\u001b[38;5;241;43m.\u001b[39;49m\u001b[43mpredict\u001b[49m\u001b[43m(\u001b[49m\u001b[43mx\u001b[49m\u001b[43m)\u001b[49m:\n\u001b[1;32m     42\u001b[0m         \u001b[38;5;28mself\u001b[39m\u001b[38;5;241m.\u001b[39mw_de_base \u001b[38;5;241m=\u001b[39m \u001b[38;5;28mself\u001b[39m\u001b[38;5;241m.\u001b[39mw_de_base \u001b[38;5;241m+\u001b[39m \u001b[38;5;28mself\u001b[39m\u001b[38;5;241m.\u001b[39mlearning_rate\u001b[38;5;241m*\u001b[39mx\u001b[38;5;241m*\u001b[39my\n\u001b[1;32m     43\u001b[0m \u001b[38;5;28;01mreturn\u001b[39;00m \u001b[38;5;28mself\u001b[39m\u001b[38;5;241m.\u001b[39mw_de_base\n",
      "Input \u001b[0;32mIn [26]\u001b[0m, in \u001b[0;36mClassifierPerceptron.predict\u001b[0;34m(self, x)\u001b[0m\n\u001b[1;32m     77\u001b[0m \u001b[38;5;28;01mdef\u001b[39;00m \u001b[38;5;21mpredict\u001b[39m(\u001b[38;5;28mself\u001b[39m, x):\n\u001b[0;32m---> 78\u001b[0m   score \u001b[38;5;241m=\u001b[39m \u001b[38;5;28;43mself\u001b[39;49m\u001b[38;5;241;43m.\u001b[39;49m\u001b[43mscore\u001b[49m\u001b[43m(\u001b[49m\u001b[43mx\u001b[49m\u001b[43m)\u001b[49m\n\u001b[1;32m     79\u001b[0m   \u001b[38;5;28;01mreturn\u001b[39;00m \u001b[38;5;241m1\u001b[39m \u001b[38;5;28;01mif\u001b[39;00m score \u001b[38;5;241m>\u001b[39m\u001b[38;5;241m=\u001b[39m \u001b[38;5;241m0.0\u001b[39m \u001b[38;5;28;01melse\u001b[39;00m \u001b[38;5;241m-\u001b[39m\u001b[38;5;241m1\u001b[39m\n",
      "Input \u001b[0;32mIn [26]\u001b[0m, in \u001b[0;36mClassifierPerceptron.score\u001b[0;34m(self, x)\u001b[0m\n\u001b[1;32m     72\u001b[0m score \u001b[38;5;241m=\u001b[39m \u001b[38;5;28mself\u001b[39m\u001b[38;5;241m.\u001b[39mw_de_base[\u001b[38;5;241m0\u001b[39m]\n\u001b[1;32m     73\u001b[0m \u001b[38;5;28;01mfor\u001b[39;00m i \u001b[38;5;129;01min\u001b[39;00m \u001b[38;5;28mrange\u001b[39m(\u001b[38;5;28mlen\u001b[39m(x)):\n\u001b[0;32m---> 74\u001b[0m   score \u001b[38;5;241m+\u001b[39m\u001b[38;5;241m=\u001b[39m \u001b[38;5;28;43mself\u001b[39;49m\u001b[38;5;241;43m.\u001b[39;49m\u001b[43mw_de_base\u001b[49m\u001b[43m[\u001b[49m\u001b[43mi\u001b[49m\u001b[43m \u001b[49m\u001b[38;5;241;43m+\u001b[39;49m\u001b[43m \u001b[49m\u001b[38;5;241;43m1\u001b[39;49m\u001b[43m]\u001b[49m \u001b[38;5;241m*\u001b[39m x[i]\n\u001b[1;32m     75\u001b[0m \u001b[38;5;28;01mreturn\u001b[39;00m score\n",
      "\u001b[0;31mIndexError\u001b[0m: index 2 is out of bounds for axis 0 with size 2"
     ]
    }
   ],
   "source": [
    "# ------------------------ COMPLETER LES INSTRUCTIONS DANS CETTE BOITE \n",
    "\n",
    "np.random.seed(42)   # on prend 42 comme graine pour tester\n",
    "\n",
    "# -----\n",
    "# Création d'un perceptron avec initialisation à 0 et le learning_rate ci-dessous:\n",
    "learning_rate = 0.01\n",
    "perceptron1 = ClassifierPerceptron(2, learning_rate, 0)\n",
    "\n",
    "# -----\n",
    "# Définition des données d'apprentissage (on reprend les données data_gauss générées plus haut)\n",
    "data_train = data_gauss_desc\n",
    "label_train = data_gauss_label\n",
    "\n",
    "# -----\n",
    "# Apprentissage pas à pas du perceptron et mémorisation de l'accuracy à chaque étape:\n",
    "# Liste qui va servir à mémoriser les accuracy du perceptron à chaque étape:\n",
    "val_acc = []\n",
    "# Réalisation de N itérations \n",
    "\n",
    "N = 100\n",
    "for i in range(N):\n",
    "  perceptron1.train_step(data_train, label_train)\n",
    "  val_acc.append(perceptron1.accuracy(data_train, label_train))\n",
    "\n",
    "# -----\n",
    "# Traçage de la courbe des variations d'accuracy\n",
    "plt.plot(range(1, len(val_acc)+1),val_acc)\n",
    "plt.ylabel('Accuracy')\n",
    "plt.xlabel(\"Etape\")\n",
    "plt.show()\n",
    "\n",
    "# -----\n",
    "# Affichage de la frontière de séparation des classes\n",
    "plot_frontiere(data_train,label_train,perceptron1,step=150)\n",
    "plot2DSet(data_train,label_train)\n",
    "\n",
    "print(\"Accuracy finale : \", perceptron1.accuracy(data_train,label_train))"
   ]
  },
  {
   "cell_type": "code",
   "execution_count": null,
   "metadata": {
    "id": "FqaIL7aymwgs"
   },
   "outputs": [],
   "source": []
  },
  {
   "cell_type": "markdown",
   "metadata": {
    "id": "1ZwRDZGWmwgs"
   },
   "source": [
    "### Apprentissage et affichage de la convergence"
   ]
  },
  {
   "cell_type": "code",
   "execution_count": null,
   "metadata": {
    "colab": {
     "base_uri": "https://localhost:8080/",
     "height": 562
    },
    "id": "ef7_b7csmwgt",
    "outputId": "de23df11-1583-4450-9482-f702fdfbdb2f"
   },
   "outputs": [
    {
     "name": "stdout",
     "output_type": "stream",
     "text": [
      "Nb iterations réalisées:  100\n"
     ]
    },
    {
     "data": {
      "image/png": "[encoded data removed]",
      "text/plain": [
       "<Figure size 432x288 with 1 Axes>"
      ]
     },
     "metadata": {
      "needs_background": "light"
     },
     "output_type": "display_data"
    },
    {
     "name": "stdout",
     "output_type": "stream",
     "text": [
      "Accuracy finale :  0.9\n"
     ]
    },
    {
     "data": {
      "image/png": "[encoded data removed]",
      "text/plain": [
       "<Figure size 432x288 with 1 Axes>"
      ]
     },
     "metadata": {
      "needs_background": "light"
     },
     "output_type": "display_data"
    }
   ],
   "source": [
    "# ------------------------ COMPLETER LES INSTRUCTIONS DANS CETTE BOITE \n",
    "\n",
    "np.random.seed(42)   # on prend 42 comme graine\n",
    "\n",
    "# Création d'un perceptron avec initialisation à 0 et le learning_rate ci-dessous:\n",
    "learning_rate = 0.01\n",
    "perceptron2 = ClassifierPerceptron(2, learning_rate, 0)\n",
    "\n",
    "# Définition des données d'apprentissage (on reprend les données data_gauss générées plus haut)\n",
    "data_train = data_gauss_desc\n",
    "label_train = data_gauss_label\n",
    "\n",
    "# Apprentissage du perceptron jusqu'à convergence\n",
    "les_variations = perceptron2.train(data_train, label_train, niter_max=100)\n",
    "print(\"Nb iterations réalisées: \",100)\n",
    "\n",
    "# Traçage de la courbe des variations\n",
    "plt.plot(range(1,len(les_variations)+1),les_variations)  \n",
    "plt.ylabel('Différence')\n",
    "plt.xlabel(\"Etape\")\n",
    "plt.show()\n",
    "\n",
    "# Affichage de la frontière de séparation des classes\n",
    "plot_frontiere(data_train,label_train,perceptron2,step=100)\n",
    "plot2DSet(data_train,label_train)\n",
    "\n",
    "print(\"Accuracy finale : \", perceptron2.accuracy(data_train,label_train))"
   ]
  },
  {
   "cell_type": "code",
   "execution_count": null,
   "metadata": {
    "id": "QzuUtGpSmwgt"
   },
   "outputs": [],
   "source": []
  },
  {
   "cell_type": "markdown",
   "metadata": {
    "id": "oKeMXR-lmwgt"
   },
   "source": [
    "### Initialisation aléatoire et convergence"
   ]
  },
  {
   "cell_type": "code",
   "execution_count": null,
   "metadata": {
    "colab": {
     "base_uri": "https://localhost:8080/",
     "height": 314
    },
    "id": "ZqIJZmdumwgt",
    "outputId": "91c5435b-68d1-4e42-b1a9-818a81061716"
   },
   "outputs": [
    {
     "name": "stdout",
     "output_type": "stream",
     "text": [
      "Nb iterations réalisées:  100\n"
     ]
    },
    {
     "data": {
      "image/png": "[encoded data removed]",
      "text/plain": [
       "<Figure size 432x288 with 1 Axes>"
      ]
     },
     "metadata": {
      "needs_background": "light"
     },
     "output_type": "display_data"
    },
    {
     "name": "stdout",
     "output_type": "stream",
     "text": [
      "Accuracy finale :  0.9\n"
     ]
    }
   ],
   "source": [
    "# ------------------------ COMPLETER LES INSTRUCTIONS DANS CETTE BOITE \n",
    "\n",
    "np.random.seed(42)   # on prend 42 comme graine\n",
    "\n",
    "# Création d'un perceptron avec initialisation aléatoire et le learning_rate ci-dessous:\n",
    "learning_rate = 0.01\n",
    "perceptron3 = ClassifierPerceptron(2, learning_rate, 0)\n",
    "\n",
    "# Définition des données d'apprentissage (on reprend les données data_gauss générées plus haut)\n",
    "data_train = data_gauss_desc\n",
    "label_train = data_gauss_label\n",
    "\n",
    "# Apprentissage du perceptron\n",
    "les_variations = perceptron3.train(data_train, label_train)\n",
    "print(\"Nb iterations réalisées: \",100)\n",
    "\n",
    "# Traçage de la courbe des variations\n",
    "plt.plot(range(1,len(les_variations)+1),les_variations)  \n",
    "plt.ylabel('Différence')\n",
    "plt.xlabel(\"Etape\")\n",
    "plt.show()\n",
    "\n",
    "print(\"Accuracy finale : \", perceptron2.accuracy(data_train,label_train))"
   ]
  },
  {
   "cell_type": "code",
   "execution_count": null,
   "metadata": {
    "id": "lyZMKHS4mwgt"
   },
   "outputs": [],
   "source": []
  },
  {
   "cell_type": "markdown",
   "metadata": {
    "id": "U8St4AnTmwgt"
   },
   "source": [
    "### Impact du learning rate\n",
    "\n",
    "<font color=\"RED\" size=\"+1\">[Q]</font> Tester différentes valeurs de learning rate et regarder les résultats en termes de convergence.\n",
    "\n",
    "Par exemple, que se passe-t-il quand le learning rate est mis à 0.1?"
   ]
  },
  {
   "cell_type": "code",
   "execution_count": null,
   "metadata": {
    "colab": {
     "base_uri": "https://localhost:8080/",
     "height": 562
    },
    "id": "6axp5mHZmwgt",
    "outputId": "b450bbdb-6430-4556-b510-e5c24dcf5ee1"
   },
   "outputs": [
    {
     "name": "stdout",
     "output_type": "stream",
     "text": [
      "Nb iterations réalisées:  1000\n"
     ]
    },
    {
     "data": {
      "image/png": "[encoded data removed]",
      "text/plain": [
       "<Figure size 432x288 with 1 Axes>"
      ]
     },
     "metadata": {
      "needs_background": "light"
     },
     "output_type": "display_data"
    },
    {
     "name": "stdout",
     "output_type": "stream",
     "text": [
      "Accuracy finale :  0.89\n"
     ]
    },
    {
     "data": {
      "image/png": "[encoded data removed]",
      "text/plain": [
       "<Figure size 432x288 with 1 Axes>"
      ]
     },
     "metadata": {
      "needs_background": "light"
     },
     "output_type": "display_data"
    }
   ],
   "source": [
    "# Par exemple : \n",
    "\n",
    "# ------------------------ COMPLETER LES INSTRUCTIONS DANS CETTE BOITE \n",
    "\n",
    "np.random.seed(42)   # on prend 42 comme graine\n",
    "\n",
    "# Définition des données d'apprentissage (on reprend les données data_gauss générées plus haut)\n",
    "data_train = data_gauss_desc\n",
    "label_train = data_gauss_label\n",
    "\n",
    "# Création d'un perceptron avec initialisation aléatoire et le learning_rate ci-dessous:\n",
    "learning_rate = 0.1\n",
    "perceptron4 = ClassifierPerceptron(2, learning_rate, 0)\n",
    "\n",
    "# Apprentissage du perceptron\n",
    "les_variations = perceptron4.train(data_train, label_train, niter_max=1000)\n",
    "print(\"Nb iterations réalisées: \",1000)\n",
    "\n",
    "# Traçage de la courbe des variations\n",
    "plt.plot(range(1,len(les_variations)+1),les_variations)  \n",
    "plt.ylabel('Différence')\n",
    "plt.xlabel(\"Etape\")\n",
    "plt.show()\n",
    "\n",
    "# Affichage de la frontière de séparation des classes\n",
    "plot_frontiere(data_train,label_train,perceptron4,step=100)\n",
    "plot2DSet(data_train,label_train)\n",
    "\n",
    "print(\"Accuracy finale : \", perceptron4.accuracy(data_train,label_train))"
   ]
  },
  {
   "cell_type": "code",
   "execution_count": null,
   "metadata": {
    "id": "6prndvPHmwgt",
    "outputId": "9d7aa408-7edc-4110-859a-e9b86f43624b"
   },
   "outputs": [
    {
     "name": "stdout",
     "output_type": "stream",
     "text": [
      "Nb iterations:  1000\n"
     ]
    },
    {
     "data": {
      "image/png": "[encoded data removed]",
      "text/plain": [
       "<Figure size 432x288 with 1 Axes>"
      ]
     },
     "metadata": {
      "needs_background": "light"
     },
     "output_type": "display_data"
    },
    {
     "name": "stdout",
     "output_type": "stream",
     "text": [
      "Accuracy finale :  0.875\n"
     ]
    }
   ],
   "source": []
  },
  {
   "cell_type": "markdown",
   "metadata": {
    "id": "cYNZkdaXmwgu"
   },
   "source": [
    "<font color=\"RED\" size=\"+1\">[Q]</font> Quand le learning rate est mis à 0.01, en utilisant le paramètre `niter_max`, trouver combien d'itérations sont nécessaires pour que l'algorithme converge."
   ]
  },
  {
   "cell_type": "code",
   "execution_count": null,
   "metadata": {
    "id": "2J2UFbFHmwgu"
   },
   "outputs": [],
   "source": [
    "np.random.seed(42)   # on prend 42 comme graine\n"
   ]
  },
  {
   "cell_type": "markdown",
   "metadata": {
    "id": "BT0slQ3zmwgu"
   },
   "source": [
    "### Evaluation sur un dataset de test"
   ]
  },
  {
   "cell_type": "code",
   "execution_count": null,
   "metadata": {
    "colab": {
     "base_uri": "https://localhost:8080/"
    },
    "id": "ZJcembBdmwgu",
    "outputId": "8275baf8-5112-4e1a-ac27-80fd37308032"
   },
   "outputs": [
    {
     "name": "stdout",
     "output_type": "stream",
     "text": [
      "Taille du test généré : (1000, 2) exemples\n"
     ]
    }
   ],
   "source": [
    "# Exemple d'utilisation:\n",
    "np.random.seed(42)   # on prend 42 comme graine\n",
    "\n",
    "nb_exemples_test = 500\n",
    "d_desc_test, d_lab_test = genere_dataset_gaussian(np.array([1,1]), \\\n",
    "                                                    np.array([[1,0],[0,1]]),\\\n",
    "                                                    np.array([-0.5,-1]),\\\n",
    "                                                    np.array([[1,0],[0,1]]),\\\n",
    "                                                    nb_exemples_test)\n",
    "\n",
    "print(\"Taille du test généré :\", np.shape(d_desc_test), \"exemples\")\n",
    "\n",
    "\n"
   ]
  },
  {
   "cell_type": "code",
   "execution_count": null,
   "metadata": {
    "colab": {
     "base_uri": "https://localhost:8080/",
     "height": 331
    },
    "id": "shngOzasmwgu",
    "outputId": "8b48f116-3aa1-4795-bc90-5678117b7f4c"
   },
   "outputs": [
    {
     "name": "stdout",
     "output_type": "stream",
     "text": [
      "Nb iterations:  98\n"
     ]
    },
    {
     "data": {
      "image/png": "[encoded data removed]",
      "text/plain": [
       "<Figure size 432x288 with 1 Axes>"
      ]
     },
     "metadata": {
      "needs_background": "light"
     },
     "output_type": "display_data"
    },
    {
     "name": "stdout",
     "output_type": "stream",
     "text": [
      "Accuracy finale sur train :  0.905\n",
      "Accuracy finale sur test :  0.88\n"
     ]
    }
   ],
   "source": [
    "# ------------------------ COMPLETER LES INSTRUCTIONS DANS CETTE BOITE \n",
    "\n",
    "np.random.seed(42)   # on prend 42 comme graine\n",
    "\n",
    "# Création d'un perceptron\n",
    "perceptron_eval = ClassifierPerceptron(2,0.01,init=1)\n",
    "\n",
    "# Définition des données d'apprentissage (on reprend les données data_gauss générées plus haut)\n",
    "data_train, label_train = data_gauss_desc, data_gauss_label\n",
    "\n",
    "# Apprentissage du perceptron\n",
    "les_variations = perceptron_eval.train(data_train, label_train)\n",
    "print(\"Nb iterations: \",len(les_variations))\n",
    "\n",
    "# Traçage de la courbe des variations\n",
    "plt.plot(range(1,len(les_variations)+1),les_variations)  \n",
    "plt.ylabel('Différence')\n",
    "plt.xlabel(\"Etape\")\n",
    "plt.show()\n",
    "\n",
    "# Définition des données de test\n",
    "data_test, label_test = d_desc_test, d_lab_test\n",
    "\n",
    "print(\"Accuracy finale sur train : \", perceptron_eval.accuracy(data_train,label_train))\n",
    "print(\"Accuracy finale sur test : \", perceptron_eval.accuracy(data_test,label_test))"
   ]
  },
  {
   "cell_type": "code",
   "execution_count": null,
   "metadata": {
    "id": "WWCRZz_Omwgu"
   },
   "outputs": [],
   "source": []
  },
  {
   "cell_type": "markdown",
   "metadata": {
    "id": "kCfJkVszmwgu"
   },
   "source": [
    "## Sur-apprentissage\n",
    "\n",
    "Comme expliqué en cours, le sur-apprentissage consiste à apprendre une règle:\n",
    "1. parfaite sur les données d'apprentissage\n",
    "1. mais absurde ou inutile sur les données *en général*\n",
    "\n",
    "Votre but de data-scientist est d'éviter ce piège. Il existe de nombreuses stratégies pour faire face à ce défi majeur... Mais la première chose à faire est de savoir détecter le problème.\n",
    "\n",
    "<img src=\"ressources/overfitting.png\" > <BR>\n",
    "<center>FIG: la proposition de droite est parfaite sur les données observées en apprentissage... Mais absurde en général\n",
    "</center>\n",
    "\n",
    "<font color=\"RED\" size=\"+1\">**[Q]**</font>   Pour ce faire, nous allons toujours évaluer nos algorithmes sur des données *neutres*, c'est à dire sur des données n'ayant pas servi à l'apprentissage.\n",
    "\n",
    "1. Dans le cas de données jouets générées: tirer un second jeu de données avec les mêmes paramètres\n",
    "1. Dans le cas USPS (toujours en 2 classes), récupérer les données de test et évaluer votre modèle dessus\n",
    "\n",
    "Comparer les performances en apprentissage (c'est-à dire sur le dataset qui a servi à construire entraîner le modèle) et en test (c'est-à-dire sur un dataset différent du dataset d'apprentissage).\n"
   ]
  },
  {
   "cell_type": "code",
   "execution_count": null,
   "metadata": {
    "id": "Kvj3yybrmwgv"
   },
   "outputs": [],
   "source": []
  },
  {
   "cell_type": "markdown",
   "metadata": {
    "id": "NUltnDp8mwgv"
   },
   "source": [
    "## Cas difficiles"
   ]
  },
  {
   "cell_type": "markdown",
   "metadata": {
    "id": "I40RvbWzmwgv"
   },
   "source": [
    "<font color=\"RED\" size=\"+1\">[Q]</font> Afin de tester des cas plus difficiles (c'est-à-dire non séparables linéairement), écrire la fonction `createXOR` qui permet de générer le jeu de données ci-dessous. Cette fonction prend 2 arguments, un nombre de points $n$ et un réel positif $\\sigma$ donnant la variance sur chaque dimension et permet de jouer sur la dispersion des nuages et donc sur la séparation des 4 nuages.\n",
    "\n",
    "Il s'agit de générer des points dans deux classes mais selon 4 gaussiennes.\n",
    "\n",
    "<img src=\"ressources/xor.png\" width=300px>\n",
    "\n"
   ]
  },
  {
   "cell_type": "code",
   "execution_count": null,
   "metadata": {
    "id": "8GAHVWqZmwgv"
   },
   "outputs": [],
   "source": [
    "def create_XOR(n, sigma):\n",
    "  one = sigma * np.random.randn(n, 2) + [0, 0]\n",
    "  two = sigma * np.random.randn(n, 2) + [1, 1]\n",
    "  three = sigma * np.random.randn(n, 2) + [0, 1]\n",
    "  four = sigma * np.random.randn(n, 2) + [1, 0]\n",
    "  return (np.vstack((one, two, three, four)), np.hstack((-1*np.ones(2*n), np.ones(2*n))))"
   ]
  },
  {
   "cell_type": "code",
   "execution_count": null,
   "metadata": {
    "colab": {
     "base_uri": "https://localhost:8080/",
     "height": 265
    },
    "id": "WbJHHwY-mwgv",
    "outputId": "a9045fc3-6ec7-4bbc-c5a4-461c7ab2c86c"
   },
   "outputs": [
    {
     "data": {
      "image/png": "[encoded data removed]",
      "text/plain": [
       "<Figure size 432x288 with 1 Axes>"
      ]
     },
     "metadata": {
      "needs_background": "light"
     },
     "output_type": "display_data"
    }
   ],
   "source": [
    "# une fois le fichier d'outils mis à jour, vous devez pouvoir faire:\n",
    "\n",
    "np.random.seed(42)   # on prend 42 comme graine\n",
    "\n",
    "# Génération d'un dataset avec 80 points:\n",
    "data_xor, label_xor = create_XOR(20,0.01)\n",
    "plot2DSet(data_xor, label_xor)"
   ]
  },
  {
   "cell_type": "markdown",
   "metadata": {
    "id": "arOkhe6Amwgv"
   },
   "source": [
    "<font color=\"RED\" size=\"+1\">[Q]</font> Appliquer l'algorithme du perceptron sur ces données et constater (avec quelques affichages de performances et tracés de frontières de décision) que ça ne marche pas!"
   ]
  },
  {
   "cell_type": "code",
   "execution_count": null,
   "metadata": {
    "id": "6P-O3tYnmwgv"
   },
   "outputs": [],
   "source": [
    "np.random.seed(42)   # on prend 42 comme graine\n",
    "\n",
    "# Création d'un perceptron\n",
    "perceptron_xor = ClassifierPerceptron(2,0.01)\n",
    "\n",
    "# ------------------------ A COMPLETER :\n"
   ]
  },
  {
   "cell_type": "markdown",
   "metadata": {
    "id": "AOYK9ci2mwgv"
   },
   "source": [
    "Kernel Trick\n",
    "--------------"
   ]
  },
  {
   "cell_type": "markdown",
   "metadata": {
    "id": "ntX5P0oomwgv"
   },
   "source": [
    "Les résultats précédents ne sont vraiment pas très bons, le perceptron n'arrive pas à séparer correctement les 2 classes... (expliquer pourquoi)\n",
    "\n",
    "<div class=\"alert alert-block alert-info\">\n",
    "\n",
    "L'**astuce du noyau (\"kernel trick\")** est un moyen pour améliorer ses performances.\n",
    "\n",
    "Un **noyau** est une **fonction** (on parle de *fonction noyau*, *noyau* ou *kernel*) qui permet de représenter des données d'un espace donné dans un autre espace, souvent de dimension plus grande.\n",
    "\n",
    "Comme vu en cours, l'idée est toute simple.\n",
    "\n",
    "Par exemple, on considère une matrice en 2D d'observations:\n",
    "$$X =\\left[\n",
    "    \\begin{array}{cc}\n",
    "    x_{11} & x_{12}\\\\\n",
    "    \\vdots & \\vdots \\\\\n",
    "    x_{N1} & x_{N2}\\\\\n",
    "    \\end{array}\n",
    "    \\right]\\in \\mathbb R^{N\\times 2}$$\n",
    "\n",
    "La fonction produite par un perceptron, $f(\\mathbf x) = \\mathbf w \\cdot \\mathbf x$, correspond à une frontière linéaire dans l'espace 2D... Qui passe par $(0,0)$.\n",
    "\n",
    "Mais supposons que nous ajoutons des colonnes à $X$:\n",
    "$$X^* =\\left[\n",
    "    \\begin{array}{cccccc}\n",
    "    x_{11} & x_{12} & x_{11}^2 & x_{12}^2 & x_{11} x_{12} & 1 \\\\\n",
    "    \\vdots & \\ddots &&&&\\vdots\\\\\n",
    "    x_{N1} & x{N2} & x_{N1}^2 & x_{N2}^2 & x_{N1} x_{N2} & 1 \\\\\n",
    "    \\end{array}\n",
    "    \\right]\\in \\mathbb R^{N\\times 6}$$\n",
    "\n",
    "Les colonnes ajoutées sont obtenues à partir des colonnes initiales de $X$.\n",
    "\n",
    "Maintenant, la fonction $f(\\mathbf x^*) = \\mathbf w \\cdot \\mathbf x^*$ correspond toujours à une frontière linéaire mais cette fois-ci dans un espace 6D... \n",
    "Mais sa projection dans l'espace 2D d'origine est une frontière non linéaire !\n",
    "\n",
    "\n",
    "Un **noyau**  est donc une fonction de transformation\n",
    "$$\\begin{array}{cccc}\n",
    "    K:& X & \\rightarrow & X^*\\\\\n",
    "      & \\mathbf x & \\mapsto &\\mathbf x^*\n",
    "\\end{array}$$\n",
    "\n",
    "</div>\n",
    "\n",
    "**Note** Il faudra être très attentif, on fait tous les calculs avec des $\\mathbf x^*$ mais on fait tous les affichages avec des $\\mathbf x$..."
   ]
  },
  {
   "cell_type": "markdown",
   "metadata": {
    "id": "rFX-tIBrmwgv"
   },
   "source": [
    "Pour représenter des noyaux, on définit une classe abstraite `Kernel` qui sera étendue pour chaque noyau que l'on souhaitera créer."
   ]
  },
  {
   "cell_type": "code",
   "execution_count": null,
   "metadata": {
    "id": "JFGOKF7Tmwgw"
   },
   "outputs": [],
   "source": [
    "# CLasse (abstraite) pour représenter des noyaux\n",
    "class Kernel():\n",
    "    \"\"\" Classe pour représenter des fonctions noyau\n",
    "    \"\"\"\n",
    "    def __init__(self, dim_in, dim_out):\n",
    "        \"\"\" Constructeur de Kernel\n",
    "            Argument:\n",
    "                - dim_in : dimension de l'espace de départ (entrée du noyau)\n",
    "                - dim_out: dimension de l'espace de d'arrivée (sortie du noyau)\n",
    "        \"\"\"\n",
    "        self.input_dim = dim_in\n",
    "        self.output_dim = dim_out\n",
    "        \n",
    "    def get_input_dim(self):\n",
    "        \"\"\" rend la dimension de l'espace de départ\n",
    "        \"\"\"\n",
    "        return self.input_dim\n",
    "\n",
    "    def get_output_dim(self):\n",
    "        \"\"\" rend la dimension de l'espace d'arrivée\n",
    "        \"\"\"\n",
    "        return self.output_dim\n",
    "    \n",
    "    def transform(self, V):\n",
    "        \"\"\" ndarray -> ndarray\n",
    "            fonction pour transformer V dans le nouvel espace de représentation\n",
    "        \"\"\"        \n",
    "        raise NotImplementedError(\"Please Implement this method\")\n"
   ]
  },
  {
   "cell_type": "markdown",
   "metadata": {
    "id": "8cJ2HlSymwgw"
   },
   "source": [
    "L'intérêt de définir une telle classe `Kernel` pour définir des noyaux est qu'elle permettra de définir des algorithmes de façon générique qui pourront alors prendre des noyaux quelconques en argument."
   ]
  },
  {
   "cell_type": "markdown",
   "metadata": {
    "id": "4PpwHDKMmwgw"
   },
   "source": [
    "### Un premier noyau\n",
    "\n",
    "Le premier noyau, très simple, que l'on définit permet de projeter (manuellement) des données 2D dans un espace de plus grande dimension. \n",
    "\n",
    "Voici un exemple de projection qui transforme le vecteur $(x_1,x_2)$ en vecteur $(x_1,x_2,1)$"
   ]
  },
  {
   "cell_type": "code",
   "execution_count": null,
   "metadata": {
    "id": "zpnj9gWnmwgw"
   },
   "outputs": [],
   "source": [
    "class KernelBias(Kernel):\n",
    "    \"\"\" Classe pour un noyau simple 2D -> 3D\n",
    "    \"\"\"\n",
    "    def transform(self, V):\n",
    "        \"\"\" ndarray de dim 2 -> ndarray de dim 3            \n",
    "            rajoute une 3e dimension au vecteur donné\n",
    "        \"\"\"\n",
    "        V_proj = np.append(V,np.ones((len(V),1)),axis=1)\n",
    "        return V_proj"
   ]
  },
  {
   "cell_type": "code",
   "execution_count": null,
   "metadata": {
    "colab": {
     "base_uri": "https://localhost:8080/"
    },
    "id": "ntE8ZGScmwgw",
    "outputId": "4f95ed06-bb2e-4de9-b8ee-97476f890f34"
   },
   "outputs": [
    {
     "name": "stdout",
     "output_type": "stream",
     "text": [
      "data_xor:\n",
      " [[ 0.00496714 -0.00138264]\n",
      " [ 0.00647689  0.0152303 ]\n",
      " [-0.00234153 -0.00234137]\n",
      " [ 0.01579213  0.00767435]\n",
      " [-0.00469474  0.0054256 ]]\n",
      "\n",
      "data_xor_transf:\n",
      " [[ 0.00496714 -0.00138264  1.        ]\n",
      " [ 0.00647689  0.0152303   1.        ]\n",
      " [-0.00234153 -0.00234137  1.        ]\n",
      " [ 0.01579213  0.00767435  1.        ]\n",
      " [-0.00469474  0.0054256   1.        ]]\n"
     ]
    }
   ],
   "source": [
    "# Exemple d'utilisation : \n",
    "kb = KernelBias(2,3)\n",
    "\n",
    "data_xor_bias= kb.transform(data_xor)\n",
    "\n",
    "print(\"data_xor:\\n\", data_xor[0:5,:])\n",
    "\n",
    "print(\"\\ndata_xor_transf:\\n\", data_xor_bias[0:5,:])"
   ]
  },
  {
   "cell_type": "markdown",
   "metadata": {
    "id": "Q5YIaTBgmwgw"
   },
   "source": [
    "### Un noyau un peu plus compliqué"
   ]
  },
  {
   "cell_type": "markdown",
   "metadata": {
    "id": "BKTRRLt4mwgw"
   },
   "source": [
    "<font color=\"RED\" size=\"+1\">**[Q]**</font> Définir la classe `KernelPoly` permettant de représenter le noyau : $(x_1,x_2) \\mapsto (1,x_1,x_2,x_1*x_1,x_2*x_2,x_1*x_2)$. "
   ]
  },
  {
   "cell_type": "code",
   "execution_count": null,
   "metadata": {
    "id": "1F6ZdUR5mwgw"
   },
   "outputs": [],
   "source": [
    "# ------------------------ A COMPLETER :\n",
    "\n",
    "class KernelPoly(Kernel):\n",
    "    def transform(self,V):\n",
    "        \"\"\" ndarray de dim 2 -> ndarray de dim 6            \n",
    "            ...\n",
    "        \"\"\"\n",
    "        ##TODO\n",
    "        y=np.asarray([1,V[0],V[1],V[0]**2,V[1]**2,V[0]*V[1]])\n",
    "        return y\n"
   ]
  },
  {
   "cell_type": "code",
   "execution_count": null,
   "metadata": {
    "colab": {
     "base_uri": "https://localhost:8080/"
    },
    "id": "6byMtcSNmwgw",
    "outputId": "463c1878-cc8c-4c30-d933-c58f4a2213bc"
   },
   "outputs": [
    {
     "name": "stderr",
     "output_type": "stream",
     "text": [
      "/usr/local/lib/python3.7/dist-packages/ipykernel_launcher.py:9: VisibleDeprecationWarning: Creating an ndarray from ragged nested sequences (which is a list-or-tuple of lists-or-tuples-or ndarrays with different lengths or shapes) is deprecated. If you meant to do this, you must specify 'dtype=object' when creating the ndarray.\n",
      "  if __name__ == '__main__':\n"
     ]
    },
    {
     "data": {
      "text/plain": [
       "[1,\n",
       " array([ 0.00496714, -0.00138264]),\n",
       " array([0.00647689, 0.0152303 ]),\n",
       " array([2.4672495e-05, 1.9117017e-06]),\n",
       " array([4.19500442e-05, 2.31961994e-04]),\n",
       " array([ 3.21716064e-05, -2.10580659e-05])]"
      ]
     },
     "execution_count": 98,
     "metadata": {},
     "output_type": "execute_result"
    }
   ],
   "source": [
    "# Exemple d'utilisation \n",
    "\n",
    "kp = KernelPoly(2,6)\n",
    "\n",
    "data_xor_poly = kp.transform(data_xor[0:4]).tolist()\n",
    "data_xor_poly"
   ]
  },
  {
   "cell_type": "markdown",
   "metadata": {
    "id": "oVctmyS5mwgw"
   },
   "source": [
    "<font color=\"RED\" size=\"+1\">**[Q]**</font> Implémenter la classe `ClassifierPerceptronKernel` qui étend la classe `Classifier`. \n",
    "Pour définir cette classe possède les mêmes fonctionnalités que celles de la classe `ClassifierPerceptron`, en plus, elle prend en argument, lors de sa construction, un noyau (instance de la classe `Kernel`).\n",
    "Une différence majeure avec le perceptron normal, et que le dataset fourni pour les méthodes `train_step` et `train`, ainsi que l'exemple donnée pour une prédiction, doit être *kernélisé* avant d'appliquer le traitement.\n",
    "\n",
    "*Remarques :*\n",
    "- le données sont donc kernélisée dans l'objet `ClassifierPerceptronKernel`.\n",
    "- **attention**: **Python n'est pas un vrai langage objet** et ne permet pas d'utiliser pleinement l'héritage comme le permet Java, on ne peut donc pas faire hériter `ClassifierPerceptronKernel` de `ClassifierPerceptron` pour pouvoir réutiliser certaines méthodes, on est forcé de réécrire les méthodes `train_step`,  `train`, `score` et `predict`.\n",
    " \n"
   ]
  },
  {
   "cell_type": "code",
   "execution_count": null,
   "metadata": {
    "id": "0eMZoSYamwgw"
   },
   "outputs": [],
   "source": [
    "import random\n",
    "from math import sqrt\n",
    "from random import randint\n",
    "# ------------------------ A COMPLETER :\n",
    "class ClassifierPerceptronKernel(Classifier):\n",
    "    \"\"\" Perceptron de Rosenblatt kernelisé\n",
    "    \"\"\"\n",
    "    def __init__(self, input_dimension, learning_rate, noyau, init=0):\n",
    "        \"\"\" Constructeur de Classifier\n",
    "            Argument:\n",
    "                - input_dimension (int) : dimension de la description des exemples (espace originel)\n",
    "                - learning_rate : epsilon\n",
    "                - noyau : Kernel à utiliser\n",
    "                - init est le mode d'initialisation de w: \n",
    "                    - si 0 (par défaut): initialisation à 0 de w,\n",
    "                    - si 1 : initialisation par tirage aléatoire de valeurs petites\n",
    "        \"\"\"\n",
    "        self.input_dimension = input_dimension\n",
    "        self.learning_rate = learning_rate\n",
    "        self.init = init\n",
    "        res = []\n",
    "        if init == 0:\n",
    "          self.w_de_base = np.asarray(np.zeros(3))\n",
    "        elif init == 1:\n",
    "          for i in range(3):\n",
    "            res.append((2*i - 1)*0.001)\n",
    "          self.w_de_base = np.asarray(res)\n",
    "        \n",
    "    def train_step(self, desc_set, label_set):\n",
    "        \"\"\" Réalise une unique itération sur tous les exemples du dataset\n",
    "            donné en prenant les exemples aléatoirement.\n",
    "            Arguments: (dans l'espace originel)\n",
    "                - desc_set: ndarray avec des descriptions\n",
    "                - label_set: ndarray avec les labels correspondants\n",
    "        \"\"\"        \n",
    "        def predict2(row, w):\n",
    "            activation = w[0]\n",
    "            for i in range(len(row)-1):\n",
    "              activation += w[i + 1] * row[i]\n",
    "            return -1 if activation >= 0.0 else 1\n",
    "\n",
    "        self.final = []\n",
    "        j = 0\n",
    "        while j < len(desc_set):\n",
    "          tmp = []\n",
    "          tmp.append(desc_set[j][0])\n",
    "          tmp.append(desc_set[j][1])\n",
    "          tmp.append(int(label_set[j]))\n",
    "          self.final.append(tmp)\n",
    "          j +=1\n",
    "        desc_set = self.final\n",
    "\n",
    "        ind_r = randint(0,len(desc_set)-1)\n",
    "\n",
    "        w = self.w_de_base\n",
    "        \n",
    "        row = desc_set[ind_r]\n",
    "\n",
    "        prediction = predict2(row, w)\n",
    "        error = row[-1] - prediction\n",
    "        w[0] = w[0] + self.learning_rate * error\n",
    "        for i in range(len(row)-1):\n",
    "          w[i + 1] = w[i + 1] + self.learning_rate * error * row[i]\n",
    "\n",
    "        self.w_de_base = w\n",
    "\n",
    "        return w\n",
    "     \n",
    "    def train(self, desc_set, label_set, niter_max=100, seuil=0.001):\n",
    "        \"\"\" Apprentissage itératif du perceptron sur le dataset donné.\n",
    "            Arguments: (dans l'espace originel)\n",
    "                - desc_set: ndarray avec des descriptions\n",
    "                - label_set: ndarray avec les labels correspondants\n",
    "                - niter_max (par défaut: 100) : nombre d'itérations maximale\n",
    "                - seuil (par défaut: 0.01) : seuil de convergence\n",
    "            Retour: la fonction rend une liste\n",
    "                - liste des valeurs de norme de différences\n",
    "        \"\"\"        \n",
    "        ret = []  \n",
    "        i = 1\n",
    "        w_old = self.train_step(desc_set, label_set)\n",
    "        while i < niter_max:\n",
    "          w_new = self.train_step(desc_set, label_set)\n",
    "          d = np.linalg.norm(w_old - w_new)\n",
    "          ret.append(d)\n",
    "          #if i != 1:\n",
    "            #if d < seuil:\n",
    "              #break\n",
    "          w_old = w_new.copy()\n",
    "          i += 1\n",
    "        ret.pop(0)\n",
    "        return ret   \n",
    "    \n",
    "    def score(self,x):\n",
    "      \"\"\" rend le score de prédiction sur x \n",
    "      x: une description (dans l'espace originel)\n",
    "      \"\"\"\n",
    "      score = self.w_de_base[0]\n",
    "      for i in range(len(x)):\n",
    "        score += self.w_de_base[i + 1] * x[i]\n",
    "        return score\n",
    "\n",
    "\n",
    "    \n",
    "    def predict(self, x):\n",
    "      score = self.score(x)\n",
    "      return 1 if score >= 0.0 else -1\n",
    "\n"
   ]
  },
  {
   "cell_type": "markdown",
   "metadata": {
    "id": "VR9PaKs7mwgx"
   },
   "source": [
    "<font color=\"RED\" size=\"+1\">**[Q]**</font> Entraîner un perceptron kernelisé utilisant un `KernelPoly` sur un dataset correspondant au XOR. Que constate-t-on ? Expliquer."
   ]
  },
  {
   "cell_type": "code",
   "execution_count": null,
   "metadata": {
    "id": "YODZ2QUwmwgx"
   },
   "outputs": [],
   "source": [
    "# Pour avoir les mêmes valeurs aléatoires :\n",
    "np.random.seed(42)   # supprimer cette ligne une fois la mise au point terminée\n",
    "\n",
    "# ------------------------ A COMPLETER :\n",
    "\n"
   ]
  },
  {
   "cell_type": "markdown",
   "metadata": {
    "id": "3aBj9Y8mmwgx"
   },
   "source": [
    "## Expérimentations\n",
    "\n",
    "Compléter ce notebook par des expérimentations sur le Perceptron, par exemple :\n",
    "1. Test sur les données USPS (cf. TME 2)\n",
    "    1. Nous travaillerons uniquement dans le cas binaire. Prendre les 1 vs 2 (cas facile) puis les 3 vs 6 ou 9 (cas nettement plus dur)\n",
    "    \n",
    "1. Faire le parallèle avec le temps d'inférence sur les k-ppv de la semaine précédente\n"
   ]
  },
  {
   "cell_type": "code",
   "execution_count": null,
   "metadata": {
    "id": "E-0FuY-Omwgx"
   },
   "outputs": [],
   "source": []
  }
 ],
 "metadata": {
  "colab": {
   "collapsed_sections": [],
   "name": "tme-03-v2.ipynb",
   "provenance": []
  },
  "kernelspec": {
   "display_name": "Python 3 (ipykernel)",
   "language": "python",
   "name": "python3"
  },
  "language_info": {
   "codemirror_mode": {
    "name": "ipython",
    "version": 3
   },
   "file_extension": ".py",
   "mimetype": "text/x-python",
   "name": "python",
   "nbconvert_exporter": "python",
   "pygments_lexer": "ipython3",
   "version": "3.8.10"
  }
 },
 "nbformat": 4,
 "nbformat_minor": 1
}
