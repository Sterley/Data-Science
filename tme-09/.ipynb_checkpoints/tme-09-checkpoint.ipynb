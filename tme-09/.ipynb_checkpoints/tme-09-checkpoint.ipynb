{
 "cells": [
  {
   "cell_type": "markdown",
   "metadata": {},
   "source": [
    "IA & Data science (LU3IN0226) -- 2021-2022\n",
    "--------\n",
    "*&copy; Equipe pédagogique: Vincent Guigue, Christophe Marsala, Olivier Schwander.*"
   ]
  },
  {
   "cell_type": "markdown",
   "metadata": {},
   "source": [
    "# TD-TME09: algorithmes d'apprentissage non-supervisé"
   ]
  },
  {
   "cell_type": "markdown",
   "metadata": {},
   "source": [
    "L'objectif de ce TP est d'implémenter des algorithmes d'apprentissage non-supervisé, en particulier, l'algorithme de classification hiérarchique."
   ]
  },
  {
   "cell_type": "markdown",
   "metadata": {},
   "source": [
    "<font color=\"RED\" size=\"+1\">**[Q]**</font> **Indiquer dans la boîte ci-dessous vos noms et prénoms :**"
   ]
  },
  {
   "cell_type": "markdown",
   "metadata": {},
   "source": [
    "*GOJAK Zlatan LABADY Sterley*"
   ]
  },
  {
   "cell_type": "markdown",
   "metadata": {},
   "source": [
    "<font color=\"RED\" size=\"+1\"><b>[Q]</b></font> **Renommer ce fichier ipython**\n",
    "\n",
    "Tout en haut de cette page, cliquer sur <tt>tme-09</tt> et rajouter à la suite de <tt>tme-09</tt> les noms des membres du binômes séparés par un tiret.\n",
    "\n",
    "<font color=\"RED\" size=\"+1\">IMPORTANT: soumission de votre fichier final</font>\n",
    "\n",
    "**Nom à donner au fichier à poster** : *tme-09-Nom1_Nom2.ipynb* \n",
    "- *Nom1* et *Nom2* : noms des membres du binôme\n",
    "- ne pas compresser ou faire une archive: il faut rendre le fichier ipython tel quel, éventuellement, si vous avez d'autres fichiers vous les rendez séparément.\n",
    "\n",
    "**Echancier pour la soumission de votre compte-rendu:**\n",
    "- le compte-rendu d'une séance doit être remis obligatoirement <font color=\"RED\">avant la séance suivante</font>.\n",
    "\n",
    "**Le compte-rendu est soumis sur la page Moodle.**"
   ]
  },
  {
   "cell_type": "markdown",
   "metadata": {},
   "source": [
    "\n",
    "## Préparation"
   ]
  },
  {
   "cell_type": "markdown",
   "metadata": {},
   "source": [
    "L'archive récupérée avec ce fichier contient aussi le répertoire <code>data</code> qui contient les bases pour expérimenter vos fonctions."
   ]
  },
  {
   "cell_type": "code",
   "execution_count": 2,
   "metadata": {},
   "outputs": [
    {
     "name": "stdout",
     "output_type": "stream",
     "text": [
      "The autoreload extension is already loaded. To reload it, use:\n",
      "  %reload_ext autoreload\n"
     ]
    }
   ],
   "source": [
    "# Importation des librairies standards:\n",
    "import math as mt\n",
    "import numpy as np\n",
    "import pandas as pd\n",
    "import matplotlib.pyplot as plt\n",
    "import copy \n",
    "%matplotlib inline  \n",
    "\n",
    "# Importation de votre librairie iads:\n",
    "# La ligne suivante permet de préciser le chemin d'accès à la librairie iads\n",
    "import sys\n",
    "sys.path.append('../')   # iads doit être dans le répertoire frère du répertoire courant !\n",
    "\n",
    "# Importation de la librairie iads\n",
    "import iads as iads\n",
    "\n",
    "# importation de Classifiers\n",
    "from iads import Classifiers as cl\n",
    "\n",
    "# importation de utils\n",
    "from iads import utils as ut\n",
    "\n",
    "# commande TRES utile pour recharger automatiquement le code que vous modifiez dans les modules\n",
    "%load_ext autoreload\n",
    "%autoreload 2"
   ]
  },
  {
   "cell_type": "markdown",
   "metadata": {},
   "source": [
    "## Travail à réaliser"
   ]
  },
  {
   "cell_type": "markdown",
   "metadata": {},
   "source": [
    "Le travail à faire se décompose en 2 phases :\n",
    "- dans un premier temps, le travail porte sur la base d'apprentissage <code>base-2D.csv</code> qui contient des exemples décrits dans $R^2$. Ainsi, il est plus aisé de visualiser les résultats des fonctions à écrire ;\n",
    "- dans un second temps, les fonctions écrites dans la phase précédente sont à utiliser avec la base d'apprentissage `base-Paris.csv`.\n",
    "\n",
    "**Attention**: vos fonctions doivent **dès leur création** pouvoir s'appliquer **quelle que soit la dimension** des exemples traités."
   ]
  },
  {
   "cell_type": "markdown",
   "metadata": {},
   "source": [
    "## Phase 1: implémentation des fonctions de base"
   ]
  },
  {
   "cell_type": "markdown",
   "metadata": {},
   "source": [
    "### Chargement du fichier \"base_2D.csv\"\n",
    "\n",
    "Charger le fichier `base_2D.csv` et, par exemple avec la fonction `read_csv` de pandas. Le résultat est stocké sous la forme d'un dataframe."
   ]
  },
  {
   "cell_type": "code",
   "execution_count": 3,
   "metadata": {},
   "outputs": [
    {
     "name": "stdout",
     "output_type": "stream",
     "text": [
      "Il y a 14 exemples dans la base.\n"
     ]
    }
   ],
   "source": [
    "data_2D = pd.read_csv(\"data/base-2D.csv\")\n",
    "\n",
    "print(\"Il y a\", len(data_2D), \"exemples dans la base.\")"
   ]
  },
  {
   "cell_type": "code",
   "execution_count": null,
   "metadata": {},
   "outputs": [],
   "source": []
  },
  {
   "cell_type": "code",
   "execution_count": 4,
   "metadata": {},
   "outputs": [
    {
     "data": {
      "text/html": [
       "<div>\n",
       "<style scoped>\n",
       "    .dataframe tbody tr th:only-of-type {\n",
       "        vertical-align: middle;\n",
       "    }\n",
       "\n",
       "    .dataframe tbody tr th {\n",
       "        vertical-align: top;\n",
       "    }\n",
       "\n",
       "    .dataframe thead th {\n",
       "        text-align: right;\n",
       "    }\n",
       "</style>\n",
       "<table border=\"1\" class=\"dataframe\">\n",
       "  <thead>\n",
       "    <tr style=\"text-align: right;\">\n",
       "      <th></th>\n",
       "      <th>X</th>\n",
       "      <th>Y</th>\n",
       "    </tr>\n",
       "  </thead>\n",
       "  <tbody>\n",
       "    <tr>\n",
       "      <th>0</th>\n",
       "      <td>0.0</td>\n",
       "      <td>4.0</td>\n",
       "    </tr>\n",
       "    <tr>\n",
       "      <th>1</th>\n",
       "      <td>1.0</td>\n",
       "      <td>3.5</td>\n",
       "    </tr>\n",
       "    <tr>\n",
       "      <th>2</th>\n",
       "      <td>1.0</td>\n",
       "      <td>1.0</td>\n",
       "    </tr>\n",
       "    <tr>\n",
       "      <th>3</th>\n",
       "      <td>2.0</td>\n",
       "      <td>1.0</td>\n",
       "    </tr>\n",
       "    <tr>\n",
       "      <th>4</th>\n",
       "      <td>2.0</td>\n",
       "      <td>2.0</td>\n",
       "    </tr>\n",
       "    <tr>\n",
       "      <th>5</th>\n",
       "      <td>4.0</td>\n",
       "      <td>4.0</td>\n",
       "    </tr>\n",
       "    <tr>\n",
       "      <th>6</th>\n",
       "      <td>4.0</td>\n",
       "      <td>5.0</td>\n",
       "    </tr>\n",
       "    <tr>\n",
       "      <th>7</th>\n",
       "      <td>4.0</td>\n",
       "      <td>6.0</td>\n",
       "    </tr>\n",
       "    <tr>\n",
       "      <th>8</th>\n",
       "      <td>4.5</td>\n",
       "      <td>1.0</td>\n",
       "    </tr>\n",
       "    <tr>\n",
       "      <th>9</th>\n",
       "      <td>4.5</td>\n",
       "      <td>6.0</td>\n",
       "    </tr>\n",
       "    <tr>\n",
       "      <th>10</th>\n",
       "      <td>5.0</td>\n",
       "      <td>1.0</td>\n",
       "    </tr>\n",
       "    <tr>\n",
       "      <th>11</th>\n",
       "      <td>5.0</td>\n",
       "      <td>5.0</td>\n",
       "    </tr>\n",
       "    <tr>\n",
       "      <th>12</th>\n",
       "      <td>6.0</td>\n",
       "      <td>2.0</td>\n",
       "    </tr>\n",
       "    <tr>\n",
       "      <th>13</th>\n",
       "      <td>7.0</td>\n",
       "      <td>4.0</td>\n",
       "    </tr>\n",
       "  </tbody>\n",
       "</table>\n",
       "</div>"
      ],
      "text/plain": [
       "      X    Y\n",
       "0   0.0  4.0\n",
       "1   1.0  3.5\n",
       "2   1.0  1.0\n",
       "3   2.0  1.0\n",
       "4   2.0  2.0\n",
       "5   4.0  4.0\n",
       "6   4.0  5.0\n",
       "7   4.0  6.0\n",
       "8   4.5  1.0\n",
       "9   4.5  6.0\n",
       "10  5.0  1.0\n",
       "11  5.0  5.0\n",
       "12  6.0  2.0\n",
       "13  7.0  4.0"
      ]
     },
     "execution_count": 4,
     "metadata": {},
     "output_type": "execute_result"
    }
   ],
   "source": [
    "# Le dataframe:\n",
    "data_2D"
   ]
  },
  {
   "cell_type": "markdown",
   "metadata": {},
   "source": [
    "<font size=\"+1\" color=\"RED\">**[Q]**</font> Afficher la base sous forme graphique.\n"
   ]
  },
  {
   "cell_type": "code",
   "execution_count": 5,
   "metadata": {},
   "outputs": [
    {
     "data": {
      "text/plain": [
       "<matplotlib.collections.PathCollection at 0x7f80370c8c40>"
      ]
     },
     "execution_count": 5,
     "metadata": {},
     "output_type": "execute_result"
    },
    {
     "data": {
      "image/png": "[encoded data removed]",
      "text/plain": [
       "<Figure size 432x288 with 1 Axes>"
      ]
     },
     "metadata": {
      "needs_background": "light"
     },
     "output_type": "display_data"
    }
   ],
   "source": [
    "data = np.array(data_2D)\n",
    "plt.scatter(data[:,0],data[:,1])"
   ]
  },
  {
   "cell_type": "markdown",
   "metadata": {},
   "source": [
    "## Fonctions préliminaires"
   ]
  },
  {
   "cell_type": "markdown",
   "metadata": {},
   "source": [
    "### Normalisation des données"
   ]
  },
  {
   "cell_type": "markdown",
   "metadata": {},
   "source": [
    "<font size=\"+1\" color=\"RED\"><b>[Q]</b></font> Donner les instructions permettant d'afficher les valeurs minimales et maximales de chaque colonne du dataframe `base_2D`.\n",
    "\n",
    "Remarque : soyez général ! Il faut que ces instructions restent valables quel que soit le dataframe donné (noms et nombre de colonnes non connus au départ par exemple).\n"
   ]
  },
  {
   "cell_type": "code",
   "execution_count": 6,
   "metadata": {},
   "outputs": [
    {
     "name": "stdout",
     "output_type": "stream",
     "text": [
      "Minimum et maximum de chaque colonne:\n",
      "Colonne 1:  0.0 \n",
      "Colonne 2:  1.0\n"
     ]
    }
   ],
   "source": [
    "minData1 = min(data[:,0])\n",
    "minData2 = min(data[:,1])\n",
    "print(\"Minimum et maximum de chaque colonne:\")\n",
    "print(\"Colonne 1: \",minData1,\"\\nColonne 2: \",minData2)\n"
   ]
  },
  {
   "cell_type": "markdown",
   "metadata": {},
   "source": []
  },
  {
   "cell_type": "markdown",
   "metadata": {},
   "source": [
    "<font size=\"+1\" color=\"RED\"><b>[Q]</b></font> Ecrire la fonction <code>normalisation</code> qui prend en argument un <code>DataFrame</code> et rend le dataframe obtenu en normalisant chaque colonne de ce <code>DataFrame</code> (ie. les valeurs de la matrice résultat doivent être dans l'intervalle $[0,1])$.\n"
   ]
  },
  {
   "cell_type": "code",
   "execution_count": 7,
   "metadata": {},
   "outputs": [],
   "source": [
    "def normalisation(DataFrame):\n",
    "    df = DataFrame.copy()\n",
    "    for column in DataFrame.columns: \n",
    "        df[column] = (df[column] - df[column].min()) /( df[column].max() - df[column].min())\n",
    "    return(df)\n",
    "    \n",
    "\n",
    "def normalisationAbs(DataFrame):\n",
    "    df = DataFrame.copy()\n",
    "    for column in df.columns: \n",
    "        df[column] = df[column]  / df[column].abs().max() \n",
    "    return(df)\n"
   ]
  },
  {
   "cell_type": "code",
   "execution_count": null,
   "metadata": {},
   "outputs": [],
   "source": []
  },
  {
   "cell_type": "markdown",
   "metadata": {},
   "source": [
    "<font size=\"+1\" color=\"RED\"><b>[Q]</b></font> Normaliser les données de la base-2D et afficher leur représentation graphique: vérifier que le tracé est le même que celui obtenu avant la normalisation (aux valeurs des axes près)."
   ]
  },
  {
   "cell_type": "code",
   "execution_count": 9,
   "metadata": {},
   "outputs": [
    {
     "data": {
      "text/plain": [
       "<matplotlib.collections.PathCollection at 0x7f80366cc790>"
      ]
     },
     "execution_count": 9,
     "metadata": {},
     "output_type": "execute_result"
    },
    {
     "data": {
      "image/png": "[encoded data removed]",
      "text/plain": [
       "<Figure size 432x288 with 1 Axes>"
      ]
     },
     "metadata": {
      "needs_background": "light"
     },
     "output_type": "display_data"
    }
   ],
   "source": [
    "data_2D_norm = normalisation(data_2D)   # A COMPLETER\n",
    "data = np.array(data_2D_norm)\n",
    "plt.scatter(data[:,0],data[:,1])"
   ]
  },
  {
   "cell_type": "code",
   "execution_count": null,
   "metadata": {},
   "outputs": [],
   "source": []
  },
  {
   "cell_type": "markdown",
   "metadata": {},
   "source": [
    "### Distances entre exemples"
   ]
  },
  {
   "cell_type": "markdown",
   "metadata": {},
   "source": [
    "<font size=\"+1\" color=\"RED\"><b>[Q]</b></font> Ecrire la fonction <code>dist_euclidienne</code> qui prend en argument deux exemples sous la forme de vecteurs (Dataframe ou np.array) et rend leur distance euclidienne. "
   ]
  },
  {
   "cell_type": "code",
   "execution_count": 10,
   "metadata": {},
   "outputs": [],
   "source": [
    "def dist_euclidienne(vec1,vec2):\n",
    "    return np.linalg.norm(vec1 - vec2)"
   ]
  },
  {
   "cell_type": "code",
   "execution_count": 14,
   "metadata": {},
   "outputs": [
    {
     "name": "stdout",
     "output_type": "stream",
     "text": [
      "v1 :  X    0.0\n",
      "Y    0.6\n",
      "Name: 0, dtype: float64 \n",
      "v2 :  X    0.142857\n",
      "Y    0.500000\n",
      "Name: 1, dtype: float64\n",
      "distance euclidienne entre v1 et v2 :  0.17437936593905287\n"
     ]
    }
   ],
   "source": [
    "v1= data_2D_norm.iloc[0]\n",
    "v2= data_2D_norm.iloc[1]\n",
    "print(\"v1 : \",v1, \"\\nv2 : \",v2)\n",
    "print(\"distance euclidienne entre v1 et v2 : \", dist_euclidienne(v1,v2))"
   ]
  },
  {
   "cell_type": "code",
   "execution_count": 15,
   "metadata": {},
   "outputs": [
    {
     "name": "stdout",
     "output_type": "stream",
     "text": [
      "v1 :  [0.  0.6] \n",
      "v2 :  [0.14285714 0.5       ]\n",
      "distance euclidienne entre v1 et v2 :  0.17437936593905287\n"
     ]
    }
   ],
   "source": [
    "# Remarque : si elle est bien écrite, la fonction doit fonctionner aussi pour un np.array:\n",
    "\n",
    "v1= np.array(data_2D_norm.iloc[0])\n",
    "v2= np.array(data_2D_norm.iloc[1])\n",
    "\n",
    "print(\"v1 : \",v1, \"\\nv2 : \",v2)\n",
    "print(\"distance euclidienne entre v1 et v2 : \", dist_euclidienne(v1,v2))"
   ]
  },
  {
   "cell_type": "code",
   "execution_count": 11,
   "metadata": {},
   "outputs": [
    {
     "name": "stdout",
     "output_type": "stream",
     "text": [
      "v3 :  [0 0 0] \n",
      "v4 :  [1 1 1]\n",
      "distance euclidienne entre v3 et v4 :  1.7320508075688772\n",
      "v5 :  [0 0 0] \n",
      "v6 :  [-1  0  1]\n",
      "distance euclidienne entre v5 et v6 :  1.4142135623730951\n"
     ]
    }
   ],
   "source": [
    "# autre exemples:\n",
    "v3= np.array([0,0,0])\n",
    "v4= np.array([1,1,1])\n",
    "print(\"v3 : \",v3, \"\\nv4 : \",v4)\n",
    "print(\"distance euclidienne entre v3 et v4 : \", dist_euclidienne(v3,v4))\n",
    "v5= np.array([0,0,0])\n",
    "v6= np.array([-1,0,1])\n",
    "print(\"v5 : \",v5, \"\\nv6 : \",v6)\n",
    "print(\"distance euclidienne entre v5 et v6 : \", dist_euclidienne(v5,v6))"
   ]
  },
  {
   "cell_type": "markdown",
   "metadata": {},
   "source": [
    "<font size=\"+1\" color=\"RED\">**[Q]**</font> Sur le même modèle, écrire la fonction <code>dist_manhattan</code> qui prend en argument deux exemples et rend leur distance de Manhattan. "
   ]
  },
  {
   "cell_type": "code",
   "execution_count": 22,
   "metadata": {},
   "outputs": [],
   "source": [
    "def dist_manhattan(vec1, vec2):\n",
    "    res = 0\n",
    "    for i in range(len(vec1)):\n",
    "        res += abs(vec1[i] - vec2[i])\n",
    "    return res"
   ]
  },
  {
   "cell_type": "code",
   "execution_count": 23,
   "metadata": {},
   "outputs": [
    {
     "name": "stdout",
     "output_type": "stream",
     "text": [
      "           X    Y\n",
      "0   0.000000  0.6\n",
      "1   0.142857  0.5\n",
      "2   0.142857  0.0\n",
      "3   0.285714  0.0\n",
      "4   0.285714  0.2\n",
      "5   0.571429  0.6\n",
      "6   0.571429  0.8\n",
      "7   0.571429  1.0\n",
      "8   0.642857  0.0\n",
      "9   0.642857  1.0\n",
      "10  0.714286  0.0\n",
      "11  0.714286  0.8\n",
      "12  0.857143  0.2\n",
      "13  1.000000  0.6\n",
      "v1 : \n",
      " X    0.0\n",
      "Y    0.6\n",
      "Name: 0, dtype: float64\n",
      "v2 : \n",
      " X    0.142857\n",
      "Y    0.500000\n",
      "Name: 1, dtype: float64\n",
      "distance de Manhattan entre v1 et v2 :  0.24285714285714283\n"
     ]
    }
   ],
   "source": [
    "# Exemple d'utilisation sur les 2 premiers exemples de la base:\n",
    "v1= data_2D_norm.iloc[0]\n",
    "v2= data_2D_norm.iloc[1]\n",
    "print(data_2D_norm)\n",
    "print(\"v1 : \\n\",v1)\n",
    "print(\"v2 : \\n\",v2)\n",
    "print(\"distance de Manhattan entre v1 et v2 : \", dist_manhattan(v1,v2))"
   ]
  },
  {
   "cell_type": "code",
   "execution_count": 24,
   "metadata": {},
   "outputs": [
    {
     "name": "stdout",
     "output_type": "stream",
     "text": [
      "v3 :  [0 0 0] \n",
      "v4 :  [1 1 1]\n",
      "distance de Manhattan entre v3 et v4 :  3\n",
      "v5 :  [0 0 0] \n",
      "v6 :  [-1  0  1]\n",
      "distance de Manhattan entre v5 et v6 :  2\n"
     ]
    }
   ],
   "source": [
    "# autre exemples:\n",
    "v3= np.array([0,0,0])\n",
    "v4= np.array([1,1,1])\n",
    "print(\"v3 : \",v3, \"\\nv4 : \",v4)\n",
    "print(\"distance de Manhattan entre v3 et v4 : \", dist_manhattan(v3,v4))\n",
    "v5= np.array([0,0,0])\n",
    "v6= np.array([-1,0,1])\n",
    "print(\"v5 : \",v5, \"\\nv6 : \",v6)\n",
    "print(\"distance de Manhattan entre v5 et v6 : \", dist_manhattan(v5,v6))"
   ]
  },
  {
   "cell_type": "markdown",
   "metadata": {},
   "source": [
    "<font size=\"+1\" color=\"RED\"><b>[Q]</b></font>Ecrire la fonction <code>dist_vect</code> qui prend en argument une chaîne de caractères (soit la chaîne \"euclidienne\", soit \"manhattan\") ainsi que deux vecteurs et qui rend leur distance soit euclidienne, soit de Manhattan selon le cas."
   ]
  },
  {
   "cell_type": "code",
   "execution_count": 26,
   "metadata": {},
   "outputs": [],
   "source": [
    "def dist_vect(nom, vec1, vec2):\n",
    "    if nom == \"euclidienne\":\n",
    "        return dist_euclidienne(vec1, vec2)\n",
    "    elif nom == \"manhattan\":\n",
    "        return dist_manhattan(vec1,vec2)\n",
    "    else:\n",
    "        print(\"Distance :\", nom, \" non acceptée.\")\n",
    "\n",
    "    "
   ]
  },
  {
   "cell_type": "code",
   "execution_count": 27,
   "metadata": {
    "scrolled": true
   },
   "outputs": [
    {
     "name": "stdout",
     "output_type": "stream",
     "text": [
      "v1 :  X    0.0\n",
      "Y    0.6\n",
      "Name: 0, dtype: float64 \n",
      "v2 :  [0.14285714 0.5       ]\n",
      "distance  euclidienne  entre v1 et v2 :\t 0.17437936593905287\n",
      "distance  manhattan  entre v1 et v2 :\t 0.24285714285714283\n"
     ]
    }
   ],
   "source": [
    "v1= data_2D_norm.iloc[0]\n",
    "v2= np.array(data_2D_norm.iloc[1])\n",
    "print(\"v1 : \",v1, \"\\nv2 : \",v2)\n",
    "\n",
    "for nom in [\"euclidienne\", \"manhattan\"] :\n",
    "     print(\"distance \", nom, \" entre v1 et v2 :\\t\", dist_vect(nom,v1,v2))\n"
   ]
  },
  {
   "cell_type": "markdown",
   "metadata": {},
   "source": [
    "### Calcul de centroides"
   ]
  },
  {
   "cell_type": "markdown",
   "metadata": {},
   "source": [
    "<font size=\"+1\" color=\"RED\"><b>[Q]</b></font> Ecrire la fonction <code>centroide</code> qui, étant donné un dataframe (ou un np.array) contenant plusieurs exemples rend leur centre de gravité (centroide).\n",
    "On fait l'hypothèse qu'il y a toujours au moins un exemple.\n"
   ]
  },
  {
   "cell_type": "code",
   "execution_count": 28,
   "metadata": {},
   "outputs": [],
   "source": [
    "def centroide(DataFrame):\n",
    "    data1 = np.array(DataFrame)\n",
    "    res = np.mean(data1[:,-2:], axis=0)\n",
    "    return res"
   ]
  },
  {
   "cell_type": "code",
   "execution_count": 29,
   "metadata": {},
   "outputs": [
    {
     "data": {
      "text/plain": [
       "array([0.51020408, 0.45      ])"
      ]
     },
     "execution_count": 29,
     "metadata": {},
     "output_type": "execute_result"
    }
   ],
   "source": [
    "centroide(data_2D_norm)"
   ]
  },
  {
   "cell_type": "code",
   "execution_count": 30,
   "metadata": {},
   "outputs": [
    {
     "data": {
      "text/plain": [
       "array([0.51020408, 0.45      ])"
      ]
     },
     "execution_count": 30,
     "metadata": {},
     "output_type": "execute_result"
    }
   ],
   "source": [
    "# Remarque : si elle est bien écrite, la fonction doit fonctionner aussi pour un np.array:\n",
    "centroide( np.array(data_2D_norm) )"
   ]
  },
  {
   "cell_type": "markdown",
   "metadata": {},
   "source": [
    "### Distances entre groupes d'exemples\n"
   ]
  },
  {
   "cell_type": "markdown",
   "metadata": {},
   "source": [
    "La distance entre deux groupes d'exemples correspond à la distance entre leurs centroïdes (approche \"centroid linkage\"). Pour cette approche, on prendra seulement la distance euclidienne.\n",
    "\n",
    "<font size=\"+1\" color=\"RED\"><b>[Q]</b></font> Ecrire la fonction <code>dist_centroides</code> qui prend en argument deux groupes de vecteurs (dataframe ou np.array) et qui rend leur distance euclidienne.\n"
   ]
  },
  {
   "cell_type": "code",
   "execution_count": 31,
   "metadata": {},
   "outputs": [],
   "source": [
    "def dist_centroides(vec1, vec2):\n",
    "    return dist_euclidienne(centroide(vec1),centroide (vec2))"
   ]
  },
  {
   "cell_type": "code",
   "execution_count": 32,
   "metadata": {},
   "outputs": [
    {
     "data": {
      "text/plain": [
       "0.586345478713841"
      ]
     },
     "execution_count": 32,
     "metadata": {},
     "output_type": "execute_result"
    }
   ],
   "source": [
    "# Par exemple:\n",
    "dist_centroides(data_2D_norm.iloc[0:4],data_2D_norm.iloc[5:13])"
   ]
  },
  {
   "cell_type": "markdown",
   "metadata": {},
   "source": [
    "## L'algorithme de classification hiérarchique"
   ]
  },
  {
   "cell_type": "markdown",
   "metadata": {},
   "source": [
    "Dans la suite de cet exercice, une partition (qui est un groupe de clusters) est représentée par une structure de données de type dictionnaire (<code>dict()</code> en python) :\n",
    "- la clé est un numéro de cluster (sous la forme d'un entier naturel) ;\n",
    "- la valeur associée est un liste contenant les indices des exemples qui sont dans le cluster correspondant.\n",
    "\n",
    "Les indices sont ceux du dataframe qui contient la base initiale.\n",
    "\n",
    "<b>Dans ce qui suit, on appelle \"partition\" un tel dictionnaire.</b>\n",
    "\n",
    "\n",
    "Rappel: `iloc` accepte une liste d'indices pour extraire des lignes d'un dataframe..."
   ]
  },
  {
   "cell_type": "code",
   "execution_count": 22,
   "metadata": {},
   "outputs": [
    {
     "data": {
      "text/html": [
       "<div>\n",
       "<style scoped>\n",
       "    .dataframe tbody tr th:only-of-type {\n",
       "        vertical-align: middle;\n",
       "    }\n",
       "\n",
       "    .dataframe tbody tr th {\n",
       "        vertical-align: top;\n",
       "    }\n",
       "\n",
       "    .dataframe thead th {\n",
       "        text-align: right;\n",
       "    }\n",
       "</style>\n",
       "<table border=\"1\" class=\"dataframe\">\n",
       "  <thead>\n",
       "    <tr style=\"text-align: right;\">\n",
       "      <th></th>\n",
       "      <th>X</th>\n",
       "      <th>Y</th>\n",
       "    </tr>\n",
       "  </thead>\n",
       "  <tbody>\n",
       "    <tr>\n",
       "      <th>0</th>\n",
       "      <td>0.000000</td>\n",
       "      <td>0.6</td>\n",
       "    </tr>\n",
       "    <tr>\n",
       "      <th>3</th>\n",
       "      <td>0.285714</td>\n",
       "      <td>0.0</td>\n",
       "    </tr>\n",
       "    <tr>\n",
       "      <th>1</th>\n",
       "      <td>0.142857</td>\n",
       "      <td>0.5</td>\n",
       "    </tr>\n",
       "  </tbody>\n",
       "</table>\n",
       "</div>"
      ],
      "text/plain": [
       "          X    Y\n",
       "0  0.000000  0.6\n",
       "3  0.285714  0.0\n",
       "1  0.142857  0.5"
      ]
     },
     "execution_count": 22,
     "metadata": {},
     "output_type": "execute_result"
    }
   ],
   "source": [
    "data_2D_norm.iloc[[0,3,1]]"
   ]
  },
  {
   "cell_type": "markdown",
   "metadata": {},
   "source": [
    "<font size=\"+1\" color=\"RED\"><b>[Q]</b></font> Ecrire la fonction <code>initialise</code> qui, étant donné un dataframe DF, rend une partition contenant autant d'entrées que d'exemples dans DF. La clé de chaque entrée sera le numéro de l'exemple."
   ]
  },
  {
   "cell_type": "code",
   "execution_count": 39,
   "metadata": {},
   "outputs": [],
   "source": [
    "def initialise(DataFrame):\n",
    "    dic = dict()\n",
    "    x,y = DataFrame.shape\n",
    "    for i in range(0,x):\n",
    "        dic.update({i: [i]})\n",
    "    return dic"
   ]
  },
  {
   "cell_type": "code",
   "execution_count": 40,
   "metadata": {},
   "outputs": [
    {
     "data": {
      "text/plain": [
       "{0: [0],\n",
       " 1: [1],\n",
       " 2: [2],\n",
       " 3: [3],\n",
       " 4: [4],\n",
       " 5: [5],\n",
       " 6: [6],\n",
       " 7: [7],\n",
       " 8: [8],\n",
       " 9: [9],\n",
       " 10: [10],\n",
       " 11: [11],\n",
       " 12: [12],\n",
       " 13: [13]}"
      ]
     },
     "execution_count": 40,
     "metadata": {},
     "output_type": "execute_result"
    }
   ],
   "source": [
    "# Par exemple:\n",
    "depart = initialise(data_2D_norm)\n",
    "depart"
   ]
  },
  {
   "cell_type": "markdown",
   "metadata": {},
   "source": [
    "### Variante 1: chaînage par centroides"
   ]
  },
  {
   "cell_type": "markdown",
   "metadata": {},
   "source": [
    "On souhaite implémenter ici l'algorithme de classification hiérarchique basé sur l'utilisation d'un chaînage par centroides (approche \"centroid linkage\").\n",
    "\n",
    "On commence par implémenter une fonction qui, étant donné une partition, permet de regrouper les 2 clusters les plus proches. Ces 2 clusters sont alors fusionnés pour n'en former qu'un seul qui est ajouté à la partition, alors que les 2 clusters initiaux sont retirés de la partition.\n",
    "\n",
    "On fait l'hypothèse que la partition initiale contient au moins 2 groupes.\n",
    "\n",
    "<font size=\"+1\" color=\"RED\"><b>[Q]</b></font> Ecrire la fonction <code>fusionne</code> qui prend en argument un dataframe contenant des exemples et une partition P0 et qui rend le tuple composé des 4 valeurs suivantes:\n",
    "- la partition P1 obtenue après fusion des 2 clusters de P0 les plus proches ;\n",
    "- les clés des 2 clusters de P0 qui ont été fusionnés et qui ne sont donc plus dans P1 ;\n",
    "- la distance qui séparait ces 2 clusters, calculée selon le nom de distance donné.\n",
    "\n",
    "Vous rajouterez un troisième argument (avec valeur par défaut) à la fonction : `verbose=False` qui indique si un message doit être affiché à la fin de la fonction donnant le nom des 2 éléments fusionnés et leur distance."
   ]
  },
  {
   "cell_type": "code",
   "execution_count": null,
   "metadata": {},
   "outputs": [],
   "source": []
  },
  {
   "cell_type": "code",
   "execution_count": 43,
   "metadata": {},
   "outputs": [],
   "source": [
    "def fusionne(DF, PO,verbose = False):\n",
    "    indice = (0,0)\n",
    "    min = 10000\n",
    "    toRead = PO.keys()\n",
    "    for i in toRead:\n",
    "        for j in toRead:\n",
    "            if i == j:\n",
    "                continue\n",
    "            dist = dist_centroides(DF.iloc[PO[i]],DF.iloc[PO[j]])\n",
    "            if dist<= min :\n",
    "                min = dist\n",
    "                indice = (i,j)\n",
    "    if verbose == True :\n",
    "        print(\"Distance mininimale trouvée entre : [\",i,j,\"] = \",min)\n",
    "    size = max(PO.keys())\n",
    "    i,j = indice\n",
    "    P1 = copy.deepcopy(PO)\n",
    "    P1.pop(i)\n",
    "    P1.pop(j)\n",
    "    P1[size+1] = PO[i]+PO[j]\n",
    "    return P1,i,j,min"
   ]
  },
  {
   "cell_type": "code",
   "execution_count": 44,
   "metadata": {},
   "outputs": [
    {
     "name": "stdout",
     "output_type": "stream",
     "text": [
      "Distance mininimale trouvée entre : [ 13 13 ] =  0.0714285714285714\n"
     ]
    },
    {
     "data": {
      "text/plain": [
       "({0: [0],\n",
       "  1: [1],\n",
       "  2: [2],\n",
       "  3: [3],\n",
       "  4: [4],\n",
       "  5: [5],\n",
       "  6: [6],\n",
       "  7: [7],\n",
       "  9: [9],\n",
       "  11: [11],\n",
       "  12: [12],\n",
       "  13: [13],\n",
       "  14: [10, 8]},\n",
       " 10,\n",
       " 8,\n",
       " 0.0714285714285714)"
      ]
     },
     "execution_count": 44,
     "metadata": {},
     "output_type": "execute_result"
    }
   ],
   "source": [
    "# Exemple:\n",
    "fusionne(data_2D_norm, depart, verbose=True)"
   ]
  },
  {
   "cell_type": "code",
   "execution_count": 45,
   "metadata": {},
   "outputs": [
    {
     "data": {
      "text/plain": [
       "({0: [0],\n",
       "  1: [1],\n",
       "  2: [2],\n",
       "  3: [3],\n",
       "  4: [4],\n",
       "  5: [5],\n",
       "  6: [6],\n",
       "  7: [7],\n",
       "  9: [9],\n",
       "  11: [11],\n",
       "  12: [12],\n",
       "  13: [13],\n",
       "  14: [10, 8]},\n",
       " 10,\n",
       " 8,\n",
       " 0.0714285714285714)"
      ]
     },
     "execution_count": 45,
     "metadata": {},
     "output_type": "execute_result"
    }
   ],
   "source": [
    "# Exemple:\n",
    "fusionne(data_2D_norm, depart)"
   ]
  },
  {
   "cell_type": "markdown",
   "metadata": {},
   "source": [
    "<font size=\"+1\" color=\"RED\"><b>[Q]</b></font> Ecrire la fonction <code>clustering_hierarchique</code> qui prend en argument un dataframe et rend une liste composée de listes contenant chacune:\n",
    "- les 2 indices d'éléments fusionnés\n",
    "- la distance les séparant\n",
    "- la somme du nombre d'éléments des 2 éléments fusionnés\n",
    "\n",
    "Remarque: chaque sous-liste contient donc les 3 dernières valeurs du résultats de `fusionne()`.\n"
   ]
  },
  {
   "cell_type": "code",
   "execution_count": 46,
   "metadata": {},
   "outputs": [],
   "source": [
    "def clustering_hierarchique (DF, verbose) :\n",
    "    PO = initialise(DF)\n",
    "    liste = []\n",
    "    val = 0\n",
    "    tmp = copy.deepcopy(PO)\n",
    "    while (val != len(DF)):\n",
    "        P1,i,j,dist = fusionne(DF,tmp, verbose)\n",
    "        val = len(tmp[i])+len(tmp[j])\n",
    "        liste.append([i,j,dist,val])\n",
    "        tmp = P1\n",
    "    return liste"
   ]
  },
  {
   "cell_type": "code",
   "execution_count": 48,
   "metadata": {},
   "outputs": [
    {
     "name": "stdout",
     "output_type": "stream",
     "text": [
      "Distance mininimale trouvée entre : [ 13 13 ] =  0.0714285714285714\n",
      "Distance mininimale trouvée entre : [ 14 14 ] =  0.07142857142857151\n",
      "Distance mininimale trouvée entre : [ 15 15 ] =  0.14285714285714285\n",
      "Distance mininimale trouvée entre : [ 16 16 ] =  0.1428571428571429\n",
      "Distance mininimale trouvée entre : [ 17 17 ] =  0.17437936593905287\n",
      "Distance mininimale trouvée entre : [ 18 18 ] =  0.20316375219039837\n",
      "Distance mininimale trouvée entre : [ 19 19 ] =  0.21237241067597867\n",
      "Distance mininimale trouvée entre : [ 20 20 ] =  0.26811891970176366\n",
      "Distance mininimale trouvée entre : [ 21 21 ] =  0.3047456282855977\n",
      "Distance mininimale trouvée entre : [ 22 22 ] =  0.4542857142857144\n",
      "Distance mininimale trouvée entre : [ 23 23 ] =  0.5000000000000001\n",
      "Distance mininimale trouvée entre : [ 24 24 ] =  0.638139657302555\n",
      "Distance mininimale trouvée entre : [ 25 25 ] =  0.6796842379114776\n",
      "[[10, 8, 0.0714285714285714, 2], [9, 7, 0.07142857142857151, 2], [3, 2, 0.14285714285714285, 2], [11, 6, 0.1428571428571429, 2], [1, 0, 0.17437936593905287, 2], [17, 15, 0.20316375219039837, 4], [16, 4, 0.21237241067597867, 3], [14, 12, 0.26811891970176366, 3], [19, 5, 0.3047456282855977, 5], [22, 13, 0.4542857142857144, 6], [21, 20, 0.5000000000000001, 6], [24, 18, 0.638139657302555, 8], [25, 23, 0.6796842379114776, 14]]\n"
     ]
    }
   ],
   "source": [
    "# L'application sur nos données:\n",
    "print(clustering_hierarchique(data_2D_norm, True))"
   ]
  },
  {
   "cell_type": "markdown",
   "metadata": {},
   "source": [
    "### Construction de dendrogramme"
   ]
  },
  {
   "cell_type": "markdown",
   "metadata": {},
   "source": [
    "Le dendrogramme permet de visualiser les fusions de clusters réalisés tout au long du déroulement de l'algorithme de clustering hiérarchique.\n",
    "\n",
    "Pour cette représentation graphique, on utilise une fonction de la librairie `scipy`."
   ]
  },
  {
   "cell_type": "code",
   "execution_count": 51,
   "metadata": {},
   "outputs": [
    {
     "data": {
      "image/png": "[encoded data removed]",
      "text/plain": [
       "<Figure size 2160x1080 with 1 Axes>"
      ]
     },
     "metadata": {
      "needs_background": "light"
     },
     "output_type": "display_data"
    }
   ],
   "source": [
    "import scipy.cluster.hierarchy\n",
    "\n",
    "# Paramètre de la fenêtre d'affichage: \n",
    "plt.figure(figsize=(30, 15)) # taille : largeur x hauteur\n",
    "plt.title('Dendrogramme', fontsize=25)    \n",
    "plt.xlabel(\"Indice d'exemple\", fontsize=25)\n",
    "plt.ylabel('Distance', fontsize=25)\n",
    "\n",
    "# Construction du dendrogramme pour notre clustering :\n",
    "scipy.cluster.hierarchy.dendrogram(\n",
    "    clustering_hierarchique(data_2D_norm, False), \n",
    "    \n",
    "    leaf_font_size=24.,  # taille des caractères de l'axe des X\n",
    ")\n",
    "\n",
    "# Affichage du résultat obtenu:\n",
    "plt.show()"
   ]
  },
  {
   "cell_type": "markdown",
   "metadata": {},
   "source": [
    "<font size=\"+1\" color=\"RED\"><b>[Q]</b></font>Modifier la fonction <code>clustering_hierarchique</code> en lui rajoutant deux arguments supplémentaires avec valeurs par défaut:\n",
    "- `verbose=False` qui indique si un message doit être affiché lors de la fusion des clusters en donnant le nom des 2 éléments fusionnés et leur distance.\n",
    "- `dendrogramme=False` pour indiquer si on souhaite ou pas l'affichage du dendrogramme résultat. Si c'est le cas, le dendrogramme sera donc afficher à l'issue de la fonction."
   ]
  },
  {
   "cell_type": "code",
   "execution_count": 52,
   "metadata": {},
   "outputs": [],
   "source": [
    "import scipy.cluster.hierarchy\n",
    "\n"
   ]
  },
  {
   "cell_type": "code",
   "execution_count": 54,
   "metadata": {},
   "outputs": [
    {
     "name": "stdout",
     "output_type": "stream",
     "text": [
      "Distance mininimale trouvée entre : [ 13 13 ] =  0.0714285714285714\n",
      "Distance mininimale trouvée entre : [ 14 14 ] =  0.07142857142857151\n",
      "Distance mininimale trouvée entre : [ 15 15 ] =  0.14285714285714285\n",
      "Distance mininimale trouvée entre : [ 16 16 ] =  0.1428571428571429\n",
      "Distance mininimale trouvée entre : [ 17 17 ] =  0.17437936593905287\n",
      "Distance mininimale trouvée entre : [ 18 18 ] =  0.20316375219039837\n",
      "Distance mininimale trouvée entre : [ 19 19 ] =  0.21237241067597867\n",
      "Distance mininimale trouvée entre : [ 20 20 ] =  0.26811891970176366\n",
      "Distance mininimale trouvée entre : [ 21 21 ] =  0.3047456282855977\n",
      "Distance mininimale trouvée entre : [ 22 22 ] =  0.4542857142857144\n",
      "Distance mininimale trouvée entre : [ 23 23 ] =  0.5000000000000001\n",
      "Distance mininimale trouvée entre : [ 24 24 ] =  0.638139657302555\n",
      "Distance mininimale trouvée entre : [ 25 25 ] =  0.6796842379114776\n"
     ]
    },
    {
     "data": {
      "text/plain": [
       "[[10, 8, 0.0714285714285714, 2],\n",
       " [9, 7, 0.07142857142857151, 2],\n",
       " [3, 2, 0.14285714285714285, 2],\n",
       " [11, 6, 0.1428571428571429, 2],\n",
       " [1, 0, 0.17437936593905287, 2],\n",
       " [17, 15, 0.20316375219039837, 4],\n",
       " [16, 4, 0.21237241067597867, 3],\n",
       " [14, 12, 0.26811891970176366, 3],\n",
       " [19, 5, 0.3047456282855977, 5],\n",
       " [22, 13, 0.4542857142857144, 6],\n",
       " [21, 20, 0.5000000000000001, 6],\n",
       " [24, 18, 0.638139657302555, 8],\n",
       " [25, 23, 0.6796842379114776, 14]]"
      ]
     },
     "execution_count": 54,
     "metadata": {},
     "output_type": "execute_result"
    }
   ],
   "source": [
    "clustering_hierarchique(data_2D_norm, True)"
   ]
  },
  {
   "cell_type": "code",
   "execution_count": 56,
   "metadata": {},
   "outputs": [],
   "source": [
    "def clustering_hierarchique2(DF, verbose, dendrogramme) :\n",
    "    PO = initialise(DF)\n",
    "    liste = []\n",
    "    val = 0\n",
    "    tmp = copy.deepcopy(PO)\n",
    "    while (val != len(DF)):\n",
    "        P1,i,j,dist = fusionne(DF,tmp, verbose)\n",
    "        val = len(tmp[i])+len(tmp[j])\n",
    "        liste.append([i,j,dist,val])\n",
    "        tmp = P1\n",
    "    if (dendrogramme == False):\n",
    "        return liste\n",
    "    import scipy.cluster.hierarchy\n",
    "\n",
    "    # Paramètre de la fenêtre d'affichage: \n",
    "    plt.figure(figsize=(30, 15)) # taille : largeur x hauteur\n",
    "    plt.title('Dendrogramme', fontsize=25)    \n",
    "    plt.xlabel(\"Indice d'exemple\", fontsize=25)\n",
    "    plt.ylabel('Distance', fontsize=25)\n",
    "\n",
    "    # Construction du dendrogramme pour notre clustering :\n",
    "    scipy.cluster.hierarchy.dendrogram(\n",
    "        liste, \n",
    "\n",
    "        leaf_font_size=24.,  # taille des caractères de l'axe des X\n",
    "    )\n",
    "\n",
    "    # Affichage du résultat obtenu:\n",
    "    plt.show()\n",
    "    return liste"
   ]
  },
  {
   "cell_type": "code",
   "execution_count": 58,
   "metadata": {},
   "outputs": [
    {
     "data": {
      "image/png": "[encoded data removed]",
      "text/plain": [
       "<Figure size 2160x1080 with 1 Axes>"
      ]
     },
     "metadata": {
      "needs_background": "light"
     },
     "output_type": "display_data"
    },
    {
     "data": {
      "text/plain": [
       "[[10, 8, 0.0714285714285714, 2],\n",
       " [9, 7, 0.07142857142857151, 2],\n",
       " [3, 2, 0.14285714285714285, 2],\n",
       " [11, 6, 0.1428571428571429, 2],\n",
       " [1, 0, 0.17437936593905287, 2],\n",
       " [17, 15, 0.20316375219039837, 4],\n",
       " [16, 4, 0.21237241067597867, 3],\n",
       " [14, 12, 0.26811891970176366, 3],\n",
       " [19, 5, 0.3047456282855977, 5],\n",
       " [22, 13, 0.4542857142857144, 6],\n",
       " [21, 20, 0.5000000000000001, 6],\n",
       " [24, 18, 0.638139657302555, 8],\n",
       " [25, 23, 0.6796842379114776, 14]]"
      ]
     },
     "execution_count": 58,
     "metadata": {},
     "output_type": "execute_result"
    }
   ],
   "source": [
    "clustering_hierarchique2(data_2D_norm,verbose=False,dendrogramme=True)"
   ]
  },
  {
   "cell_type": "markdown",
   "metadata": {},
   "source": [
    "## Variantes : complete linkage, simple linkage, average linkage"
   ]
  },
  {
   "cell_type": "markdown",
   "metadata": {},
   "source": [
    "<font size=\"+1\" color=\"RED\"><b>[Q]</b></font> Ecrire 3 nouvelles fonctions `clustering_hierarchique_complete`, `clustering_hierarchique_simplee` et `clustering_hierarchique_average` qui implémentent le clustering hiérarchique basé le linkage correspondant.\n",
    "\n",
    "\n",
    "Puis afficher et comparer les dendrogrammes obtenus par les 4 approches de clustering implémentées."
   ]
  },
  {
   "cell_type": "code",
   "execution_count": null,
   "metadata": {},
   "outputs": [],
   "source": []
  },
  {
   "cell_type": "markdown",
   "metadata": {},
   "source": [
    "## Ajout des fonctions dans la librairie `iads`\n",
    "\n",
    "<font size=\"+1\" color=\"RED\"><b>[Q]</b></font> Ajouter les fonctions de clustering dans votre librairie `iads`. Pour cela, créer un nouveau fichier de nom `Clustering.py` dans votre répertoire `iads`. \n",
    "Utiliser les premières lignes du fichier `Classifiers.py` pour débuter votre fichier `Clustering.py`, puis rajouter dans ce fichier les fonctions de clustering hiérarchique (tous linkages) de ce notebook, ainsi que les fonctions qu'elles utilisent."
   ]
  },
  {
   "cell_type": "markdown",
   "metadata": {},
   "source": [
    "## Phase 2 : application à des données réelles"
   ]
  },
  {
   "cell_type": "markdown",
   "metadata": {},
   "source": [
    "### Données: traitement des déchets de la ville de Paris"
   ]
  },
  {
   "cell_type": "markdown",
   "metadata": {},
   "source": [
    "Récupérer les données concernant le traitement des déchets de la ville de Paris :\n",
    "http://opendata.paris.fr/explore/dataset/tonnages_des_dechets_bacs_jaunes/table/\n",
    "\n",
    "**Attention**: il faut préparer cette base afin de pouvoir appliquer l'algorithme de clustering: en particulier, certaines colonnes (Granularité, Total...) ne sont pas à utilisables dans le calcul des distances, il faut donc les éliminer. Il faut aussi prévoir de conserver le nom de l'arrondissement afin de pouvoir à la fin analyser le résultat du clustering.\n",
    "\n",
    "Sauvegarder ces données, prêtes à être traitées par l'algorithme de clustering, au format CSV dans le répertoire <pre>data/</pre> sous le nom <pre>base-Paris.csv</pre>\n",
    "\n",
    "<font size=\"+1\" color=\"RED\"><b>[Q]</b></font> Etudier cette base et les clusters qui peuvent être mis en évidence.\n"
   ]
  },
  {
   "cell_type": "code",
   "execution_count": null,
   "metadata": {},
   "outputs": [],
   "source": [
    "data_Paris = # A COMPLETER"
   ]
  },
  {
   "cell_type": "code",
   "execution_count": null,
   "metadata": {},
   "outputs": [],
   "source": [
    "data_Paris.head(-1)"
   ]
  },
  {
   "cell_type": "markdown",
   "metadata": {
    "collapsed": true
   },
   "source": [
    "<font size=\"+1\" color=\"RED\"><b>[Q]</b></font> Préparer un rapport d'analyse (c'est-à-dire, compléter votre notebook en rajoutant à la suite tout un ensemble d'expérimentations et de résultats obtenus sur la base) réalisé sur cette base qui mette en évidence les clusters existants à différents niveaux de distance, et en utilisant différentes distances.\n"
   ]
  },
  {
   "cell_type": "code",
   "execution_count": null,
   "metadata": {},
   "outputs": [],
   "source": []
  },
  {
   "cell_type": "markdown",
   "metadata": {},
   "source": [
    "## Questions de cours (à faire chez vous, sur papier)\n",
    "\n",
    "Pour vous entraîner sans machine...\n",
    "\n",
    "<font size=\"+1\" color=\"RED\"><b>[Q]</b></font> Montrer que la distance de Manhattan est bien une mesure de distance.\n",
    "\n",
    "<font size=\"+1\" color=\"RED\"><b>[Q]</b></font> Dans le cours, 4 approches possibles ont été données afin de calculer la distance entre 2 groupes :\n",
    "- l'approche du chaînage minimum est appelée \"simple linkage\"\n",
    "- l'approche du chaînage maximum, est appelée \"complete linkage\"\n",
    "- l'approche du chaînage moyenne est appelée \"average linkage\"\n",
    "- l'approche du par centre de gravité est appelée \"centroid linkage\"\n",
    "\n",
    "On considère une mesure de distance $d$. Soit $A =\\{a_1,a_2,...,a_{|A|}\\}$ et $B =\\{b_1,b_2,...,b_{|B|}\\}$ deux groupes d'exemples. Donner l'expression de la distance entre $A$ et $B$ pour chacune des approches.\n",
    "\n",
    "\n",
    "<font size=\"+1\" color=\"RED\"><b>[Q]</b></font> En utilisant la distance euclidienne et l'approche \"centroid linkage\", appliquer, \"à la main\", l'algorithme de clustering hiérarchique, méthode par agglomération, sur les données fournies sur le transparent 10 du cours 2 (coin haut gauche). Dans cette page, les données correspondent à 9 points dans un espace 2D: $X_1 \\times X_2$. Le point 1 est le point de coordonnées $(-0.5, -1.0)$, etc. \n",
    "Construire le dendrogramme correspondant.\n",
    "\n",
    "rem : dans la page du cours, les 3 premiers clusters construits sont donnés.\n",
    "\n",
    "\n",
    "<font size=\"+1\" color=\"RED\"><b>[Q]</b></font> *(examen 2018)*\n",
    "On considère la base d'apprentissage de $[0,10]\\times [0,10]$ contenant les 7 exemples suivants: $\\mathcal{X}=\\{(1,2)$, $(1,4)$, $(3,4)$, $(3,5)$, $(6,2)$, $(6,5)$, $(8,3)\\}$ (remarque: cette base est déjà normalisée).\n",
    "En détaillant les étapes et en expliquant les calculs réalisés et les regroupements effectués, appliquer sur $\\mathcal{X}$ l'algorithme de classification hiérarchique, version ascendante, en utilisant l'approche ``centroid linkage'' et la distance euclidienne.  Donner le dendrogramme obtenu.\n",
    "<font color=\"RED\" size=\"+1\">**[Q]**</font> Si on rajoute l'exemple $(5,5)$ dans $\\mathcal{X}$ de la question précédente, sans ré-appliquer l'algorithme donner, en les justifiant, les modifications apportées au dendrogramme précédent par l'ajout de cet exemple."
   ]
  },
  {
   "cell_type": "code",
   "execution_count": null,
   "metadata": {},
   "outputs": [],
   "source": []
  }
 ],
 "metadata": {
  "kernelspec": {
   "display_name": "Python 3 (ipykernel)",
   "language": "python",
   "name": "python3"
  },
  "language_info": {
   "codemirror_mode": {
    "name": "ipython",
    "version": 3
   },
   "file_extension": ".py",
   "mimetype": "text/x-python",
   "name": "python",
   "nbconvert_exporter": "python",
   "pygments_lexer": "ipython3",
   "version": "3.9.7"
  }
 },
 "nbformat": 4,
 "nbformat_minor": 1
}
