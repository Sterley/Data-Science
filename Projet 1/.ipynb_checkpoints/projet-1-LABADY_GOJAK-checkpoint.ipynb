{
 "cells": [
  {
   "cell_type": "markdown",
   "metadata": {},
   "source": [
    "IA & Data science (LU3IN0226) -- 2021-2022\n",
    "--------\n",
    "*&copy; Equipe pédagogique: Vincent Guigue, Christophe Marsala, Olivier Schwander.*"
   ]
  },
  {
   "cell_type": "markdown",
   "metadata": {},
   "source": [
    "<font size=\"+1\" color=\"RED\"><b>[Q]</b></font> <font size=\"+1\"><b>Indiquer dans la boîte ci-dessous vos noms et prénoms :</b></font>"
   ]
  },
  {
   "cell_type": "markdown",
   "metadata": {},
   "source": [
    "*LABADY Sterley Gilbert - GOJAK Zlatan*"
   ]
  },
  {
   "cell_type": "markdown",
   "metadata": {},
   "source": [
    "Ce projet peut être fait (c'est même recommandé) en binôme. Le nom de chaque membre du binôme doit être indiqué, et un seul rendu sur un des deux comptes Moodle doit être fait.\n",
    "\n",
    "Les groupes de plus de 2 personnes ne sont pas autorisés."
   ]
  },
  {
   "cell_type": "markdown",
   "metadata": {},
   "source": [
    "<font color=\"RED\" size=\"+1\"><b>[Q]</b></font> **Renommer ce fichier ipython**\n",
    "\n",
    "Tout en haut de cette page, cliquer sur <tt>projet-1</tt> et rajouter à la suite de <tt>projet-1</tt> les noms des membres du binômes séparés par un tiret.\n",
    "\n",
    "<font color=\"RED\" size=\"+1\">IMPORTANT: soumission de votre fichier final</font>\n",
    "\n",
    "**Nom à donner au notebook** : *projet-1-Nom1_Nom2.ipynb* \n",
    "- *Nom1* et *Nom2* : noms des membres du binôme\n",
    "\n",
    "**Le compte-rendu doit être rendu sur la page Moodle.**"
   ]
  },
  {
   "cell_type": "markdown",
   "metadata": {},
   "source": [
    "# Projet 1 - mars 2022\n",
    "\n",
    "\n",
    "<font size=\"+1\" color=\"RED\"><b>Date de rendu : vendredi 25 mars, 18h au plus tard</b></font>\n",
    "<br />\n",
    "\n",
    "\n",
    "Vous devez compléter ce notebook en rajoutant vos expérimentations avec vos algorithmes d'apprentissage sur:\n",
    "- les données Bases_IADS : cela correspond à un problème de classification binaire\n",
    "- les données Bases_IADS_multiclasses : cela correspond à un problème de classification multiclasses\n",
    "\n",
    "Très important : les fichiers de données doivent être placés de façon à respecter la structure de fichiers suivantes:\n",
    "\n",
    "          -- ce_notebook.ipynb\n",
    "          -- Bases_IADS/ \n",
    "              -- README.txt\n",
    "              -- train.csv\n",
    "              -- test.csv\n",
    "              -- eval.csv\n",
    "              -- names.csv\n",
    "          -- Bases_IADS_multiclasses/\n",
    "              -- README.txt\n",
    "              -- train_multi.csv\n",
    "              -- test_multi.csv\n",
    "              -- eval_multi.csv\n",
    "              -- names_multi.csv\n",
    "\n",
    "Dans le notebook, le chargement des fichiers de données considèrera donc cette arborescence.\n",
    "\n",
    "\n",
    "Les fichiers de chaque répertoire correspondent à:\n",
    "- fichier README.txt : donne des explications sur le contenu du répertoire\n",
    "- fichier train*.csv : base d'apprentissage à utiliser pour construire le classfieur\n",
    "- fichier test*.csv : base de test pour évaluer vous même le classifieur construit. Les exemples de ce fichier NE DOIVENT PAS être utilisés pour l'apprentissage du classifieur.\n",
    "- fichier eval*.csv : fichier d'évaluation du classifieur (voir ci-dessous).\n",
    "\n",
    "## Travail à faire\n",
    "\n",
    "Pour chaque ensemble de données:\n",
    "- les 2 algorithmes d'apprentissage knn et perceptron doivent être expérimentés et comparés (ATTENTION: on ne veut que des algorithmes que vous avez implémentés vous-même dans cette UE).\n",
    "- des résultats d'expérimentations pourront être : comparaison des taux de bonne classification apprentissage / test (avec validation croisée), visualisation, etc.\n",
    "- de plus, un fichier `eval.csv` est fourni. Ce fichier contient des descriptions associées à un \"faux\" label. Dans votre compte-rendu, vous devez fournir un fichier CSV qui donne, pour chaque exemple du fichier `eval.csv`la classe trouvée par votre meilleur classifieur. Ainsi, le fichier CSV à rendre doit comporter 2 colonnes et autant de lignes que d'exemples (une ligne par exemple du fichier eval):<br>\n",
    "            IDENTIFIANT;CLASSE_TROUVEE_POUR_CET_EXEMPLE\n",
    "            ...\n",
    "Le résultat de classification vous sera donné en retour (nous connaissons la vraie classe des exemples de ce fichier...).\n",
    "\n",
    "Vos **expérimentations doivent être expliquées** (utilisez des boîtes Markdown pour saisir vos explications):\n",
    "- une argumentation du type *\"pourquoi vous avez fait cette expérimentation\"* doit être fournie;\n",
    "- une analyse succincte du résultat fourni doit être aussi donnée.\n",
    "\n",
    "\n",
    "Par exemple (indicatif): choix de $k$ pour le knn:\n",
    "- argumentation : pour décider quelle peut être la valeur de $k$ optimale, on décide de tester plusieurs valeurs différentes et de comparer les taux de bonne classification sur la base de test obtenus.\n",
    "- analyse du résultat: on remarque que la valeur $k$ suivante fournie le meilleur résultat.\n",
    "\n",
    "\n",
    "\n",
    "## Travail à rendre\n",
    "Ce qui doit être rendu : un fichier archive (`.tar`, `.tgz`, ou `.zip` uniquement)\n",
    "- ce notebook, dans lequel vous avez reporté toutes les fonctions que vous utilisez : ce notebook doit pouvoir être exécuté sans autre apport (pensez à vous en assurer avant de le rendre). Les fichiers de données ne doivent pas être inclus dans votre archive !\n",
    "- un fichier CSV dont le nom est de la forme: *projet-1-Nom1_Nom2.csv* (sur le modèle du nom du notebook) qui donne la classe de chaque exemple du fichier `eval.csv` trouvée par votre classifieur.\n",
    "\n",
    "\n",
    "**Remarque**: en considérant que les algorithmes knn et perceptron ont été réalisés lors des séances de TME 1 à 6, le travail demandé pour ce projet correspond à, au plus, une séance complète de TME."
   ]
  },
  {
   "cell_type": "code",
   "execution_count": 1,
   "metadata": {},
   "outputs": [],
   "source": [
    "import numpy as np\n",
    "import pandas as pd\n",
    "from datetime import datetime as dt\n",
    "import matplotlib.pyplot as plt\n",
    "import csv, sys\n",
    "import copy \n",
    "from numpy.core.fromnumeric import size\n",
    "%matplotlib inline  \n",
    "# Les instructions suivantes sont TRES utile pour recharger automatiquement \n",
    "# le code modifié dans les librairies externes\n",
    "%load_ext autoreload\n",
    "%autoreload 2"
   ]
  },
  {
   "cell_type": "code",
   "execution_count": 2,
   "metadata": {},
   "outputs": [],
   "source": [
    "class Classifier:\n",
    "    def __init__(self, input_dimension):\n",
    "        raise NotImplementedError(\"Please Implement this method\")\n",
    "    def train(self, desc_set, label_set):\n",
    "        raise NotImplementedError(\"Please Implement this method\")\n",
    "    def score(self,x):\n",
    "        raise NotImplementedError(\"Please Implement this method\")\n",
    "    def predict(self, x):\n",
    "        raise NotImplementedError(\"Please Implement this method\")\n",
    "    def accuracy(self, desc_set, label_set):\n",
    "        count=0\n",
    "        for i in range(len(label_set)):\n",
    "              if self.predict(desc_set[i]) == label_set[i]:\n",
    "                    count+=1\n",
    "        return count/len(label_set)"
   ]
  },
  {
   "cell_type": "code",
   "execution_count": 3,
   "metadata": {},
   "outputs": [],
   "source": [
    "#les données Bases_IADS : cela correspond à un problème de classification binaire\n",
    "# Lecture du fichier csv pour le train\n",
    "data = pd.read_csv(\"Bases_IADS/train.csv\", delimiter=\";\", header=None)\n",
    "# Definitions des colums\n",
    "data_columns = [c for c in data.columns]\n",
    "# Initialisation des données d'apprentissage\n",
    "data_desc = np.array(data[data_columns[1:-1]])\n",
    "# Initialisation des labels\n",
    "data_label = np.array(data[data_columns[-1]])\n",
    "# Lecture du fichier csv pour le test\n",
    "data_test = pd.read_csv(\"Bases_IADS/test.csv\", delimiter=\";\", header=None)\n",
    "# Definitions des colums\n",
    "data_test_columns = [c for c in data_test.columns]\n",
    "# Initialisation des données de test\n",
    "data_test_desc = np.array(data_test[data_test_columns[1:-1]])\n",
    "# Initialisation des labels\n",
    "data_test_label = np.array(data_test[data_test_columns[-1]])"
   ]
  },
  {
   "cell_type": "code",
   "execution_count": 4,
   "metadata": {},
   "outputs": [
    {
     "name": "stdout",
     "output_type": "stream",
     "text": [
      "[[0 0 0 ... 0 0 0]\n",
      " [0 0 0 ... 0 0 0]\n",
      " [0 0 0 ... 0 0 0]\n",
      " ...\n",
      " [0 0 0 ... 0 0 0]\n",
      " [0 0 0 ... 0 0 0]\n",
      " [0 0 0 ... 0 0 0]]\n"
     ]
    }
   ],
   "source": [
    "#les données Bases_IADS_multiclasses : cela correspond à un problème de classification multiclass\n",
    "# Lecture du fichier csv pour le train\n",
    "data = pd.read_csv(\"Bases_IADS_multiclasses/train_multi.csv\", delimiter=\";\", header=None)\n",
    "# Definitions des colums\n",
    "data_columns = [c for c in data.columns]\n",
    "# Initialisation des données d'apprentissage\n",
    "data_desc_m = np.array(data[data_columns[1:-1]])\n",
    "print(data_desc_m)\n",
    "# Initialisation des labels\n",
    "data_label_m = np.array(data[data_columns[-1]])\n",
    "# Lecture du fichier csv pour le test\n",
    "data_test = pd.read_csv(\"Bases_IADS_multiclasses/test_multi.csv\", delimiter=\";\", header=None)\n",
    "# Definitions des colums\n",
    "data_test_columns = [c for c in data_test.columns]\n",
    "# Initialisation des données de test\n",
    "data_test_desc_m = np.array(data_test[data_test_columns[1:-1]])\n",
    "# Initialisation des labels\n",
    "data_test_label_m = np.array(data_test[data_test_columns[-1]])"
   ]
  },
  {
   "cell_type": "code",
   "execution_count": 5,
   "metadata": {},
   "outputs": [],
   "source": [
    "def crossval(X, Y, n, i):\n",
    "    start, end = i*int(len(Y)/n), (i+1)*int(len(Y)/n)\n",
    "    Xtrain = np.delete(X, np.s_[start:end], axis=0)\n",
    "    Ytrain = np.delete(Y, np.s_[start:end], axis=0)\n",
    "    Xtest = X[start:end]\n",
    "    Ytest = Y[start:end]\n",
    "    return Xtrain, Ytrain, Xtest, Ytest"
   ]
  },
  {
   "cell_type": "code",
   "execution_count": 6,
   "metadata": {},
   "outputs": [],
   "source": [
    "def crossval_strat(X, Y, n, i):\n",
    "    label_unique = []\n",
    "    for l in Y:\n",
    "        if l not in label_unique:\n",
    "            label_unique.append(l)\n",
    "    listXtrain = []\n",
    "    listYtrain = []\n",
    "    listXtest = []\n",
    "    listYtest = []\n",
    "    for l in label_unique:\n",
    "        Xtraini, Ytraini, Xtesti, Ytesti = crossval(X[Y==l], Y[Y==l], n, i)\n",
    "        listXtrain.append(Xtraini)\n",
    "        listYtrain.append(Ytraini)\n",
    "        listXtest.append(Xtesti)\n",
    "        listYtest.append(Ytesti)\n",
    "    Xtrain = np.concatenate(listXtrain)\n",
    "    Ytrain = np.concatenate(listYtrain)\n",
    "    Xtest = np.concatenate(listXtest)\n",
    "    Ytest = np.concatenate(listYtest)\n",
    "    return Xtrain, Ytrain, Xtest, Ytest"
   ]
  },
  {
   "cell_type": "markdown",
   "metadata": {},
   "source": [
    "# A) KNN"
   ]
  },
  {
   "cell_type": "markdown",
   "metadata": {},
   "source": [
    "# 1) KNN Données Bases_IADS"
   ]
  },
  {
   "cell_type": "code",
   "execution_count": 7,
   "metadata": {},
   "outputs": [],
   "source": [
    "class ClassifierKNN_Multi(Classifier):\n",
    "    def __init__(self, input_dimension, k):\n",
    "        self.input_dimension = input_dimension\n",
    "        self.k=k\n",
    "    def score(self,x):\n",
    "        size = np.linalg.norm(self.desc_set-x, axis=1)\n",
    "        argsort = np.argsort(size)\n",
    "        dict_score = {}\n",
    "        lab = []\n",
    "        for i in argsort[:self.k]:\n",
    "            the_lab = self.label_set[i]\n",
    "            if the_lab not in lab:\n",
    "                lab.append(the_lab)\n",
    "                dict_score[the_lab] = 1\n",
    "            else:\n",
    "                dict_score[the_lab] = dict_score[the_lab] + 1\n",
    "        return dict_score, lab\n",
    "    def predict(self, x):\n",
    "        dict_score, lab = self.score(x)\n",
    "        ret = lab[0]\n",
    "        max_score = dict_score[ret]\n",
    "        for l in lab:\n",
    "            if dict_score[l] > max_score:\n",
    "                ret = l\n",
    "        return ret\n",
    "    def train(self, desc_set, label_set):      \n",
    "        self.desc_set = desc_set\n",
    "        self.label_set = label_set"
   ]
  },
  {
   "cell_type": "code",
   "execution_count": 8,
   "metadata": {
    "scrolled": true
   },
   "outputs": [
    {
     "name": "stdout",
     "output_type": "stream",
     "text": [
      "1000\n",
      "Accuracy:  0.935\n"
     ]
    }
   ],
   "source": [
    "# Création d'un classifieur KNN de dimension len(data_desc[0]):\n",
    "un_KNN = ClassifierKNN_Multi(len(data_desc[0]),1)\n",
    "# Par définition, ce classifieur n'a pas besoin d'entraînement\n",
    "un_KNN.train(data_desc,data_label)\n",
    "# Affichage du taux de bonne classification   \n",
    "print(\"Accuracy: \",un_KNN.accuracy(data_test_desc, data_test_label))"
   ]
  },
  {
   "cell_type": "code",
   "execution_count": 122,
   "metadata": {},
   "outputs": [
    {
     "name": "stdout",
     "output_type": "stream",
     "text": [
      "Loading... 5 %\n",
      "Loading... 15 %\n",
      "Loading... 25 %\n",
      "Loading... 35 %\n",
      "Loading... 45 %\n",
      "Loading... 55 %\n",
      "Loading... 65 %\n",
      "Loading... 75 %\n",
      "Loading... 85 %\n",
      "Loading... 95 %\n"
     ]
    },
    {
     "data": {
      "image/png": "[encoded data removed]",
      "text/plain": [
       "<Figure size 432x288 with 1 Axes>"
      ]
     },
     "metadata": {
      "needs_background": "light"
     },
     "output_type": "display_data"
    }
   ],
   "source": [
    "# Recherche du meilleur k\n",
    "# on stocke les accuracies dans une liste :\n",
    "accuracies = []\n",
    "# seuil max des valeurs de k à regarder:\n",
    "seuil_k = 20\n",
    "# toutes les valeurs de k à regarder:\n",
    "valeurs_k = [k for k in range(1,seuil_k,2)]\n",
    "for i in (valeurs_k):\n",
    "    print(\"Loading...\",int(i/seuil_k*100),\"%\")\n",
    "    ClassKNN = ClassifierKNN_Multi(len(data_desc[0]), i)\n",
    "    ClassKNN.train(data_desc, data_label)\n",
    "    accuracies.append(ClassKNN.accuracy(data_test_desc,data_test_label))\n",
    "# Tracé de la variation de l'accuracy en fonction de la valeur de k:\n",
    "plt.plot(valeurs_k, accuracies)  \n",
    "plt.ylabel('Accuracy')\n",
    "plt.xlabel(\"k\")\n",
    "plt.show()"
   ]
  },
  {
   "cell_type": "markdown",
   "metadata": {},
   "source": [
    "Pour trouver le meilleur K, nous avons calculé le taux d'accuracy de notre classifier sur nos données de test avec plusieurs K de 0 à 20 (Impairs). Nous pouvons clairement remarquer que le meilleur taux d'accuracy s'obtient avec K=5. Par la suite nous pouvons garder K=5 construisant ainsi le meilleur ClassierKNN."
   ]
  },
  {
   "cell_type": "code",
   "execution_count": 123,
   "metadata": {},
   "outputs": [
    {
     "name": "stdout",
     "output_type": "stream",
     "text": [
      "Best Accuracy:  0.946\n"
     ]
    }
   ],
   "source": [
    "# Création d'un classifieur KNN de dimension len(data_desc[0]):\n",
    "best_KNN = ClassifierKNN_Multi(len(data_desc[0]),5)\n",
    "# Par définition, ce classifieur n'a pas besoin d'entraînement\n",
    "best_KNN.train(data_desc,data_label)\n",
    "# Affichage du taux de bonne classification   \n",
    "print(\"Best Accuracy: \",best_KNN.accuracy(data_test_desc, data_test_label))"
   ]
  },
  {
   "cell_type": "markdown",
   "metadata": {},
   "source": [
    "# Validation Croisiée"
   ]
  },
  {
   "cell_type": "code",
   "execution_count": 124,
   "metadata": {},
   "outputs": [
    {
     "name": "stdout",
     "output_type": "stream",
     "text": [
      "--- Loading... 0 %\n",
      "--- Loading... 10 %\n",
      "--- Loading... 20 %\n",
      "--- Loading... 30 %\n",
      "--- Loading... 40 %\n",
      "--- Loading... 50 %\n",
      "--- Loading... 60 %\n",
      "--- Loading... 70 %\n",
      "--- Loading... 80 %\n",
      "--- Loading... 90 %\n",
      "Perf  [0.96, 0.96, 0.98, 0.96, 0.99, 0.93, 0.92, 0.92, 0.91, 0.92]\n"
     ]
    }
   ],
   "source": [
    "# Validation Croisiée\n",
    "niter = 10\n",
    "perf = []\n",
    "for i in range(niter):\n",
    "    Xapp,Yapp,Xtest,Ytest = crossval_strat(data_desc, data_label, niter, i)\n",
    "    if len(Xtest) != 0:\n",
    "        best_KNN = ClassifierKNN_Multi(len(data_desc[0]),5)\n",
    "        best_KNN.train(Xapp, Yapp)\n",
    "        perf.append(best_KNN.accuracy(Xtest, Ytest))\n",
    "        print(\"--- Loading...\",int(i/niter*100),\"%\")\n",
    "print(\"Perf \",perf)"
   ]
  },
  {
   "cell_type": "markdown",
   "metadata": {},
   "source": [
    "# 2) KNN Données Bases_IADS_multiclasses"
   ]
  },
  {
   "cell_type": "code",
   "execution_count": 125,
   "metadata": {},
   "outputs": [
    {
     "name": "stdout",
     "output_type": "stream",
     "text": [
      "Accuracy:  0.8925\n"
     ]
    }
   ],
   "source": [
    "# Création d'un classifieur KNN de dimension len(data_desc[0]):\n",
    "un_KNN = ClassifierKNN_Multi(len(data_desc_m[0]),1)\n",
    "# Par définition, ce classifieur n'a pas besoin d'entraînement\n",
    "un_KNN.train(data_desc_m,data_label_m)\n",
    "# Affichage du taux de bonne classification   \n",
    "print(\"Accuracy: \",un_KNN.accuracy(data_test_desc_m, data_test_label_m))"
   ]
  },
  {
   "cell_type": "code",
   "execution_count": 126,
   "metadata": {},
   "outputs": [
    {
     "name": "stdout",
     "output_type": "stream",
     "text": [
      "Loading... 5 %\n",
      "Loading... 15 %\n",
      "Loading... 25 %\n",
      "Loading... 35 %\n",
      "Loading... 45 %\n",
      "Loading... 55 %\n",
      "Loading... 65 %\n",
      "Loading... 75 %\n",
      "Loading... 85 %\n",
      "Loading... 95 %\n"
     ]
    },
    {
     "data": {
      "image/png": "[encoded data removed]",
      "text/plain": [
       "<Figure size 432x288 with 1 Axes>"
      ]
     },
     "metadata": {
      "needs_background": "light"
     },
     "output_type": "display_data"
    }
   ],
   "source": [
    "# Recherche du meilleur k\n",
    "# on stocke les accuracies dans une liste :\n",
    "accuracies = []\n",
    "# seuil max des valeurs de k à regarder:\n",
    "seuil_k = 20\n",
    "# toutes les valeurs de k à regarder:\n",
    "valeurs_k = [k for k in range(1,seuil_k,2)]\n",
    "for i in (valeurs_k):\n",
    "    print(\"Loading...\",int(i/seuil_k*100),\"%\")\n",
    "    ClassKNN = ClassifierKNN_Multi(len(data_desc_m[0]), i)\n",
    "    ClassKNN.train(data_desc_m, data_label_m)\n",
    "    accuracies.append(ClassKNN.accuracy(data_test_desc_m,data_test_label_m))\n",
    "# Tracé de la variation de l'accuracy en fonction de la valeur de k:\n",
    "plt.plot(valeurs_k, accuracies)  \n",
    "plt.ylabel('Accuracy')\n",
    "plt.xlabel(\"k\")\n",
    "plt.show()"
   ]
  },
  {
   "cell_type": "markdown",
   "metadata": {},
   "source": [
    "Pour trouver le meilleur K, nous avons calculé le taux d'accuracy de notre classifier sur nos données de test avec plusieurs K de 0 à 20 (Impairs). Nous pouvons clairement remarquer que le meilleur taux d'accuracy s'obtient avec K=7. Par la suite nous pouvons garder K=7 construisant ainsi le meilleur ClassierKNN_Multi."
   ]
  },
  {
   "cell_type": "code",
   "execution_count": 127,
   "metadata": {},
   "outputs": [
    {
     "name": "stdout",
     "output_type": "stream",
     "text": [
      "Best Accuracy:  0.903\n"
     ]
    }
   ],
   "source": [
    "# Création d'un classifieur KNN de dimension len(data_desc[0]):\n",
    "best_KNN_m = ClassifierKNN_Multi(len(data_desc_m[0]),7)\n",
    "# Par définition, ce classifieur n'a pas besoin d'entraînement\n",
    "best_KNN_m.train(data_desc_m,data_label_m)\n",
    "# Affichage du taux de bonne classification   \n",
    "print(\"Best Accuracy: \",best_KNN_m.accuracy(data_test_desc_m, data_test_label_m))"
   ]
  },
  {
   "cell_type": "markdown",
   "metadata": {},
   "source": [
    "# Validation Croisiée"
   ]
  },
  {
   "cell_type": "code",
   "execution_count": 128,
   "metadata": {},
   "outputs": [
    {
     "name": "stdout",
     "output_type": "stream",
     "text": [
      "--- Loading... 0 %\n",
      "--- Loading... 10 %\n",
      "--- Loading... 20 %\n",
      "--- Loading... 30 %\n",
      "--- Loading... 40 %\n",
      "--- Loading... 50 %\n",
      "--- Loading... 60 %\n",
      "--- Loading... 70 %\n",
      "--- Loading... 80 %\n",
      "--- Loading... 90 %\n",
      "Perf  [0.9, 0.915, 0.895, 0.905, 0.91, 0.885, 0.91, 0.875, 0.855, 0.895]\n"
     ]
    }
   ],
   "source": [
    "# Validation Croisiée\n",
    "niter = 10\n",
    "perf = []\n",
    "for i in range(niter):\n",
    "    Xapp,Yapp,Xtest,Ytest = crossval_strat(data_desc_m, data_label_m, niter, i)\n",
    "    if len(Xtest) != 0:\n",
    "        best_KNN_m = ClassifierKNN_Multi(len(data_desc_m[0]),7)\n",
    "        best_KNN_m.train(Xapp, Yapp)\n",
    "        perf.append(best_KNN_m.accuracy(Xtest, Ytest))\n",
    "        print(\"--- Loading...\",int(i/niter*100),\"%\")\n",
    "print(\"Perf \",perf)"
   ]
  },
  {
   "cell_type": "markdown",
   "metadata": {},
   "source": [
    "# B) Perceptron"
   ]
  },
  {
   "cell_type": "markdown",
   "metadata": {},
   "source": [
    "# 1) PERCEPTRON Données Bases_IADS"
   ]
  },
  {
   "cell_type": "code",
   "execution_count": 129,
   "metadata": {},
   "outputs": [],
   "source": [
    "class ClassifierPerceptron(Classifier):\n",
    "    def __init__(self, input_dimension, learning_rate, init=0):\n",
    "        self.input_dimension = input_dimension\n",
    "        self.learning_rate = learning_rate\n",
    "        self.init = init\n",
    "        res = []\n",
    "        if init == 0:\n",
    "            self.w_de_base = np.asarray(np.zeros(self.input_dimension))\n",
    "        elif init == 1:\n",
    "            for i in range(self.input_dimension):\n",
    "                res.append((2*i - 1)*0.001)\n",
    "            self.w_de_base = np.asarray(res)\n",
    "    def train_step(self, desc_set, label_set):\n",
    "        liste_indice = np.random.permutation(len(desc_set))\n",
    "        for i in liste_indice:\n",
    "            x=desc_set[i]\n",
    "            y=label_set[i]\n",
    "            pred = self.predict(x)\n",
    "            if y != pred:\n",
    "                self.w_de_base = self.w_de_base + self.learning_rate*x*y\n",
    "        return self.w_de_base\n",
    "    def train(self, desc_set, label_set, niter_max=100, seuil=0.001):\n",
    "        ret = []  \n",
    "        i = 1\n",
    "        w_old = self.train_step(desc_set, label_set)\n",
    "        while i < niter_max:\n",
    "            w_new = self.train_step(desc_set, label_set)\n",
    "            d = np.linalg.norm(w_old - w_new)\n",
    "            ret.append(d)\n",
    "            w_old = w_new.copy()\n",
    "            i += 1\n",
    "        ret.pop(0)\n",
    "        return ret\n",
    "    def score(self,x):\n",
    "        score = 0\n",
    "        for i in range(len(x)):\n",
    "            score += self.w_de_base[i] * x[i]\n",
    "        return score\n",
    "    def predict(self, x):\n",
    "        score = self.score(x)\n",
    "        return 1 if score >= 0.0 else -1"
   ]
  },
  {
   "cell_type": "markdown",
   "metadata": {},
   "source": [
    "Apprentissage pas à pas et variation d'accuracy"
   ]
  },
  {
   "cell_type": "code",
   "execution_count": 130,
   "metadata": {},
   "outputs": [
    {
     "name": "stdout",
     "output_type": "stream",
     "text": [
      "Loading... 0 %\n",
      "Loading... 20 %\n",
      "Loading... 40 %\n",
      "Loading... 60 %\n",
      "Loading... 80 %\n"
     ]
    },
    {
     "data": {
      "image/png": "[encoded data removed]",
      "text/plain": [
       "<Figure size 432x288 with 1 Axes>"
      ]
     },
     "metadata": {
      "needs_background": "light"
     },
     "output_type": "display_data"
    },
    {
     "name": "stdout",
     "output_type": "stream",
     "text": [
      "Accuracy finale :  0.869\n"
     ]
    }
   ],
   "source": [
    "# Création d'un perceptron avec initialisation à 0 et le learning_rate ci-dessous:\n",
    "learning_rate = 0.01\n",
    "perceptron1 = ClassifierPerceptron(len(data_desc[0]), learning_rate, 0)\n",
    "# Apprentissage pas à pas du perceptron et mémorisation de l'accuracy à chaque étape:\n",
    "# Liste qui va servir à mémoriser les accuracy du perceptron à chaque étape:\n",
    "val_acc = []\n",
    "# Réalisation de N itérations \n",
    "N = 100\n",
    "for i in range(N):\n",
    "    if int(i/N*100)%20 == 0:\n",
    "        print(\"Loading...\",int(i/N*100),\"%\")\n",
    "    perceptron1.train_step(data_desc, data_label)\n",
    "    val_acc.append(perceptron1.accuracy(data_test_desc, data_test_label))\n",
    "# Traçage de la courbe des variations d'accuracy\n",
    "plt.plot(range(1, len(val_acc)+1),val_acc)\n",
    "plt.ylabel('Accuracy')\n",
    "plt.xlabel(\"Etape\")\n",
    "plt.show()\n",
    "print(\"Accuracy finale : \", perceptron1.accuracy(data_test_desc,data_test_label))"
   ]
  },
  {
   "cell_type": "markdown",
   "metadata": {},
   "source": [
    "Apprentissage et affichage de la convergence"
   ]
  },
  {
   "cell_type": "code",
   "execution_count": 131,
   "metadata": {},
   "outputs": [
    {
     "name": "stdout",
     "output_type": "stream",
     "text": [
      "Loading... Ça peut durer quelques secondes...\n",
      "Nb iterations réalisées:  100\n"
     ]
    },
    {
     "data": {
      "image/png": "[encoded data removed]",
      "text/plain": [
       "<Figure size 432x288 with 1 Axes>"
      ]
     },
     "metadata": {
      "needs_background": "light"
     },
     "output_type": "display_data"
    },
    {
     "name": "stdout",
     "output_type": "stream",
     "text": [
      "Accuracy finale :  0.875\n"
     ]
    }
   ],
   "source": [
    "# Création d'un perceptron avec initialisation à 0 et le learning_rate ci-dessous:\n",
    "learning_rate = 0.01\n",
    "perceptron2 = ClassifierPerceptron(len(data_desc[0]), learning_rate, 0)\n",
    "print(\"Loading... Ça peut durer quelques secondes...\")\n",
    "# Apprentissage du perceptron jusqu'à convergence\n",
    "les_variations = perceptron2.train(data_desc, data_label, niter_max=100)\n",
    "print(\"Nb iterations réalisées: \",100)\n",
    "# Traçage de la courbe des variations\n",
    "plt.plot(range(1,len(les_variations)+1),les_variations)  \n",
    "plt.ylabel('Différence')\n",
    "plt.xlabel(\"Etape\")\n",
    "plt.show()\n",
    "print(\"Accuracy finale : \", perceptron2.accuracy(data_test_desc,data_test_label))"
   ]
  },
  {
   "cell_type": "markdown",
   "metadata": {},
   "source": [
    "Impact du learning rate"
   ]
  },
  {
   "cell_type": "markdown",
   "metadata": {},
   "source": [
    "Analyse : Nous pouvons conclure que niter_max = 80 suffit pour faire converger notre algorithme.\n",
    "A 80 l'accuracy se stabilise et la différence en les W est presque nulle."
   ]
  },
  {
   "cell_type": "code",
   "execution_count": 132,
   "metadata": {},
   "outputs": [
    {
     "name": "stdout",
     "output_type": "stream",
     "text": [
      "Accuracy finale :  0.875\n"
     ]
    }
   ],
   "source": [
    "# Best Perceptron\n",
    "learning_rate = 0.01\n",
    "best_perceptron = ClassifierPerceptron(len(data_desc[0]), learning_rate, 0)\n",
    "# Apprentissage du perceptron jusqu'à convergence\n",
    "best_perceptron.train(data_desc, data_label, niter_max=80)\n",
    "print(\"Accuracy finale : \", best_perceptron.accuracy(data_test_desc,data_test_label))"
   ]
  },
  {
   "cell_type": "markdown",
   "metadata": {},
   "source": [
    "# Validation Croisée"
   ]
  },
  {
   "cell_type": "code",
   "execution_count": 133,
   "metadata": {},
   "outputs": [
    {
     "name": "stdout",
     "output_type": "stream",
     "text": [
      "--- Loading... 0 %\n",
      "--- Loading... 10 %\n",
      "--- Loading... 20 %\n",
      "--- Loading... 30 %\n",
      "--- Loading... 40 %\n",
      "--- Loading... 50 %\n",
      "--- Loading... 60 %\n",
      "--- Loading... 70 %\n",
      "--- Loading... 80 %\n",
      "--- Loading... 90 %\n",
      "Perf  [0.94, 0.86, 0.89, 0.92, 0.91, 0.87, 0.85, 0.85, 0.82, 0.89]\n"
     ]
    }
   ],
   "source": [
    "# Validation Croisiée\n",
    "niter = 10\n",
    "perf = []\n",
    "for i in range(niter):\n",
    "    Xapp,Yapp,Xtest,Ytest = crossval_strat(data_desc, data_label, niter, i)\n",
    "    if len(Xtest) != 0:\n",
    "        best_perceptron = ClassifierPerceptron(len(data_desc[0]), learning_rate, 0)\n",
    "        best_perceptron.train(Xapp, Yapp)\n",
    "        perf.append(best_perceptron.accuracy(Xtest, Ytest))\n",
    "        print(\"--- Loading...\",int(i/niter*100),\"%\")\n",
    "print(\"Perf \",perf)"
   ]
  },
  {
   "cell_type": "markdown",
   "metadata": {},
   "source": [
    "# 2) PERCEPTRON Données Bases_IADS_multiclasses"
   ]
  },
  {
   "cell_type": "code",
   "execution_count": 134,
   "metadata": {},
   "outputs": [],
   "source": [
    "class ClassifierMultiOAA(Classifier):\n",
    "    def __init__(self, ClassifBin, input_dimension, learning_rate, init=0):\n",
    "        self.nCl= None;\n",
    "        self.ClassifBin=ClassifBin\n",
    "        self.List_classif=[]\n",
    "        self.label_unic = []\n",
    "    def train(self, desc_set, label_set, niter_max=100, seuil=0.001):\n",
    "        for l in label_set:\n",
    "            if l not in self.label_unic:\n",
    "                self.label_unic.append(l)\n",
    "        self.nCl = len(self.label_unic)\n",
    "        print(\"label_unic\", self.label_unic)\n",
    "        for i in range(self.nCl):\n",
    "            tmp_ClassifBin = copy.deepcopy(self.ClassifBin)\n",
    "            self.List_classif.append(tmp_ClassifBin)\n",
    "        print(self.nCl,\"Classifiers\")\n",
    "        for i in range(len(self.label_unic)):\n",
    "            label_set_i = copy.deepcopy(label_set)\n",
    "            for j in range(len(label_set_i)):\n",
    "                if(label_set_i[j]==self.label_unic[i]):\n",
    "                    label_set_i[j]=1\n",
    "                else:\n",
    "                    label_set_i[j]=-1\n",
    "            print(\"Loading...\", int((i/len(self.label_unic))*100),\"%\")\n",
    "            self.List_classif[i].train(desc_set, label_set_i)\n",
    "            print(\"Classifier pour le label:\", self.label_unic[i], \"Trained !\")\n",
    "    def score(self,x):\n",
    "        list_score=[]\n",
    "        for k in range(len(self.List_classif)):\n",
    "                list_score.append(self.List_classif[k].score(x))\n",
    "        return list_score\n",
    "    def predict(self, x):\n",
    "        list_score = self.score(x)\n",
    "        return self.label_unic[list_score.index(max(list_score))]"
   ]
  },
  {
   "cell_type": "code",
   "execution_count": 135,
   "metadata": {},
   "outputs": [
    {
     "name": "stdout",
     "output_type": "stream",
     "text": [
      "Loading... Ça peut durer quelques minutes...\n",
      "label_unic [0, 1, 2, 3, 4, 5, 6, 7, 8, 9]\n",
      "10 Classifiers\n",
      "Loading... 0 %\n",
      "Classifier pour le label: 0 Trained !\n",
      "Loading... 10 %\n",
      "Classifier pour le label: 1 Trained !\n",
      "Loading... 20 %\n",
      "Classifier pour le label: 2 Trained !\n",
      "Loading... 30 %\n",
      "Classifier pour le label: 3 Trained !\n",
      "Loading... 40 %\n",
      "Classifier pour le label: 4 Trained !\n",
      "Loading... 50 %\n",
      "Classifier pour le label: 5 Trained !\n",
      "Loading... 60 %\n",
      "Classifier pour le label: 6 Trained !\n",
      "Loading... 70 %\n",
      "Classifier pour le label: 7 Trained !\n",
      "Loading... 80 %\n",
      "Classifier pour le label: 8 Trained !\n",
      "Loading... 90 %\n",
      "Classifier pour le label: 9 Trained !\n",
      "Accuracy finale :  0.82\n"
     ]
    }
   ],
   "source": [
    "# Best Perceptron\n",
    "learning_rate = 0.01\n",
    "PerceptronBin = ClassifierPerceptron(len(data_desc_m[0]), learning_rate)\n",
    "PerceptronMulti = ClassifierMultiOAA(PerceptronBin, len(data_desc_m[0]), learning_rate)\n",
    "# Apprentissage du perceptron jusqu'à convergence\n",
    "print(\"Loading... Ça peut durer quelques minutes...\")\n",
    "PerceptronMulti.train(data_desc_m, data_label_m)\n",
    "print(\"Accuracy finale : \", PerceptronMulti.accuracy(data_test_desc_m,data_test_label_m))"
   ]
  },
  {
   "cell_type": "markdown",
   "metadata": {},
   "source": [
    "# Validation Croisiée"
   ]
  },
  {
   "cell_type": "code",
   "execution_count": 137,
   "metadata": {},
   "outputs": [
    {
     "name": "stdout",
     "output_type": "stream",
     "text": [
      "label_unic [0, 1, 2, 3, 4, 5, 6, 7, 8, 9]\n",
      "10 Classifiers\n",
      "Loading... 0 %\n",
      "Classifier pour le label: 0 Trained !\n",
      "Loading... 10 %\n",
      "Classifier pour le label: 1 Trained !\n",
      "Loading... 20 %\n",
      "Classifier pour le label: 2 Trained !\n",
      "Loading... 30 %\n",
      "Classifier pour le label: 3 Trained !\n",
      "Loading... 40 %\n",
      "Classifier pour le label: 4 Trained !\n",
      "Loading... 50 %\n",
      "Classifier pour le label: 5 Trained !\n",
      "Loading... 60 %\n",
      "Classifier pour le label: 6 Trained !\n",
      "Loading... 70 %\n",
      "Classifier pour le label: 7 Trained !\n",
      "Loading... 80 %\n",
      "Classifier pour le label: 8 Trained !\n",
      "Loading... 90 %\n",
      "Classifier pour le label: 9 Trained !\n",
      "--- Loading... 0 %\n",
      "label_unic [0, 1, 2, 3, 4, 5, 6, 7, 8, 9]\n",
      "10 Classifiers\n",
      "Loading... 0 %\n",
      "Classifier pour le label: 0 Trained !\n",
      "Loading... 10 %\n",
      "Classifier pour le label: 1 Trained !\n",
      "Loading... 20 %\n",
      "Classifier pour le label: 2 Trained !\n",
      "Loading... 30 %\n",
      "Classifier pour le label: 3 Trained !\n",
      "Loading... 40 %\n",
      "Classifier pour le label: 4 Trained !\n",
      "Loading... 50 %\n",
      "Classifier pour le label: 5 Trained !\n",
      "Loading... 60 %\n",
      "Classifier pour le label: 6 Trained !\n",
      "Loading... 70 %\n",
      "Classifier pour le label: 7 Trained !\n",
      "Loading... 80 %\n",
      "Classifier pour le label: 8 Trained !\n",
      "Loading... 90 %\n",
      "Classifier pour le label: 9 Trained !\n",
      "--- Loading... 50 %\n",
      "Perf  [0.851, 0.826]\n"
     ]
    }
   ],
   "source": [
    "\n",
    "# Validation Croisiée\n",
    "niter = 2\n",
    "perf = []\n",
    "for i in range(niter):\n",
    "    Xapp,Yapp,Xtest,Ytest = crossval_strat(data_desc_m, data_label_m, niter, i)\n",
    "    if len(Xtest) != 0:\n",
    "        PerceptronBin = ClassifierPerceptron(len(data_desc_m[0]), learning_rate)\n",
    "        PerceptronMulti = ClassifierMultiOAA(PerceptronBin, len(data_desc_m[0]), learning_rate)\n",
    "        PerceptronMulti.train(Xapp, Yapp)\n",
    "        perf.append(PerceptronMulti.accuracy(Xtest, Ytest))\n",
    "        print(\"--- Loading...\",int(i/niter*100),\"%\")\n",
    "print(\"Perf \",perf)"
   ]
  },
  {
   "cell_type": "markdown",
   "metadata": {},
   "source": [
    "# C) EVAL ET CONCLUSION"
   ]
  },
  {
   "cell_type": "markdown",
   "metadata": {},
   "source": [
    "Conclusion : Suite aux analyses des taux d'accuracy obtenus, nous pouvons remarquer que KNN est le meilleur Classifier pour ce Data_Set à la fois Binaire et MultiClass. Nous avons donc fait le choix du Classifier KNN pour classer nos données dans eval.\n",
    "\n",
    "NB: Théoriquement le PerceptronKernel donne une meilleure accuracy car plus on a de descriptions, plus le classifier est performant. Mais vu le temps d'exécution par rapport à notre Dataset on a décidé d’utiliser le perceptron classique."
   ]
  },
  {
   "cell_type": "code",
   "execution_count": 138,
   "metadata": {},
   "outputs": [],
   "source": [
    "#les données Eval Binaire : cela correspond à un problème de classification binaire\n",
    "# Lecture du fichier csv eval Binaire\n",
    "eval_b = pd.read_csv(\"Bases_IADS/eval.csv\", delimiter=\";\", header=None)\n",
    "# Definitions des colums\n",
    "eval_columns = [c for c in eval_b.columns]\n",
    "# Initialisation des données \n",
    "eval_desc = np.array(eval_b[eval_columns[1:-1]])\n",
    "# Initialisation des id\n",
    "eval_id = np.array(eval_b[eval_columns[0]])"
   ]
  },
  {
   "cell_type": "code",
   "execution_count": 139,
   "metadata": {},
   "outputs": [],
   "source": [
    "#les données Eval Multi : cela correspond à un problème de classification multiclass\n",
    "# Lecture du fichier csv eval Binaire\n",
    "eval_m = pd.read_csv(\"Bases_IADS_multiclasses/eval_multi.csv\", delimiter=\";\", header=None)\n",
    "# Definitions des colums\n",
    "eval_columns_m = [c for c in eval_m.columns]\n",
    "# Initialisation des données \n",
    "eval_desc_m = np.array(eval_m[eval_columns_m[1:-1]])\n",
    "# Initialisation des id\n",
    "eval_id_m = np.array(eval_m[eval_columns_m[0]])"
   ]
  },
  {
   "cell_type": "code",
   "execution_count": 140,
   "metadata": {},
   "outputs": [],
   "source": [
    "#Création d'un fichier à partir de la liste IDENTIFIANT;CLASSE_TROUVEE_POUR_CET_EXEMPLE\n",
    "def get_my_csv(nom_csv, my_tab):\n",
    "    with open(nom_csv,'w',newline='') as e:  #Ouverture du fichier CSV en écriture\n",
    "        ecrire=csv.writer(e)                      # préparation à l'écriture\n",
    "        colums = [\"IDENTIFIANT\",\"CLASSE_TROUVEE_POUR_CET_EXEMPLE\"]\n",
    "        ecrire.writerow(colums)\n",
    "        for ligne in my_tab:                           # Pour chaque ligne du tableau...  \n",
    "            ecrire.writerow(ligne)                # ecrire cette nouvelle ligne      \n",
    "    print(\"Fin création fichier csv\")"
   ]
  },
  {
   "cell_type": "code",
   "execution_count": 141,
   "metadata": {},
   "outputs": [
    {
     "name": "stdout",
     "output_type": "stream",
     "text": [
      "Loading... Ça peut durer quelques minutes...\n",
      "Fin création fichier csv\n",
      "Fin création fichier csv\n"
     ]
    }
   ],
   "source": [
    "print(\"Loading... Ça peut durer quelques minutes...\")\n",
    "best_KNN = ClassifierKNN_Multi(len(data_desc[0]),5)\n",
    "best_KNN.train(data_desc,data_label)\n",
    "tab_res_b = []\n",
    "for i in range(len(eval_desc)):\n",
    "    tmp = []\n",
    "    tmp.append(eval_id[i])\n",
    "    tmp.append(best_KNN.predict(eval_desc[i]))\n",
    "    tab_res_b.append(tmp)\n",
    "\n",
    "best_KNN_m = ClassifierKNN_Multi(len(data_desc_m[0]),7)\n",
    "best_KNN_m.train(data_desc_m,data_label_m)\n",
    "tab_res_m = []\n",
    "for i in range(len(eval_desc_m)):\n",
    "    tmp = []\n",
    "    tmp.append(eval_id_m[i])\n",
    "    tmp.append(best_KNN_m.predict(eval_desc_m[i]))\n",
    "    tab_res_m.append(tmp)\n",
    "get_my_csv(\"projet-1-resultats_eval-LABADY_GOJAK.csv\", tab_res_b)\n",
    "get_my_csv(\"projet-1-resultats_eval_multi-LABADY_GOJAK.csv\", tab_res_m)"
   ]
  },
  {
   "cell_type": "code",
   "execution_count": null,
   "metadata": {},
   "outputs": [],
   "source": []
  }
 ],
 "metadata": {
  "kernelspec": {
   "display_name": "Python 3 (ipykernel)",
   "language": "python",
   "name": "python3"
  },
  "language_info": {
   "codemirror_mode": {
    "name": "ipython",
    "version": 3
   },
   "file_extension": ".py",
   "mimetype": "text/x-python",
   "name": "python",
   "nbconvert_exporter": "python",
   "pygments_lexer": "ipython3",
   "version": "3.9.7"
  }
 },
 "nbformat": 4,
 "nbformat_minor": 1
}
