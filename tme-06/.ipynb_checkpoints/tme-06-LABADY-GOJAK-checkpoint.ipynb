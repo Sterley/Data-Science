{
 "cells": [
  {
   "cell_type": "markdown",
   "metadata": {},
   "source": [
    "IA & Data science (LU3IN0226) -- 2021-2022\n",
    "--------\n",
    "*&copy; Equipe pédagogique: Vincent Guigue, Christophe Marsala, Olivier Schwander.*"
   ]
  },
  {
   "cell_type": "markdown",
   "metadata": {},
   "source": [
    "# TD-TME 6: les arbres de décision (catégoriel)\n",
    "\n",
    "L'objectif de ce notebook est d'implémenter un algorithme d'apprentissage supervisé qui travaille sur des données catégorielles, l'algorithme de construction d'arbres de décision vu en cours.\n"
   ]
  },
  {
   "cell_type": "markdown",
   "metadata": {},
   "source": [
    "<font size=\"+1\" color=\"RED\"><b>[Q]</b></font> **Indiquer dans la boîte ci-dessous vos noms et prénoms :**"
   ]
  },
  {
   "cell_type": "markdown",
   "metadata": {},
   "source": [
    "*LABADY Sterley Gilbert - GOJAK Zlatan*"
   ]
  },
  {
   "cell_type": "markdown",
   "metadata": {},
   "source": [
    "<font color=\"RED\" size=\"+1\"><b>[Q]</b></font> **Renommer ce fichier ipython**\n",
    "\n",
    "Tout en haut de cette page, cliquer sur <tt>tme-06</tt> et rajouter à la suite de <tt>tme-06</tt> les noms des membres du binômes séparés par un tiret.\n",
    "\n",
    "<font color=\"RED\" size=\"+1\">IMPORTANT: soumission de votre fichier final</font>\n",
    "\n",
    "**Nom à donner au fichier à poster** : *tme-06-Nom1_Nom2.ipynb* \n",
    "- *Nom1* et *Nom2* : noms des membres du binôme\n",
    "- ne pas compresser ou faire une archive: il faut rendre le fichier ipython tel quel, éventuellement, si vous avez d'autres fichiers vous les rendez séparément.\n",
    "\n",
    "**Echancier pour la soumission de votre compte-rendu:**\n",
    "- le compte-rendu d'une séance doit être remis obligatoirement <font color=\"RED\">avant la séance suivante</font>.\n",
    "\n",
    "**Le compte-rendu est soumis sur la page Moodle.**"
   ]
  },
  {
   "cell_type": "markdown",
   "metadata": {},
   "source": [
    "# Bilan des séances précédentes\n",
    "\n",
    "<div class=\"alert alert-block alert-warning\">\n",
    "Avant de vous attaquer à la partie suivante sur la visualisation des données, vous devez avoir terminé les TME précédents.\n",
    "Si vous ne les avez pas terminées : consacrer le début de ce TME à vous mettre à jour.    \n",
    "</div>    "
   ]
  },
  {
   "cell_type": "code",
   "execution_count": 1,
   "metadata": {},
   "outputs": [],
   "source": [
    "# Importation des librairies standards:\n",
    "import numpy as np\n",
    "import pandas as pd\n",
    "import matplotlib.pyplot as plt\n",
    "%matplotlib inline  \n",
    "\n",
    "# Importation de votre librairie iads:\n",
    "# La ligne suivante permet de préciser le chemin d'accès à la librairie iads\n",
    "import sys\n",
    "sys.path.append('../')   # iads doit être dans le répertoire frère du répertoire courant !\n",
    "\n",
    "# Importation de la librairie iads\n",
    "import iads as iads\n",
    "\n",
    "# importation de Classifiers\n",
    "from iads import Classifiers as cl\n",
    "\n",
    "# importation de utils\n",
    "from iads import utils as ut\n",
    "\n",
    "# commande TRES utile pour recharger automatiquement le code que vous modifiez dans les modules\n",
    "%load_ext autoreload\n",
    "%autoreload 2"
   ]
  },
  {
   "cell_type": "markdown",
   "metadata": {},
   "source": [
    "Afin de réaliser les premiers essais avec les fonctions que l'on va programmer, on charge la base sur les élections vue dans le cours 6 et que l'on a utilisé dans le notebook précédent (cf. le notebook précédent pour revoir les étapes qui suivent)."
   ]
  },
  {
   "cell_type": "code",
   "execution_count": 2,
   "metadata": {
    "scrolled": false
   },
   "outputs": [
    {
     "data": {
      "text/html": [
       "<div>\n",
       "<style scoped>\n",
       "    .dataframe tbody tr th:only-of-type {\n",
       "        vertical-align: middle;\n",
       "    }\n",
       "\n",
       "    .dataframe tbody tr th {\n",
       "        vertical-align: top;\n",
       "    }\n",
       "\n",
       "    .dataframe thead th {\n",
       "        text-align: right;\n",
       "    }\n",
       "</style>\n",
       "<table border=\"1\" class=\"dataframe\">\n",
       "  <thead>\n",
       "    <tr style=\"text-align: right;\">\n",
       "      <th></th>\n",
       "      <th>Adresse</th>\n",
       "      <th>Majeur?</th>\n",
       "      <th>Nationalite</th>\n",
       "      <th>Label</th>\n",
       "    </tr>\n",
       "  </thead>\n",
       "  <tbody>\n",
       "    <tr>\n",
       "      <th>0</th>\n",
       "      <td>Paris</td>\n",
       "      <td>oui</td>\n",
       "      <td>Francais</td>\n",
       "      <td>1</td>\n",
       "    </tr>\n",
       "    <tr>\n",
       "      <th>1</th>\n",
       "      <td>Paris</td>\n",
       "      <td>non</td>\n",
       "      <td>Francais</td>\n",
       "      <td>-1</td>\n",
       "    </tr>\n",
       "    <tr>\n",
       "      <th>2</th>\n",
       "      <td>Montpellier</td>\n",
       "      <td>oui</td>\n",
       "      <td>Italien</td>\n",
       "      <td>1</td>\n",
       "    </tr>\n",
       "    <tr>\n",
       "      <th>3</th>\n",
       "      <td>Paris</td>\n",
       "      <td>oui</td>\n",
       "      <td>Suisse</td>\n",
       "      <td>-1</td>\n",
       "    </tr>\n",
       "    <tr>\n",
       "      <th>4</th>\n",
       "      <td>Strasbourg</td>\n",
       "      <td>non</td>\n",
       "      <td>Italien</td>\n",
       "      <td>-1</td>\n",
       "    </tr>\n",
       "    <tr>\n",
       "      <th>5</th>\n",
       "      <td>Strasbourg</td>\n",
       "      <td>non</td>\n",
       "      <td>Francais</td>\n",
       "      <td>-1</td>\n",
       "    </tr>\n",
       "    <tr>\n",
       "      <th>6</th>\n",
       "      <td>Strasbourg</td>\n",
       "      <td>oui</td>\n",
       "      <td>Francais</td>\n",
       "      <td>1</td>\n",
       "    </tr>\n",
       "    <tr>\n",
       "      <th>7</th>\n",
       "      <td>Montpellier</td>\n",
       "      <td>oui</td>\n",
       "      <td>Suisse</td>\n",
       "      <td>-1</td>\n",
       "    </tr>\n",
       "  </tbody>\n",
       "</table>\n",
       "</div>"
      ],
      "text/plain": [
       "       Adresse Majeur? Nationalite  Label\n",
       "0        Paris     oui    Francais      1\n",
       "1        Paris     non    Francais     -1\n",
       "2  Montpellier     oui     Italien      1\n",
       "3        Paris     oui      Suisse     -1\n",
       "4   Strasbourg     non     Italien     -1\n",
       "5   Strasbourg     non    Francais     -1\n",
       "6   Strasbourg     oui    Francais      1\n",
       "7  Montpellier     oui      Suisse     -1"
      ]
     },
     "execution_count": 2,
     "metadata": {},
     "output_type": "execute_result"
    }
   ],
   "source": [
    "# Chargement des fichiers de données :\n",
    "\n",
    "elections_df = pd.read_csv(\"data/elections.csv\")\n",
    "elections_df"
   ]
  },
  {
   "cell_type": "code",
   "execution_count": 3,
   "metadata": {},
   "outputs": [
    {
     "data": {
      "text/plain": [
       "Index(['Adresse', 'Majeur?', 'Nationalite', 'Label'], dtype='object')"
      ]
     },
     "execution_count": 3,
     "metadata": {},
     "output_type": "execute_result"
    }
   ],
   "source": [
    "# Pour avoir le nom des colonnes de ce dataframe :\n",
    "elections_df.columns"
   ]
  },
  {
   "cell_type": "code",
   "execution_count": 4,
   "metadata": {},
   "outputs": [],
   "source": [
    "# Pour ne garder que le nom des variables de description (et pas la classe):\n",
    "# sous la forme d'une liste:\n",
    "\n",
    "elections_noms = [nom for nom in elections_df.columns if nom != 'Label']\n"
   ]
  },
  {
   "cell_type": "code",
   "execution_count": 5,
   "metadata": {},
   "outputs": [
    {
     "name": "stdout",
     "output_type": "stream",
     "text": [
      "Noms des features:  ['Adresse', 'Majeur?', 'Nationalite']\n"
     ]
    }
   ],
   "source": [
    "# Passer du dataframe à des arrays:\n",
    "elections_desc = np.array(elections_df[elections_noms])\n",
    "elections_label = np.array(elections_df['Label'])\n",
    "\n",
    "print(\"Noms des features: \",elections_noms)"
   ]
  },
  {
   "cell_type": "code",
   "execution_count": 6,
   "metadata": {},
   "outputs": [
    {
     "data": {
      "text/plain": [
       "array([ 1, -1, -1])"
      ]
     },
     "execution_count": 6,
     "metadata": {},
     "output_type": "execute_result"
    }
   ],
   "source": [
    "elections_label[elections_desc[:,0] == \"Paris\"]"
   ]
  },
  {
   "cell_type": "markdown",
   "metadata": {},
   "source": [
    "## Premières fonctions: entropie et classe majoritaire"
   ]
  },
  {
   "cell_type": "markdown",
   "metadata": {},
   "source": [
    "<font color=\"RED\" size=\"+1\">**[Q]**</font> Ecrire la fonction <code>classe_majoritaire</code> qui, étant donné un array de labels rend la classe majoritaire (celle qui est possédée par le plus grand nombre d'exemples donc...). En cas d'égalité, cette fonction rend la première classe rencontrée.\n",
    "\n",
    "**Remarque :** on utilise la fonction numpy `unique` qui permet d'obtenir les valeurs différentes d'un array ainsi que leur décompte."
   ]
  },
  {
   "cell_type": "code",
   "execution_count": 7,
   "metadata": {},
   "outputs": [
    {
     "name": "stdout",
     "output_type": "stream",
     "text": [
      "Valeurs différentes dans l'array           :  [-1  1]\n",
      "Décompte de chaque valeur (respectivement) :  [5 3]\n"
     ]
    }
   ],
   "source": [
    "# Exemple d'utilisation de la fonction numpy `unique`\n",
    "\n",
    "valeurs, nb_fois = np.unique(elections_label,return_counts=True)\n",
    "\n",
    "print(\"Valeurs différentes dans l'array           : \",valeurs)\n",
    "print(\"Décompte de chaque valeur (respectivement) : \",nb_fois)"
   ]
  },
  {
   "cell_type": "code",
   "execution_count": 8,
   "metadata": {},
   "outputs": [],
   "source": [
    "def classe_majoritaire(Y):\n",
    "    valeurs, nb_fois = np.unique(Y,return_counts=True)\n",
    "    return valeurs[np.argmax(nb_fois)]"
   ]
  },
  {
   "cell_type": "code",
   "execution_count": 9,
   "metadata": {},
   "outputs": [
    {
     "data": {
      "text/plain": [
       "-1"
      ]
     },
     "execution_count": 9,
     "metadata": {},
     "output_type": "execute_result"
    }
   ],
   "source": [
    "#Vérification sur nos données:\n",
    "classe_majoritaire(elections_label)"
   ]
  },
  {
   "cell_type": "markdown",
   "metadata": {},
   "source": [
    "### Entropie et gain d'information\n",
    "\n",
    "Pour sélectionner les attributs lors de la construction de l'arbre de décision, on utilise une mesure de gain d'information basée sur une entropie, comme cela a été présenté en cours.    \n",
    "   \n",
    "\n",
    "<div class=\"alert alert-block alert-warning\">\n",
    "    \n",
    "On note $\\{c_1, c_2,..., c_k\\}$, l'ensemble des valeurs de classes possibles dans un ensemble $Y$.\n",
    "\n",
    "On note $p_1$ la probabilité de la classe $c_1$ parmi $Y$, etc., et on note $P=(p_1, p_2,..., p_k)$ la distribution de probabilités sur les classes.\n",
    "\n",
    "L'**entropie de Shannon** de la distribution $P$ est donnée par:\n",
    "\n",
    "$ H_S(P) = -\\sum_{i=1}^{k} p_i \\log_k(p_i)$\n",
    "\n",
    "Le logarithme utilisé est le logarithme en base $k$ afin d'obtenir une valeur comprise entre $0$ et $1$ de l'entropie. \n",
    "\n",
    "</div>\n",
    "    \n",
    "<div class=\"alert alert-block alert-warning\">\n",
    "Remarque: pour nous, une *distribution de probabilités* est donc représentée par une **liste** $P=[p_1,...,p_k]$ de valeurs réelles telle que\n",
    "* pour tout $i=1,..., k$ : $0 \\leq p_i \\leq 1$\n",
    "* $\\sum_{i=1}^{k}p_i = 1$\n",
    "</div>    "
   ]
  },
  {
   "cell_type": "markdown",
   "metadata": {},
   "source": [
    "<font color=\"RED\" size=\"+1\"><b>[Q]</b></font> Ecrire la fonction `shannon` qui, étant donné une distribution de probabilités $P$ fournie sous la forme d'une liste de nombres, rend la valeur de $H_S(P)$, l'entropie de Shannon de $P$."
   ]
  },
  {
   "cell_type": "code",
   "execution_count": 10,
   "metadata": {},
   "outputs": [],
   "source": [
    "import math\n",
    "def shannon(P):\n",
    "    \"\"\" list[Number] -> float\n",
    "        Hypothèse: la somme des nombres de P vaut 1\n",
    "        P correspond à une distribution de probabilité\n",
    "        rend la valeur de l'entropie de Shannon correspondante\n",
    "    \"\"\"\n",
    "    if (len(P)==0 or len(P)==1):\n",
    "        return 0.0\n",
    "    somme=0\n",
    "    for p in P:\n",
    "        if p != 0:\n",
    "            somme+= p*math.log(p,len(P))\n",
    "    return - somme"
   ]
  },
  {
   "cell_type": "code",
   "execution_count": 11,
   "metadata": {},
   "outputs": [
    {
     "name": "stdout",
     "output_type": "stream",
     "text": [
      "H([1]) =  0.0\n",
      "H([1,0]) =  -0.0\n",
      "H([0.25, 0.25, 0.25, 0.25]) =  1.0\n",
      "H([0.7, 0.1, 0.2, 0.0]) =  0.5783898247235197\n",
      "H([1.0/3, 2.0/3]) =  0.9182958340544896\n"
     ]
    }
   ],
   "source": [
    "# Exemples d'utilisation:\n",
    "print(\"H([1]) = \", shannon([1]))\n",
    "print(\"H([1,0]) = \", shannon([1, 0]))\n",
    "print(\"H([0.25, 0.25, 0.25, 0.25]) = \", shannon([0.25, 0.25, 0.25, 0.25]))\n",
    "print(\"H([0.7, 0.1, 0.2, 0.0]) = \", shannon([0.7, 0.1, 0.2, 0.0]))\n",
    "print(\"H([1.0/3, 2.0/3]) = \", shannon([1.0/3, 2.0/3]))"
   ]
  },
  {
   "cell_type": "markdown",
   "metadata": {},
   "source": [
    "<font color=\"RED\" size=\"+1\">**[Q]**</font> Tracer, à l'aide de la fonction `plot`, la courbe donnant la valeur de `shannon([p, 1-p])` en fonction de `p`."
   ]
  },
  {
   "cell_type": "code",
   "execution_count": 12,
   "metadata": {},
   "outputs": [],
   "source": [
    "# Pour plot, on a besoin de la librairie suivante:\n",
    "import matplotlib.pyplot as plt"
   ]
  },
  {
   "cell_type": "code",
   "execution_count": 13,
   "metadata": {},
   "outputs": [
    {
     "data": {
      "image/png": "[encoded data removed]",
      "text/plain": [
       "<Figure size 432x288 with 1 Axes>"
      ]
     },
     "metadata": {
      "needs_background": "light"
     },
     "output_type": "display_data"
    }
   ],
   "source": [
    "#Graphique des donnees\n",
    "P = []\n",
    "i = 0.0\n",
    "while i <= 1.0:\n",
    "    P.append(i)\n",
    "    i += 0.001\n",
    "    \n",
    "lst2 = []\n",
    "for p in P:\n",
    "    lst2.append(shannon([p, 1-p]))\n",
    "\n",
    "x = np.array(P)\n",
    "y = np.array(lst2)\n",
    "plt.xlabel(\"p\")\n",
    "plt.ylabel(\"shannon([p, 1-p]\")\n",
    "plt.plot(x, y)\n",
    "plt.show() # affiche la figure a l'ecran"
   ]
  },
  {
   "cell_type": "markdown",
   "metadata": {},
   "source": [
    "<font color=\"RED\" size=\"+1\">**[Q]**</font> A l'aide de la fonction <code>shannon</code>, écrire la fonction <code>entropie</code> qui prend un ensemble de labels en argument et renvoie l'entropie de la distribution des classes dans cet ensemble."
   ]
  },
  {
   "cell_type": "code",
   "execution_count": 14,
   "metadata": {},
   "outputs": [],
   "source": [
    "def entropie(Y):\n",
    "    \"\"\" Y : (array) : ensemble de labels de classe\n",
    "        rend l'entropie de l'ensemble Y\n",
    "    \"\"\"\n",
    "    \n",
    "    Etiq = []\n",
    "    dict_etiq = {}\n",
    "    for lab in Y:\n",
    "        if lab not in Etiq:\n",
    "            Etiq.append(lab)\n",
    "            dict_etiq[lab] = 1\n",
    "        else:\n",
    "            tmp = dict_etiq[lab]\n",
    "            tmp += 1\n",
    "            dict_etiq[lab] = tmp\n",
    "    \n",
    "    P = []\n",
    "    for etiq in dict_etiq.items():\n",
    "        P.append(etiq[1]/len(Y))\n",
    "    return shannon(P)"
   ]
  },
  {
   "cell_type": "code",
   "execution_count": 15,
   "metadata": {},
   "outputs": [
    {
     "data": {
      "text/plain": [
       "0.9544340029249649"
      ]
     },
     "execution_count": 15,
     "metadata": {},
     "output_type": "execute_result"
    }
   ],
   "source": [
    "# Exemple sur nos données :\n",
    "entropie(elections_label)"
   ]
  },
  {
   "cell_type": "markdown",
   "metadata": {},
   "source": [
    "## Arbres de décision\n",
    "\n",
    "Dans cette partie, on réalise l'implémentation de l'algorithme de construction d'un arbre de décision."
   ]
  },
  {
   "cell_type": "markdown",
   "metadata": {},
   "source": [
    "### Représentation d'un arbre en Python"
   ]
  },
  {
   "cell_type": "markdown",
   "metadata": {},
   "source": [
    "<div class=\"alert alert-block alert-warning\">\n",
    "\n",
    "\n",
    "Pour représenter un arbre en Python, on a besoin de définir une structure de données adéquate. \n",
    "\n",
    "Un arbre de décision est défini par des **noeuds** qui sont de 2 types :\n",
    "- *noeud interne* : c'est un noeud qui est associé à un attribut (ie. une variable de description des exemples) et qui possède des fils qui sont aussi des noeuds. \n",
    "- *feuille* : c'est un noeud qui est associé à un label de la classe et qui a la particularité de ne pas avoir de descendants.\n",
    "\n",
    "Pour représenter des noeuds, nous définissons la classe `NoeudCategoriel` suivante:\n",
    "    \n",
    "</div>"
   ]
  },
  {
   "cell_type": "code",
   "execution_count": 19,
   "metadata": {},
   "outputs": [
    {
     "ename": "SyntaxError",
     "evalue": "invalid syntax (2118458485.py, line 2)",
     "output_type": "error",
     "traceback": [
      "\u001b[0;36m  File \u001b[0;32m\"/tmp/ipykernel_14648/2118458485.py\"\u001b[0;36m, line \u001b[0;32m2\u001b[0m\n\u001b[0;31m    import python-graphviz as gv\u001b[0m\n\u001b[0m                 ^\u001b[0m\n\u001b[0;31mSyntaxError\u001b[0m\u001b[0;31m:\u001b[0m invalid syntax\n"
     ]
    }
   ],
   "source": [
    "# La librairie suivante est nécessaire pour l'affichage graphique de l'arbre:\n",
    "import graphviz as gv\n",
    "\n",
    "# Pour plus de détails : https://graphviz.readthedocs.io/en/stable/manual.html\n",
    "\n",
    "# Eventuellement, il peut être nécessaire d'installer graphviz sur votre compte:\n",
    "# pip install --user --install-option=\"--prefix=\" -U graphviz\n",
    "\n",
    "class NoeudCategoriel:\n",
    "    \"\"\" Classe pour représenter des noeuds d'un arbre de décision\n",
    "    \"\"\"\n",
    "    def __init__(self, num_att=-1, nom=''):\n",
    "        \"\"\" Constructeur: il prend en argument\n",
    "            - num_att (int) : le numéro de l'attribut auquel il se rapporte: de 0 à ...\n",
    "              si le noeud se rapporte à la classe, le numéro est -1, on n'a pas besoin\n",
    "              de le préciser\n",
    "            - nom (str) : une chaîne de caractères donnant le nom de l'attribut si\n",
    "              il est connu (sinon, on ne met rien et le nom sera donné de façon \n",
    "              générique: \"att_Numéro\")\n",
    "        \"\"\"\n",
    "        self.attribut = num_att    # numéro de l'attribut\n",
    "        if (nom == ''):            # son nom si connu\n",
    "            self.nom_attribut = 'att_'+str(num_att)\n",
    "        else:\n",
    "            self.nom_attribut = nom \n",
    "        self.Les_fils = None       # aucun fils à la création, ils seront ajoutés\n",
    "        self.classe   = None       # valeur de la classe si c'est une feuille\n",
    "        \n",
    "    def est_feuille(self):\n",
    "        \"\"\" rend True si l'arbre est une feuille \n",
    "            c'est une feuille s'il n'a aucun fils\n",
    "        \"\"\"\n",
    "        return self.Les_fils == None\n",
    "    \n",
    "    def ajoute_fils(self, valeur, Fils):\n",
    "        \"\"\" valeur : valeur de l'attribut de ce noeud qui doit être associée à Fils\n",
    "                     le type de cette valeur dépend de la base\n",
    "            Fils (NoeudCategoriel) : un nouveau fils pour ce noeud\n",
    "            Les fils sont stockés sous la forme d'un dictionnaire:\n",
    "            Dictionnaire {valeur_attribut : NoeudCategoriel}\n",
    "        \"\"\"\n",
    "        if self.Les_fils == None:\n",
    "            self.Les_fils = dict()\n",
    "        self.Les_fils[valeur] = Fils\n",
    "        # Rem: attention, on ne fait aucun contrôle, la nouvelle association peut\n",
    "        # écraser une association existante.\n",
    "    \n",
    "    def ajoute_feuille(self,classe):\n",
    "        \"\"\" classe: valeur de la classe\n",
    "            Ce noeud devient un noeud feuille\n",
    "        \"\"\"\n",
    "        self.classe    = classe\n",
    "        self.Les_fils  = None   # normalement, pas obligatoire ici, c'est pour être sûr\n",
    "        \n",
    "    def classifie(self, exemple):\n",
    "        \"\"\" exemple : numpy.array\n",
    "            rend la classe de l'exemple (pour nous, soit +1, soit -1 en général)\n",
    "            on rend la valeur 0 si l'exemple ne peut pas être classé (cf. les questions\n",
    "            posées en fin de ce notebook)\n",
    "        \"\"\"\n",
    "        if self.est_feuille():\n",
    "            return self.classe\n",
    "        if exemple[self.attribut] in self.Les_fils:\n",
    "            # descente récursive dans le noeud associé à la valeur de l'attribut\n",
    "            # pour cet exemple:\n",
    "            return self.Les_fils[exemple[self.attribut]].classifie(exemple)\n",
    "        else:\n",
    "            # Cas particulier : on ne trouve pas la valeur de l'exemple dans la liste des\n",
    "            # fils du noeud... Voir la fin de ce notebook pour essayer de résoudre ce mystère...\n",
    "            print('\\t*** Warning: attribut ',self.nom_attribut,' -> Valeur inconnue: ',exemple[self.attribut])\n",
    "            return 0\n",
    "    \n",
    "    def to_graph(self, g, prefixe='A'):\n",
    "        \"\"\" construit une représentation de l'arbre pour pouvoir l'afficher graphiquement\n",
    "            Cette fonction ne nous intéressera pas plus que ça, elle ne sera donc pas expliquée            \n",
    "        \"\"\"\n",
    "        if self.est_feuille():\n",
    "            g.node(prefixe,str(self.classe),shape='box')\n",
    "        else:\n",
    "            g.node(prefixe, self.nom_attribut)\n",
    "            i =0\n",
    "            for (valeur, sous_arbre) in self.Les_fils.items():\n",
    "                sous_arbre.to_graph(g,prefixe+str(i))\n",
    "                g.edge(prefixe,prefixe+str(i), valeur)\n",
    "                i = i+1        \n",
    "        return g\n"
   ]
  },
  {
   "cell_type": "code",
   "execution_count": null,
   "metadata": {},
   "outputs": [],
   "source": [
    "# Exemple d'utilisation: \n",
    "un_noeud0= NoeudCategoriel() \n",
    "un_noeud0.ajoute_feuille(-1)\n",
    "\n",
    "un_noeud1= NoeudCategoriel()\n",
    "un_noeud1.ajoute_feuille(+1)\n",
    "\n",
    "un_noeud2= NoeudCategoriel(0,\"nom2\")\n",
    "un_noeud2.ajoute_fils(\"val1\",un_noeud0)\n",
    "un_noeud2.ajoute_fils(\"val2\",un_noeud1)\n",
    "\n",
    "un_noeud3 = NoeudCategoriel(1,\"nom3\")\n",
    "un_noeud3.ajoute_fils(\"val3\",un_noeud2)\n",
    "\n",
    "# L'affichage se fait en 2 temps\n",
    "# 1) on initialise un graphe orienté :\n",
    "gtree = gv.Digraph(format='png')\n",
    "# 2) on le rempli en appelant la méthode de la classe NoeudCategoriel\n",
    "un_noeud3.to_graph(gtree)"
   ]
  },
  {
   "cell_type": "code",
   "execution_count": null,
   "metadata": {},
   "outputs": [],
   "source": [
    "un_noeud3"
   ]
  },
  {
   "cell_type": "markdown",
   "metadata": {},
   "source": [
    "### Construction de l'arbre de décision"
   ]
  },
  {
   "cell_type": "markdown",
   "metadata": {},
   "source": [
    "<div class=\"alert alert-block alert-info\">\n",
    "\n",
    "Comme on l'a vu dans le cours, pour construire un arbre de décision à partir d'un dataset ($X$, $Y$), il faut réaliser les étapes suivantes:\n",
    "1. calculer l'entropie de Shannon de l'ensemble des classes $Y$, on la note $H_S(Y)$.\n",
    "2. si $H_S(Y)$ est inférieure à epsilon (qui est un réel positif donné en paramètre de l'algorithme), alors construire une feuille avec cet ensemble, la classe associée à cette feuille est la classe majoritaire dans $Y$.\n",
    "3. sinon, pour chaque attribut $X_j$ qui décrit les exemples de $X$,\n",
    "    - 3.1. pour chacune des valeurs $v_{jl}$ de $X_j$ construire l'ensemble des exemples de $X$ qui possède la valeur $v_{jl}$ ainsi que l'ensemble de leurs labels.\n",
    "    - 3.2. calculer l'entropie conditionnelle de Shannon de la classe relativement à l'attribut $X_j$. On note $H_S(Y|X_j)$ cette entropie.\n",
    "4. l'attribut $X_{best}$ qui **maximise le gain d'information** est choisi pour constituer un nouveau noeud $\\eta$ de l'arbre de décision:\n",
    "    - 4.1. chaque valeur de $X_{best}$ est utilisée pour décomposer ($X$, $Y$) en autant de datasets que $X_{best}$ possède de valeurs: chaque dataset est séparant $X$ et $Y$ selon la valeur prise pour $X_{best}$. \n",
    "    - 4.2. pour chaque dataset obtenu on reprend en 1 pour construire chacun des fils de $\\eta$. \n",
    "\n",
    "\n",
    "On rappelle que le gain d'information est:\n",
    "\n",
    "$$I_S(X_j,Y) = H_S(Y) - H_S(Y|X_j)$$\n",
    "\n",
    "On peut remarquer que chercher l'attribut $X_j$ qui **maximise le gain d'information** $I_S(X_j,Y)$ est équivalent à chercher $X_j$ qui **minimise l'entropie** $H_S(Y|X_j)$ (car le terme $H_S(Y)$ reste constant pour les calculs pour tous les attributs).\n",
    "   \n",
    "</div>"
   ]
  },
  {
   "cell_type": "markdown",
   "metadata": {},
   "source": [
    "<font color=\"RED\" size=\"+1\">**[Q]**</font> Compléter la fonction `construit_AD`suivante afin qu'elle permette de construire un arbre de décision. Cette fonction rend un `NoeudCategoriel` qui correspond à l'arbre construit pour le dataset $(X,Y)$ donné."
   ]
  },
  {
   "cell_type": "code",
   "execution_count": null,
   "metadata": {},
   "outputs": [],
   "source": [
    "import sys \n",
    "\n",
    "def construit_AD(X,Y,epsilon,LNoms = []):\n",
    "    \"\"\" X,Y : dataset\n",
    "        epsilon : seuil d'entropie pour le critère d'arrêt \n",
    "        LNoms : liste des noms de features (colonnes) de description \n",
    "    \"\"\"\n",
    "    \n",
    "    # dimensions de X:\n",
    "    (nb_lig, nb_col) = X.shape\n",
    "    \n",
    "    entropie_classe = entropie(Y)\n",
    "    \n",
    "    if (entropie_classe <= epsilon) or  (nb_lig <=1):\n",
    "        # ARRET : on crée une feuille\n",
    "        noeud = NoeudCategoriel(-1,\"Label\")\n",
    "        noeud.ajoute_feuille(classe_majoritaire(Y))\n",
    "    else:\n",
    "        gain_max = sys.float_info.min  # meilleur gain trouvé (initalisé à -infinie)\n",
    "        i_best = -1         # numéro du meilleur attribut\n",
    "        Xbest_valeurs = None\n",
    "        \n",
    "        #############\n",
    "        \n",
    "        # COMPLETER CETTE PARTIE : ELLE DOIT PERMETTRE D'OBTENIR DANS\n",
    "        # i_best : le numéro de l'attribut qui maximise le gain d'information.  En cas d'égalité,\n",
    "        #          le premier rencontré est choisi.\n",
    "        # gain_max : la plus grande valeur de gain d'information trouvée.\n",
    "        # Xbest_valeurs : la liste des valeurs que peut prendre l'attribut i_best\n",
    "        #\n",
    "        # Il est donc nécessaire ici de parcourir tous les attributs et de calculer\n",
    "        # la valeur du gain d'information pour chaque attribut.\n",
    "        \n",
    "        tabHS = []\n",
    "        # pour chaque attribut  𝑋𝑗  qui décrit les exemples de  𝑋 \n",
    "        for i in range(len(LNoms)):\n",
    "            Xj = LNoms[i]\n",
    "            \n",
    "            # pour chacune des valeurs 𝑣𝑗𝑙 de 𝑋𝑗\n",
    "            valeurs_vjl = []\n",
    "            dict_valeurs_vjl = {}\n",
    "            for exemp in X:\n",
    "                if exemp[i] not in valeurs_vjl:\n",
    "                    valeurs_vjl.append(exemp[i])\n",
    "                    # construire l'ensemble des exemples de  𝑋  qui possède la valeur  𝑣𝑗𝑙  \n",
    "                    # ainsi que l'ensemble de leurs labels\n",
    "                    vjl = exemp[i]\n",
    "                    exemples_X = []\n",
    "                    leurs_labels = []\n",
    "                    for j in range(len(X)):\n",
    "                        ex = X[j]\n",
    "                        if vjl in ex:\n",
    "                            exemples_X.append(ex)\n",
    "                            leurs_labels.append(Y[j])\n",
    "                    dict_valeurs_vjl[vjl] = [exemples_X, leurs_labels]\n",
    "            \n",
    "            # calculer l'entropie conditionnelle de Shannon de la classe relativement à l'attribut  𝑋𝑗 . \n",
    "            # On note  𝐻𝑆(𝑌|𝑋𝑗)  cette entropie.\n",
    "            HSy_xj = 0\n",
    "            for vjl in valeurs_vjl:\n",
    "                #nbocc = nbr de ligne il a apparait\n",
    "                entro_vjl = entropie(dict_valeurs_vjl[vjl][1]) * (len(dict_valeurs_vjl[vjl][0])/len(Y))\n",
    "                HSy_xj = HSy_xj + entro_vjl\n",
    "            tabHS.append(HSy_xj)\n",
    "        \n",
    "        i_best = tabHS.index(min(tabHS))\n",
    "        gain_max = tabHS[i_best]\n",
    "        Xbest_valeurs = np.unique(X[:, i_best])\n",
    "            \n",
    "        if len(LNoms)>0:  # si on a des noms de features\n",
    "            noeud = NoeudCategoriel(i_best,LNoms[i_best])    \n",
    "        else:\n",
    "            noeud = NoeudCategoriel(i_best)\n",
    "        for v in Xbest_valeurs:\n",
    "            noeud.ajoute_fils(v,construit_AD(X[X[:,i_best]==v], Y[X[:,i_best]==v],epsilon,LNoms))\n",
    "    return noeud"
   ]
  },
  {
   "cell_type": "markdown",
   "metadata": {},
   "source": [
    "La classe pour implémenter un arbre de décision dérive de la classe `Classifier`. Elle utilise la fonction `construit_AD` dans sa méthode `train` pour construire un arbre à partir d'un dataset donné.\n",
    "\n",
    "<font color=\"RED\" size=\"+1\">**[Q]**</font> Compléter la classe suivante en donnant le code des méthodes `train` et `predict`.\n",
    "\n",
    "**Remarque :** la méthode `score` ne fera rien dans notre cas, on verra dans un autre notebook comment on pourrait la définir."
   ]
  },
  {
   "cell_type": "code",
   "execution_count": null,
   "metadata": {},
   "outputs": [],
   "source": [
    "class ClassifierArbreDecision(cl.Classifier):\n",
    "    \"\"\" Classe pour représenter un classifieur par arbre de décision\n",
    "    \"\"\"\n",
    "    \n",
    "    def __init__(self, input_dimension, epsilon, LNoms=[]):\n",
    "        \"\"\" Constructeur\n",
    "            Argument:\n",
    "                - intput_dimension (int) : dimension de la description des exemples\n",
    "                - epsilon (float) : paramètre de l'algorithme (cf. explications précédentes)\n",
    "                - LNoms : Liste des noms de dimensions (si connues)\n",
    "            Hypothèse : input_dimension > 0\n",
    "        \"\"\"\n",
    "        self.dimension = input_dimension\n",
    "        self.epsilon = epsilon\n",
    "        self.LNoms = LNoms\n",
    "        # l'arbre est manipulé par sa racine qui sera un Noeud\n",
    "        self.racine = None\n",
    "        \n",
    "    def toString(self):\n",
    "        \"\"\"  -> str\n",
    "            rend le nom du classifieur avec ses paramètres\n",
    "        \"\"\"\n",
    "        return 'ClassifierArbreDecision ['+str(self.dimension) + '] eps='+str(self.epsilon)\n",
    "        \n",
    "    def train(self, desc_set, label_set):\n",
    "        \"\"\" Permet d'entrainer le modele sur l'ensemble donné\n",
    "            desc_set: ndarray avec des descriptions\n",
    "            label_set: ndarray avec les labels correspondants\n",
    "            Hypothèse: desc_set et label_set ont le même nombre de lignes\n",
    "        \"\"\"        \n",
    "        self.racine = construit_AD(desc_set, label_set, self.epsilon, self.LNoms)\n",
    "    \n",
    "    def score(self,x):\n",
    "        \"\"\" rend le score de prédiction sur x (valeur réelle)\n",
    "            x: une description\n",
    "        \"\"\"\n",
    "        # cette méthode ne fait rien dans notre implémentation :\n",
    "        pass\n",
    "    \n",
    "    def predict(self, x):\n",
    "        \"\"\" x (array): une description d'exemple\n",
    "            rend la prediction sur x             \n",
    "        \"\"\"\n",
    "        ##################\n",
    "        ## COMPLETER ICI !\n",
    "        ##################\n",
    "        return self.racine.classifie(x)\n",
    "\n",
    "    def accuracy(self, desc_set, label_set):  # Version propre à aux arbres\n",
    "        \"\"\" Permet de calculer la qualité du système sur un dataset donné\n",
    "            desc_set: ndarray avec des descriptions\n",
    "            label_set: ndarray avec les labels correspondants\n",
    "            Hypothèse: desc_set et label_set ont le même nombre de lignes\n",
    "        \"\"\"\n",
    "        nb_ok=0\n",
    "        for i in range(desc_set.shape[0]):\n",
    "            if self.predict(desc_set[i,:]) == label_set[i]:\n",
    "                nb_ok=nb_ok+1\n",
    "        acc=nb_ok/(desc_set.shape[0] * 1.0)\n",
    "        return acc\n",
    "\n",
    "    def affiche(self,GTree):\n",
    "        \"\"\" affichage de l'arbre sous forme graphique\n",
    "            Cette fonction modifie GTree par effet de bord\n",
    "        \"\"\"\n",
    "        self.racine.to_graph(GTree)"
   ]
  },
  {
   "cell_type": "markdown",
   "metadata": {},
   "source": [
    "### Premières expérimentations"
   ]
  },
  {
   "cell_type": "markdown",
   "metadata": {},
   "source": [
    "Apprentissage d'un arbre de décision avec la base sur les élections :"
   ]
  },
  {
   "cell_type": "code",
   "execution_count": null,
   "metadata": {},
   "outputs": [],
   "source": [
    "# Initialiation d'un arbre pour le dataset Elections:\n",
    "arbre_elections = ClassifierArbreDecision(len(elections_noms), 0.0, elections_noms)\n",
    "\n",
    "# Construction de l'arbre de décision à partir du dataset Elections\n",
    "arbre_elections.train(elections_desc,elections_label)\n",
    "\n",
    "# Construction de la représentation graphique (affichage)\n",
    "graphe_arbre_elections = gv.Digraph(format='png')\n",
    "arbre_elections.affiche(graphe_arbre_elections)\n",
    "\n",
    "# Affichage du graphe obtenu:\n",
    "graphe_arbre_elections"
   ]
  },
  {
   "cell_type": "markdown",
   "metadata": {},
   "source": [
    "Pour classer un nouvel exemple avec un arbre de décision, on utilise la méthode <code>predict</code> qui utilise la méthode `classifie` de la classe `NoeudCategoriel` pour classer un nouvel exemple et renvoyer le label +1 ou -1 selon le cas. \n",
    "\n",
    "Exemple de classification d'un exemple avec l'arbre obtenu :"
   ]
  },
  {
   "cell_type": "code",
   "execution_count": null,
   "metadata": {},
   "outputs": [],
   "source": [
    "arbre_elections.predict(elections_desc[0,:])"
   ]
  },
  {
   "cell_type": "markdown",
   "metadata": {},
   "source": [
    "Classification d'un nouvel exemple qui n'appartient à pas au dataset d'apprentissage :"
   ]
  },
  {
   "cell_type": "code",
   "execution_count": null,
   "metadata": {},
   "outputs": [],
   "source": [
    "# Rappel : elections_noms = ['Adresse', 'Majeur?', 'Nationalite']\n",
    "arbre_elections.predict(np.array(['Paris','oui','Italien']))"
   ]
  },
  {
   "cell_type": "markdown",
   "metadata": {},
   "source": [
    "Mesure de l'accuracy de l'arbre obtenu :"
   ]
  },
  {
   "cell_type": "code",
   "execution_count": null,
   "metadata": {},
   "outputs": [],
   "source": [
    "arbre_elections.accuracy(elections_desc,elections_label)"
   ]
  },
  {
   "cell_type": "markdown",
   "metadata": {},
   "source": [
    "## Première expérimentation avec la base Mushrooms"
   ]
  },
  {
   "cell_type": "markdown",
   "metadata": {},
   "source": [
    "Pour mieux évaluer notre nouvel algortithme d'apprentissage, on va utiliser la base des champignons `mushrooms-1000.csv` qui est fournie dans le répertoire `data`. Ce dataset est une version réduite du dataset original qui comporte plus de 8000 champignons.\n",
    "\n",
    "\n",
    "\n",
    "Dans le répertorie `data/` fourni avec ce sujet, vous pouvez trouver 6 fichiers `mushrooms-****.csv`. Ces 6 fichiers ont été obtenus en partitionant le fichier orignal `mushrooms.csv` que l'on peut trouver sur internet. Dans cette base originale, il y a 8124 champignons recensés. Ce fichier original a été découpé en 5 fichiers de 1400 champignons et 1 fichier de 1124 champignons. L'union de ces 6 fichiers permet donc de recomposer le fichier original.\n"
   ]
  },
  {
   "cell_type": "markdown",
   "metadata": {},
   "source": [
    "### Construction d'un arbre de décision\n",
    "\n",
    "Dans un premier temps, on vérifie que notre algorithme d'apprentissage fonctionne correctement en construisant un arbre de décision à partir d'un des fichiers.\n",
    "\n",
    "On commence par charger le fichier dans un dataframe et on le transforme en dataset (cf. le notebook précédent pour le détail des étapes):"
   ]
  },
  {
   "cell_type": "code",
   "execution_count": null,
   "metadata": {},
   "outputs": [],
   "source": [
    "# Chargement des fichiers de données sur les mushrooms:\n",
    "\n",
    "# On commence par travailler sur un des fichier \"mushrooms-1400\"\n",
    "mushrooms_df = pd.read_csv(\"data/mushrooms-1400-1.csv\")\n",
    "\n",
    "mushrooms_df\n"
   ]
  },
  {
   "cell_type": "code",
   "execution_count": null,
   "metadata": {},
   "outputs": [],
   "source": [
    "# Noms des colonnes:\n",
    "# Dans ce dataframe, la colonne de classe s'appelle 'class'\n",
    "mushrooms_noms = [nom for nom in mushrooms_df.columns if nom != 'class']"
   ]
  },
  {
   "cell_type": "code",
   "execution_count": null,
   "metadata": {},
   "outputs": [],
   "source": [
    "# Passer du dataframe à un dataset (2 arrays):\n",
    "mushrooms_1_desc = np.array(mushrooms_df[mushrooms_noms])\n",
    "mushrooms_1_label = np.array(mushrooms_df['class'])\n",
    "mushrooms_1_label"
   ]
  },
  {
   "cell_type": "markdown",
   "metadata": {},
   "source": [
    "Ensuite, on construit l'arbre de décision correspondant.\n",
    "\n",
    "<font color=\"RED\" size=\"+1\">**[Q]**</font> Compléter le code suivant pour apprendre l'arbre et l'afficher ensuite:"
   ]
  },
  {
   "cell_type": "code",
   "execution_count": null,
   "metadata": {},
   "outputs": [],
   "source": [
    "# construction de l'arbre de décision à partir du dataset Elections:\n",
    "arbre_mushrooms_1 = ClassifierArbreDecision(len(mushrooms_noms), 0.0, mushrooms_noms)\n",
    "arbre_mushrooms_1.train(mushrooms_1_desc, mushrooms_1_label)\n",
    "\n",
    "# Affichage du graphe obtenu:\n",
    "gr_arbre_mushrooms_1 = gv.Digraph(format='png')\n",
    "arbre_mushrooms_1.affiche(gr_arbre_mushrooms_1)"
   ]
  },
  {
   "cell_type": "code",
   "execution_count": null,
   "metadata": {},
   "outputs": [],
   "source": [
    "gr_arbre_mushrooms_1"
   ]
  },
  {
   "cell_type": "markdown",
   "metadata": {},
   "source": [
    "### Classification avec l'arbre de décision obtenu"
   ]
  },
  {
   "cell_type": "markdown",
   "metadata": {},
   "source": [
    "Exemple de classification d'un exemple:"
   ]
  },
  {
   "cell_type": "code",
   "execution_count": null,
   "metadata": {},
   "outputs": [],
   "source": [
    "arbre_mushrooms_1.predict(mushrooms_1_desc[0,:])"
   ]
  },
  {
   "cell_type": "markdown",
   "metadata": {},
   "source": [
    "Calcul de l'accuracy sur le dataset d'apprentissage :"
   ]
  },
  {
   "cell_type": "code",
   "execution_count": null,
   "metadata": {},
   "outputs": [],
   "source": [
    "arbre_mushrooms_1.accuracy(mushrooms_1_desc,mushrooms_1_label)"
   ]
  },
  {
   "cell_type": "markdown",
   "metadata": {},
   "source": [
    "<font color=\"RED\" size=\"+1\">**[Q]**</font> Toujours avec le dataset `mushrooms_1` précédent, construire un nouvel arbre de décision en utilisant comme valeur d'epsilon : $0.25$.\n",
    "\n",
    "Que constatez-vous ? "
   ]
  },
  {
   "cell_type": "code",
   "execution_count": null,
   "metadata": {},
   "outputs": [],
   "source": [
    "#################################\n",
    "\n",
    "# A COMPLETER \n",
    "\n",
    "#################################\n",
    "\n",
    "\n",
    "#################################\n",
    "# Affichage du graphe obtenu:\n",
    "gr_arbre_mushrooms_1_bis"
   ]
  },
  {
   "cell_type": "code",
   "execution_count": null,
   "metadata": {},
   "outputs": [],
   "source": [
    "# Résultat attendu :"
   ]
  },
  {
   "cell_type": "markdown",
   "metadata": {},
   "source": [
    "<font color=\"RED\" size=\"+1\">**[Q]**</font> Déterminer l'accuracy de ce nouvel arbre.\n",
    "\n",
    "**Attention**: votre fonction `predict` doit pouvoir tenir compte du fait que les classes ne sont pas égales à +1 ou -1..."
   ]
  },
  {
   "cell_type": "code",
   "execution_count": null,
   "metadata": {},
   "outputs": [],
   "source": [
    "arbre_mushrooms_1_bis.accuracy(mushrooms_1_desc,mushrooms_1_label)"
   ]
  },
  {
   "cell_type": "markdown",
   "metadata": {},
   "source": [
    "<font color=\"RED\" size=\"+1\">**[Q]**</font> D'après ces résultats, de ces 2 arbres, quel est celui qui a sur-appris ? "
   ]
  },
  {
   "cell_type": "code",
   "execution_count": null,
   "metadata": {},
   "outputs": [],
   "source": []
  },
  {
   "cell_type": "markdown",
   "metadata": {},
   "source": [
    "Pour expérimenter un classifieur, on a vu qu'il est nécessaire de posséder deux datasets distincts: \n",
    "- le dataset d'apprentissage, qui se compose donc de 2 arrays: `train_desc` et `train_labels`\n",
    "- et le dataset de test, qui se compose de 2 arrays: `test_desc` et `test_labels`. \n",
    "\n",
    "\n",
    "On commence par construire le classifieur avec le dataset d'apprentisage, puis, on évalue sa performance en 2 temps :\n",
    "- on calcule son **accuracy d'apprentissage** qui est l'accuracy obtenue sur le dataset d'apprentissage \n",
    "- on calcule son **accuracy de test** qui est l'accuracy obtenue sur le dataset de test\n",
    "\n",
    "La première valeur mesure combien le classifieur a appris les données d'apprentissage, la deuxième valeur mesure sa performance en généralisation."
   ]
  },
  {
   "cell_type": "markdown",
   "metadata": {},
   "source": [
    "## Plus d'expérimentations avec la base Mushrooms\n",
    "\n",
    "On décide maintenant d'évaluer plus en détail ce nouvel algorithme. On souhaite:\n",
    "1. construire un arbre avec chaque fichier `mushrooms-1400-*.csv` \n",
    "2. pour chaque arbre construit, évaluer son accuracy:\n",
    "    - sur le dataset d'apprentissage\n",
    "    - sur les 4 autres fichiers `mushrooms-1400-*.csv`\n",
    "    - sur le fichier `mushrooms-1124.csv`\n",
    "    \n",
    "    \n",
    "**Remarque :** normalement, tous ces tests devraient pouvoir se faire dans un temps raisonnable, dans le cas contraire, faites les un par un."
   ]
  },
  {
   "cell_type": "code",
   "execution_count": null,
   "metadata": {},
   "outputs": [],
   "source": [
    "# Chargement des fichiers mushrooms et apprentissage\n",
    "mushrooms_desc = []\n",
    "mushrooms_label = []\n",
    "arbres_mushrooms = []\n",
    "for j in range(0,5):\n",
    "    mushrooms_df = pd.read_csv(\"data/mushrooms-1400-\"+str(j+1)+\".csv\")\n",
    "    mushrooms_noms = [nom for nom in mushrooms_df.columns if nom != 'class']\n",
    "    # Passer du dataframe à un dataset (2 arrays):\n",
    "    mushrooms_desc.append(np.array(mushrooms_df[mushrooms_noms]))\n",
    "    mushrooms_label.append(np.array(mushrooms_df['class']))\n",
    "    \n",
    "    # Apprentissage\n",
    "    arbres_mushrooms.append(ClassifierArbreDecision(len(mushrooms_noms), 0.0, mushrooms_noms))\n",
    "    arbres_mushrooms[j].train(mushrooms_desc[j],mushrooms_label[j])"
   ]
  },
  {
   "cell_type": "code",
   "execution_count": null,
   "metadata": {},
   "outputs": [],
   "source": [
    "# Fichier qui va nous servir à tester\n",
    "mushrooms_df = pd.read_csv(\"data/mushrooms-1124.csv\")\n",
    "\n",
    "# Passer du dataframe à un dataset (2 arrays):\n",
    "mushrooms_test_desc = np.array(mushrooms_df[mushrooms_noms])\n",
    "mushrooms_test_label = np.array(mushrooms_df['class'])"
   ]
  },
  {
   "cell_type": "markdown",
   "metadata": {},
   "source": [
    "<font color=\"RED\" size=\"+1\">**[Q]**</font> Donner les instructions permettant d'obtenir le taux de bonne classification (accuracy) de chacun des arbres construits sur les autres bases, sur le modèle suivant:"
   ]
  },
  {
   "cell_type": "code",
   "execution_count": null,
   "metadata": {},
   "outputs": [],
   "source": []
  },
  {
   "cell_type": "markdown",
   "metadata": {},
   "source": [
    "<font color=\"RED\" size=\"+1\">**[Q]**</font> On peut remarquer que pour certains arbres, la classification de certains exemples produit un warning.\n",
    "En étudiant les exemples suivant et leur classification par le premier arbre, expliquez pourquoi un warning se produit.\n",
    "Est-ce normal ? Pourrait-on trouver une solution pour ces cas-là ?\n"
   ]
  },
  {
   "cell_type": "code",
   "execution_count": null,
   "metadata": {},
   "outputs": [],
   "source": [
    "for i in range(0,1400):\n",
    "    prediction = arbres_mushrooms[0].predict(mushrooms_desc[3][i,:])\n",
    "    if prediction == 0:\n",
    "        print(i,\" --> pas de prédiction, le label rendu est \",prediction)\n"
   ]
  },
  {
   "cell_type": "markdown",
   "metadata": {},
   "source": [
    "<font color=\"RED\" size=\"+1\">**[Q]**</font> Regrouper les 6 fichiers mushrooms et réaliser une évaluation de l'algorithme de construction d'arbres en utilisant votre fonction `crossvalidation`."
   ]
  },
  {
   "cell_type": "code",
   "execution_count": null,
   "metadata": {},
   "outputs": [],
   "source": []
  },
  {
   "cell_type": "markdown",
   "metadata": {},
   "source": [
    "## Evaluation \"Leave one out\"\n",
    "\n",
    "Nous avons vu 2 approches pour évaluer un algorithme d'apprentissage:\n",
    "- la mesure de l'accuracy sur les données d'apprentissage et sur une base de test\n",
    "- la réalisation d'une validation croisée pour mesurer l'accuracy et l'écart type (pour évaluer la robustesse) mesurées sur les données utilisées pour apprendre le modèle (données d'apprentissage) et sur des données qui n'ont pas été utilisées pour mettre au point le modèle (données test)\n",
    "\n",
    "La première approche est généralement utilisée pour comparer plusieurs modèles en regardant leur accuracy sur les mêmes données de test.\n",
    "La deuxième approche est, elle, utilisée pour aussi obtenir une certaine évaluation de la robustesse du modèle appris et garantir que l'accuracy mesurée n'est pas simplement obtenue sur \"un cas particulier\" de données.\n",
    "\n",
    "Cependant, il existe des cas où le dataset que l'on possède ne contient pas beaucoup d'exemples. Dans ce cas, deux possibilités:\n",
    "- il y a suffisament de données dans le dataset pour réaliser une validation croisée en réduisant le nombre de paquets (ie. prendre 4 paquets au lieu de 10 par exemple);\n",
    "- il y a trop peu d'exemples pour qu'une validation croisée soit réalisable, on utilise alors une autre technique d'évaluation: l'évaluation par **leave one out** (littéralement: \"en mettre un de côté\"). "
   ]
  },
  {
   "cell_type": "markdown",
   "metadata": {},
   "source": [
    "L'évaluation par **leave one out** procède ainsi: à partir d'un dataset $DS$ contenant $n$ exemples:\n",
    "1. sortir un des exemples de $DS$ et le mettre de côté\n",
    "2. apprendre le modèle sur les $n-1$ exemples non sortis de $DS$\n",
    "3. tester le modèle appris sur l'exemple mis de côté: il est soit bien classé (on marque 1 pt), soit mal classé (on marque 0 pt)\n",
    "4. prendre le $DS$ original est choisir un exemple différent à mettre de côté\n",
    "5. reprendre en 1) \n",
    "\n",
    "Les étapes 4) et 5) sont faites jusqu'à ce que tous les exemples de $DS$ aient été sortis à leur tour de $DS$.\n",
    "A la fin, l'accuracy de test du modèle est alors donnée par le ratio $\\frac{\\mbox{nombre de points marqués}}{n}$.\n",
    "\n",
    "<i>Remarque</i>: le plus simple dans cette approche, c'est de sortir les exemples en les prenant dans l'ordre dans lequel ils sont dans le dataset."
   ]
  },
  {
   "cell_type": "markdown",
   "metadata": {},
   "source": [
    "<font color=\"RED\" size=\"+1\">**[Q]**</font> Ecrire la fonction `leave_one_out` qui prend en argument un algorithme d'apprentissage $C$ et un dataset $DS$ et rend l'accuracy de test de $C$ calculée sur $DS$ en utilisant l'évaluation par leave one out."
   ]
  },
  {
   "cell_type": "code",
   "execution_count": null,
   "metadata": {},
   "outputs": [],
   "source": [
    "import copy  # pour utiliser copy.deepcopy() qui permet de faire des copies de C \n",
    "\n",
    "# ------------------------ A COMPLETER :\n",
    "def leave_one_out(C, DS):\n",
    "    \"\"\" Classifieur * tuple[array, array] -> float\n",
    "    \"\"\"\n",
    "    \n",
    "    raise NotImplementedError(\"Please Implement this method\")"
   ]
  },
  {
   "cell_type": "markdown",
   "metadata": {},
   "source": [
    "Tester avec la base sur les élections européennes:"
   ]
  },
  {
   "cell_type": "code",
   "execution_count": null,
   "metadata": {},
   "outputs": [],
   "source": [
    "# Chargement et préparation du dataset:\n",
    "elections_df = pd.read_csv(\"data/elections.csv\")\n",
    "elections_noms = [nom for nom in elections_df.columns if nom != 'Label']\n",
    "\n",
    "data_desc = np.array(elections_df[elections_noms])\n",
    "data_label = np.array(elections_df['Label'])\n",
    "\n",
    "# Lancement du leave one out\n",
    "leave_one_out(ClassifierArbreDecision(len(elections_noms), 0.1, elections_noms),(data_desc,data_label))"
   ]
  },
  {
   "cell_type": "markdown",
   "metadata": {},
   "source": [
    "## Comparaison avec d'autres algorithmes\n",
    "\n",
    "Afin de pouvoir comparer les autres classifieurs que l'on a vu précédemment avec celui par arbres de décision, il faut les adapter afin qu'ils puissent traiter les données catégorielles.\n",
    "\n"
   ]
  },
  {
   "cell_type": "markdown",
   "metadata": {},
   "source": [
    "### Travailler avec des données catégorielles"
   ]
  },
  {
   "cell_type": "markdown",
   "metadata": {},
   "source": [
    "Dans le cours 6, nous avons vu comment adapter des données catégorielles en données numériques, à l'aide d'un encodage one-hot. Afin de pouvoir utiliser les classifieurs (numériques) que nous avons déjà implémentés nous utiliserons cet encodage."
   ]
  },
  {
   "cell_type": "markdown",
   "metadata": {},
   "source": [
    "<font color=\"RED\" size=\"+1\">**[Q]**</font> Transformer les données \"élections\" pour créer un dataset essentiellement numérique. Pour cela, appliquer le one-hot encoding sur les attributs catégoriels."
   ]
  },
  {
   "cell_type": "markdown",
   "metadata": {},
   "source": [
    "<font color=\"RED\" size=\"+1\">**[Q]**</font> Appliquer divers classifieurs écrits dans les TME précédent sur cette base ainsi catégorisée."
   ]
  },
  {
   "cell_type": "markdown",
   "metadata": {},
   "source": [
    "<font color=\"RED\" size=\"+1\">**[Q]**</font> Adapter la transformation précédente pour réaliser un ensemble d'expérimentations sur la base mushrooms permettant de comparer les résultats obtenus avec un classifieur par arbres de décision et les classifieurs numériques que l'on a définis dans les séances précédentes."
   ]
  },
  {
   "cell_type": "code",
   "execution_count": null,
   "metadata": {},
   "outputs": [],
   "source": []
  },
  {
   "cell_type": "code",
   "execution_count": null,
   "metadata": {},
   "outputs": [],
   "source": []
  },
  {
   "cell_type": "code",
   "execution_count": null,
   "metadata": {},
   "outputs": [],
   "source": []
  },
  {
   "cell_type": "code",
   "execution_count": null,
   "metadata": {},
   "outputs": [],
   "source": []
  }
 ],
 "metadata": {
  "kernelspec": {
   "display_name": "Python 3 (ipykernel)",
   "language": "python",
   "name": "python3"
  },
  "language_info": {
   "codemirror_mode": {
    "name": "ipython",
    "version": 3
   },
   "file_extension": ".py",
   "mimetype": "text/x-python",
   "name": "python",
   "nbconvert_exporter": "python",
   "pygments_lexer": "ipython3",
   "version": "3.9.7"
  }
 },
 "nbformat": 4,
 "nbformat_minor": 1
}
